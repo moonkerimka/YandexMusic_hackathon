{
 "cells": [
  {
   "cell_type": "code",
   "execution_count": 34,
   "id": "98f85b35",
   "metadata": {
    "ExecuteTime": {
     "end_time": "2023-10-31T14:11:45.673655Z",
     "start_time": "2023-10-31T14:11:45.560806Z"
    }
   },
   "outputs": [],
   "source": [
    "import re\n",
    "import torch\n",
    "import transformers\n",
    "import pandas as pd\n",
    "import numpy as np\n",
    "\n",
    "from sklearn.model_selection import train_test_split, GridSearchCV, cross_val_predict\n",
    "from sklearn import metrics\n",
    "from sklearn.linear_model import LogisticRegression\n",
    "\n",
    "from transformers import BertModel, BertForMaskedLM\n",
    "from transformers import BertTokenizer\n",
    "from tqdm import notebook\n",
    "\n",
    "from numpy import asarray\n",
    "from numpy import savetxt"
   ]
  },
  {
   "cell_type": "code",
   "execution_count": 2,
   "id": "636a303b",
   "metadata": {
    "ExecuteTime": {
     "end_time": "2023-10-31T13:33:04.275311Z",
     "start_time": "2023-10-31T13:33:02.333916Z"
    }
   },
   "outputs": [
    {
     "name": "stdout",
     "output_type": "stream",
     "text": [
      "Requirement already satisfied: matplotlib in d:\\programs\\anaconda3\\envs\\gpu2\\lib\\site-packages (3.8.0)\n",
      "Requirement already satisfied: contourpy>=1.0.1 in d:\\programs\\anaconda3\\envs\\gpu2\\lib\\site-packages (from matplotlib) (1.1.1)\n",
      "Requirement already satisfied: cycler>=0.10 in d:\\programs\\anaconda3\\envs\\gpu2\\lib\\site-packages (from matplotlib) (0.12.1)\n",
      "Requirement already satisfied: fonttools>=4.22.0 in d:\\programs\\anaconda3\\envs\\gpu2\\lib\\site-packages (from matplotlib) (4.43.1)\n",
      "Requirement already satisfied: kiwisolver>=1.0.1 in d:\\programs\\anaconda3\\envs\\gpu2\\lib\\site-packages (from matplotlib) (1.4.5)\n",
      "Requirement already satisfied: numpy<2,>=1.21 in d:\\programs\\anaconda3\\envs\\gpu2\\lib\\site-packages (from matplotlib) (1.26.1)\n",
      "Requirement already satisfied: packaging>=20.0 in d:\\programs\\anaconda3\\envs\\gpu2\\lib\\site-packages (from matplotlib) (23.1)\n",
      "Requirement already satisfied: pillow>=6.2.0 in d:\\programs\\anaconda3\\envs\\gpu2\\lib\\site-packages (from matplotlib) (10.1.0)\n",
      "Requirement already satisfied: pyparsing>=2.3.1 in d:\\programs\\anaconda3\\envs\\gpu2\\lib\\site-packages (from matplotlib) (3.1.1)\n",
      "Requirement already satisfied: python-dateutil>=2.7 in d:\\programs\\anaconda3\\envs\\gpu2\\lib\\site-packages (from matplotlib) (2.8.2)\n",
      "Requirement already satisfied: six>=1.5 in d:\\programs\\anaconda3\\envs\\gpu2\\lib\\site-packages (from python-dateutil>=2.7->matplotlib) (1.16.0)\n",
      "Note: you may need to restart the kernel to use updated packages.\n"
     ]
    }
   ],
   "source": [
    "pip install matplotlib"
   ]
  },
  {
   "cell_type": "code",
   "execution_count": 3,
   "id": "f4123d2e",
   "metadata": {
    "ExecuteTime": {
     "end_time": "2023-10-31T13:33:04.788481Z",
     "start_time": "2023-10-31T13:33:04.277320Z"
    }
   },
   "outputs": [
    {
     "name": "stdout",
     "output_type": "stream",
     "text": [
      "<class 'pandas.core.frame.DataFrame'>\n",
      "RangeIndex: 71769 entries, 0 to 71768\n",
      "Data columns (total 7 columns):\n",
      " #   Column    Non-Null Count  Dtype         \n",
      "---  ------    --------------  -----         \n",
      " 0   track_id  71768 non-null  object        \n",
      " 1   dttm      71768 non-null  datetime64[ns]\n",
      " 2   title     71768 non-null  object        \n",
      " 3   language  21969 non-null  object        \n",
      " 4   isrc      71455 non-null  object        \n",
      " 5   genres    71768 non-null  object        \n",
      " 6   duration  71768 non-null  float64       \n",
      "dtypes: datetime64[ns](1), float64(1), object(5)\n",
      "memory usage: 3.8+ MB\n"
     ]
    },
    {
     "data": {
      "text/html": [
       "<div>\n",
       "<style scoped>\n",
       "    .dataframe tbody tr th:only-of-type {\n",
       "        vertical-align: middle;\n",
       "    }\n",
       "\n",
       "    .dataframe tbody tr th {\n",
       "        vertical-align: top;\n",
       "    }\n",
       "\n",
       "    .dataframe thead th {\n",
       "        text-align: right;\n",
       "    }\n",
       "</style>\n",
       "<table border=\"1\" class=\"dataframe\">\n",
       "  <thead>\n",
       "    <tr style=\"text-align: right;\">\n",
       "      <th></th>\n",
       "      <th>track_id</th>\n",
       "      <th>dttm</th>\n",
       "      <th>title</th>\n",
       "      <th>language</th>\n",
       "      <th>isrc</th>\n",
       "      <th>genres</th>\n",
       "      <th>duration</th>\n",
       "    </tr>\n",
       "  </thead>\n",
       "  <tbody>\n",
       "    <tr>\n",
       "      <th>39871</th>\n",
       "      <td>e0e268e5ef7845eca17676d2b4366e3c</td>\n",
       "      <td>2021-11-14 23:40:14</td>\n",
       "      <td>Oi Sumida</td>\n",
       "      <td>None</td>\n",
       "      <td>QZNJY2171986</td>\n",
       "      <td>[FOLK, LATINFOLK]</td>\n",
       "      <td>188360.0</td>\n",
       "    </tr>\n",
       "    <tr>\n",
       "      <th>38674</th>\n",
       "      <td>226ce12e2514be4e2617e12f3f0eae91</td>\n",
       "      <td>2021-11-01 19:54:13</td>\n",
       "      <td>Lifted Veil</td>\n",
       "      <td>None</td>\n",
       "      <td>QZPJ32116924</td>\n",
       "      <td>[ALTERNATIVE, CLASSICAL, CLASSICALMUSIC]</td>\n",
       "      <td>138190.0</td>\n",
       "    </tr>\n",
       "    <tr>\n",
       "      <th>27011</th>\n",
       "      <td>38237508ef2da89e6c1fad7fa33d5a3a</td>\n",
       "      <td>2021-07-06 16:38:30</td>\n",
       "      <td>Zaplakace tvoji stari</td>\n",
       "      <td>None</td>\n",
       "      <td>ATAJ12100475</td>\n",
       "      <td>[FOLK]</td>\n",
       "      <td>214410.0</td>\n",
       "    </tr>\n",
       "    <tr>\n",
       "      <th>32788</th>\n",
       "      <td>4494e62aef568f952a9cb06295be0c26</td>\n",
       "      <td>2021-09-04 00:05:18</td>\n",
       "      <td>Maluquito Pero Sabroso</td>\n",
       "      <td>None</td>\n",
       "      <td>QZNJV2194969</td>\n",
       "      <td>[FOLK, LATINFOLK]</td>\n",
       "      <td>279250.0</td>\n",
       "    </tr>\n",
       "    <tr>\n",
       "      <th>19206</th>\n",
       "      <td>705df018633eaeececf4bab1d3134e9d</td>\n",
       "      <td>2020-04-22 10:53:55</td>\n",
       "      <td>Синие реки неба</td>\n",
       "      <td>None</td>\n",
       "      <td>RUA1H2079691</td>\n",
       "      <td>[NEWAGE, ELECTRONICS]</td>\n",
       "      <td>354440.0</td>\n",
       "    </tr>\n",
       "  </tbody>\n",
       "</table>\n",
       "</div>"
      ],
      "text/plain": [
       "                               track_id                dttm  \\\n",
       "39871  e0e268e5ef7845eca17676d2b4366e3c 2021-11-14 23:40:14   \n",
       "38674  226ce12e2514be4e2617e12f3f0eae91 2021-11-01 19:54:13   \n",
       "27011  38237508ef2da89e6c1fad7fa33d5a3a 2021-07-06 16:38:30   \n",
       "32788  4494e62aef568f952a9cb06295be0c26 2021-09-04 00:05:18   \n",
       "19206  705df018633eaeececf4bab1d3134e9d 2020-04-22 10:53:55   \n",
       "\n",
       "                        title language          isrc  \\\n",
       "39871               Oi Sumida     None  QZNJY2171986   \n",
       "38674             Lifted Veil     None  QZPJ32116924   \n",
       "27011   Zaplakace tvoji stari     None  ATAJ12100475   \n",
       "32788  Maluquito Pero Sabroso     None  QZNJV2194969   \n",
       "19206         Синие реки неба     None  RUA1H2079691   \n",
       "\n",
       "                                         genres  duration  \n",
       "39871                         [FOLK, LATINFOLK]  188360.0  \n",
       "38674  [ALTERNATIVE, CLASSICAL, CLASSICALMUSIC]  138190.0  \n",
       "27011                                    [FOLK]  214410.0  \n",
       "32788                         [FOLK, LATINFOLK]  279250.0  \n",
       "19206                     [NEWAGE, ELECTRONICS]  354440.0  "
      ]
     },
     "metadata": {},
     "output_type": "display_data"
    }
   ],
   "source": [
    "meta = pd.read_json('D:/programs/projects/yandex_music/meta.json', lines= True, convert_dates=['dttm'])\n",
    "meta.info()\n",
    "display(meta.sample(5))"
   ]
  },
  {
   "cell_type": "code",
   "execution_count": 4,
   "id": "b077fbd1",
   "metadata": {
    "ExecuteTime": {
     "end_time": "2023-10-31T13:33:10.809638Z",
     "start_time": "2023-10-31T13:33:04.790491Z"
    }
   },
   "outputs": [
    {
     "name": "stdout",
     "output_type": "stream",
     "text": [
      "[2021 2018 2020 2022 2019 1999 2001 2000 2017 2016 2014 2012 2008 2005\n",
      " 2015 2009 1982 1930 1933 1977 1936 1935 1950 1962 2004 1970 1966 2006\n",
      " 2010 1996 1995 2023 2007 2011 2003 2013 2002 1924 1981 1973 1960 1971\n",
      " 1965 1938 1985 1998 1963 1990 1994 1987 1980 1978 1984 1988 1976 1974\n",
      " 1979 1992 1989 1991 1986 1997 1983 1951 1993 1925 1942 1926 1969 1968\n",
      " 1967 1975 1958 1954 1957 1944 1964]\n"
     ]
    }
   ],
   "source": [
    "meta['isrc'] = meta['isrc'].str.replace(\"-\",\"\")\n",
    "meta.drop_duplicates(subset = 'isrc', ignore_index = True)\n",
    "meta = meta.dropna(subset=['isrc']).reset_index(drop=True)\n",
    "meta['isrc_year'] = meta['isrc'].str[5:7]\n",
    "meta = meta.astype({'isrc_year':'int'})\n",
    "for i in range(len(meta.index)):\n",
    "    if meta.loc[i,'isrc_year']>23:\n",
    "        meta.loc[i,'isrc_year'] = meta.loc[i,'isrc_year']+1900\n",
    "    else:\n",
    "        meta.loc[i,'isrc_year'] = meta.loc[i,'isrc_year']+2000\n",
    "print(meta['isrc_year'].unique())"
   ]
  },
  {
   "cell_type": "code",
   "execution_count": 5,
   "id": "3d80b4e4",
   "metadata": {
    "ExecuteTime": {
     "end_time": "2023-10-31T13:33:10.974179Z",
     "start_time": "2023-10-31T13:33:10.810646Z"
    }
   },
   "outputs": [
    {
     "name": "stdout",
     "output_type": "stream",
     "text": [
      "<class 'pandas.core.frame.DataFrame'>\n",
      "RangeIndex: 71597 entries, 0 to 71596\n",
      "Data columns (total 3 columns):\n",
      " #   Column             Non-Null Count  Dtype \n",
      "---  ------             --------------  ----- \n",
      " 0   original_track_id  4821 non-null   object\n",
      " 1   track_id           71597 non-null  object\n",
      " 2   track_remake_type  71597 non-null  object\n",
      "dtypes: object(3)\n",
      "memory usage: 1.6+ MB\n"
     ]
    },
    {
     "data": {
      "text/html": [
       "<div>\n",
       "<style scoped>\n",
       "    .dataframe tbody tr th:only-of-type {\n",
       "        vertical-align: middle;\n",
       "    }\n",
       "\n",
       "    .dataframe tbody tr th {\n",
       "        vertical-align: top;\n",
       "    }\n",
       "\n",
       "    .dataframe thead th {\n",
       "        text-align: right;\n",
       "    }\n",
       "</style>\n",
       "<table border=\"1\" class=\"dataframe\">\n",
       "  <thead>\n",
       "    <tr style=\"text-align: right;\">\n",
       "      <th></th>\n",
       "      <th>original_track_id</th>\n",
       "      <th>track_id</th>\n",
       "      <th>track_remake_type</th>\n",
       "    </tr>\n",
       "  </thead>\n",
       "  <tbody>\n",
       "    <tr>\n",
       "      <th>33459</th>\n",
       "      <td>None</td>\n",
       "      <td>5dcc0f689345bbd21ac362048efc8c2e</td>\n",
       "      <td>COVER</td>\n",
       "    </tr>\n",
       "    <tr>\n",
       "      <th>28132</th>\n",
       "      <td>None</td>\n",
       "      <td>4f2df62727dac46964ee1ac7b5d73202</td>\n",
       "      <td>COVER</td>\n",
       "    </tr>\n",
       "    <tr>\n",
       "      <th>45365</th>\n",
       "      <td>None</td>\n",
       "      <td>20e1c7e496f5847ad272fed13bd96fee</td>\n",
       "      <td>COVER</td>\n",
       "    </tr>\n",
       "    <tr>\n",
       "      <th>32639</th>\n",
       "      <td>None</td>\n",
       "      <td>a4f822c05a7aeb63eb4fa71d89992162</td>\n",
       "      <td>COVER</td>\n",
       "    </tr>\n",
       "    <tr>\n",
       "      <th>20533</th>\n",
       "      <td>None</td>\n",
       "      <td>ff1aab2df99403622618b79cb53de4e8</td>\n",
       "      <td>COVER</td>\n",
       "    </tr>\n",
       "  </tbody>\n",
       "</table>\n",
       "</div>"
      ],
      "text/plain": [
       "      original_track_id                          track_id track_remake_type\n",
       "33459              None  5dcc0f689345bbd21ac362048efc8c2e             COVER\n",
       "28132              None  4f2df62727dac46964ee1ac7b5d73202             COVER\n",
       "45365              None  20e1c7e496f5847ad272fed13bd96fee             COVER\n",
       "32639              None  a4f822c05a7aeb63eb4fa71d89992162             COVER\n",
       "20533              None  ff1aab2df99403622618b79cb53de4e8             COVER"
      ]
     },
     "metadata": {},
     "output_type": "display_data"
    }
   ],
   "source": [
    "#load covers\n",
    "covers = pd.read_json('D:/programs/projects/yandex_music/covers.json', lines= True)\n",
    "covers.info()\n",
    "display(covers.sample(5))"
   ]
  },
  {
   "cell_type": "code",
   "execution_count": 6,
   "id": "cd421293",
   "metadata": {
    "ExecuteTime": {
     "end_time": "2023-10-31T13:33:11.190993Z",
     "start_time": "2023-10-31T13:33:10.975187Z"
    }
   },
   "outputs": [
    {
     "name": "stdout",
     "output_type": "stream",
     "text": [
      "<class 'pandas.core.frame.DataFrame'>\n",
      "RangeIndex: 11414 entries, 0 to 11413\n",
      "Data columns (total 3 columns):\n",
      " #   Column    Non-Null Count  Dtype \n",
      "---  ------    --------------  ----- \n",
      " 0   lyricId   11414 non-null  object\n",
      " 1   text      11414 non-null  object\n",
      " 2   track_id  11414 non-null  object\n",
      "dtypes: object(3)\n",
      "memory usage: 267.6+ KB\n"
     ]
    },
    {
     "data": {
      "text/html": [
       "<div>\n",
       "<style scoped>\n",
       "    .dataframe tbody tr th:only-of-type {\n",
       "        vertical-align: middle;\n",
       "    }\n",
       "\n",
       "    .dataframe tbody tr th {\n",
       "        vertical-align: top;\n",
       "    }\n",
       "\n",
       "    .dataframe thead th {\n",
       "        text-align: right;\n",
       "    }\n",
       "</style>\n",
       "<table border=\"1\" class=\"dataframe\">\n",
       "  <thead>\n",
       "    <tr style=\"text-align: right;\">\n",
       "      <th></th>\n",
       "      <th>lyricId</th>\n",
       "      <th>text</th>\n",
       "      <th>track_id</th>\n",
       "    </tr>\n",
       "  </thead>\n",
       "  <tbody>\n",
       "    <tr>\n",
       "      <th>8533</th>\n",
       "      <td>94ac2378097294fa5848a5765b00af92</td>\n",
       "      <td>I usually love sleeping all alone\\nThis time a...</td>\n",
       "      <td>555491769c20ade34ea5ad1ebb64ad13</td>\n",
       "    </tr>\n",
       "    <tr>\n",
       "      <th>967</th>\n",
       "      <td>a413b6bb7149590bf14fe3989b59d93a</td>\n",
       "      <td>The world goes on fire and no one can save me ...</td>\n",
       "      <td>48c92168c92e23bb669b63af07109621</td>\n",
       "    </tr>\n",
       "    <tr>\n",
       "      <th>7013</th>\n",
       "      <td>db43fa3c9d6c9b1bdfe70d01f5f711a7</td>\n",
       "      <td>Let's go\\nSteve walks warily down the street\\n...</td>\n",
       "      <td>a0594d86cbae168e895929cd7ad81fcc</td>\n",
       "    </tr>\n",
       "    <tr>\n",
       "      <th>4197</th>\n",
       "      <td>69976f1d48e8cecd9fed70db811ac5fd</td>\n",
       "      <td>Boys seem to like the girls\\nWho laugh at anyt...</td>\n",
       "      <td>645dcb5a07d803954b6f76305400dfdb</td>\n",
       "    </tr>\n",
       "    <tr>\n",
       "      <th>408</th>\n",
       "      <td>a7ce73123cb9e54d066ed28e0266f1df</td>\n",
       "      <td>И снова в одинокого я сижу на кухне\\nТут так т...</td>\n",
       "      <td>3fe278e5d42ae39a1704e0a54f32b55c</td>\n",
       "    </tr>\n",
       "  </tbody>\n",
       "</table>\n",
       "</div>"
      ],
      "text/plain": [
       "                               lyricId  \\\n",
       "8533  94ac2378097294fa5848a5765b00af92   \n",
       "967   a413b6bb7149590bf14fe3989b59d93a   \n",
       "7013  db43fa3c9d6c9b1bdfe70d01f5f711a7   \n",
       "4197  69976f1d48e8cecd9fed70db811ac5fd   \n",
       "408   a7ce73123cb9e54d066ed28e0266f1df   \n",
       "\n",
       "                                                   text  \\\n",
       "8533  I usually love sleeping all alone\\nThis time a...   \n",
       "967   The world goes on fire and no one can save me ...   \n",
       "7013  Let's go\\nSteve walks warily down the street\\n...   \n",
       "4197  Boys seem to like the girls\\nWho laugh at anyt...   \n",
       "408   И снова в одинокого я сижу на кухне\\nТут так т...   \n",
       "\n",
       "                              track_id  \n",
       "8533  555491769c20ade34ea5ad1ebb64ad13  \n",
       "967   48c92168c92e23bb669b63af07109621  \n",
       "7013  a0594d86cbae168e895929cd7ad81fcc  \n",
       "4197  645dcb5a07d803954b6f76305400dfdb  \n",
       "408   3fe278e5d42ae39a1704e0a54f32b55c  "
      ]
     },
     "metadata": {},
     "output_type": "display_data"
    }
   ],
   "source": [
    "#load lyrics\n",
    "lyrics = pd.read_json('D:/programs/projects/yandex_music/lyrics.json', lines= True)\n",
    "lyrics.info()\n",
    "display(lyrics.sample(5))"
   ]
  },
  {
   "cell_type": "code",
   "execution_count": 7,
   "id": "41ff99d1",
   "metadata": {
    "ExecuteTime": {
     "end_time": "2023-10-31T13:33:11.196771Z",
     "start_time": "2023-10-31T13:33:11.192005Z"
    }
   },
   "outputs": [
    {
     "data": {
      "text/plain": [
       "1137"
      ]
     },
     "execution_count": 7,
     "metadata": {},
     "output_type": "execute_result"
    }
   ],
   "source": [
    "lyrics.duplicated('track_id').sum()"
   ]
  },
  {
   "cell_type": "code",
   "execution_count": 8,
   "id": "29ff4f57",
   "metadata": {
    "ExecuteTime": {
     "end_time": "2023-10-31T13:33:11.203176Z",
     "start_time": "2023-10-31T13:33:11.197776Z"
    }
   },
   "outputs": [],
   "source": [
    "lyrics.drop_duplicates(subset=['track_id'], inplace=True)"
   ]
  },
  {
   "cell_type": "code",
   "execution_count": 9,
   "id": "4c2ea810",
   "metadata": {
    "ExecuteTime": {
     "end_time": "2023-10-31T13:33:11.208944Z",
     "start_time": "2023-10-31T13:33:11.204186Z"
    }
   },
   "outputs": [
    {
     "data": {
      "text/plain": [
       "0"
      ]
     },
     "execution_count": 9,
     "metadata": {},
     "output_type": "execute_result"
    }
   ],
   "source": [
    "lyrics.duplicated('track_id').sum()"
   ]
  },
  {
   "cell_type": "code",
   "execution_count": 10,
   "id": "e92af21f",
   "metadata": {
    "ExecuteTime": {
     "end_time": "2023-10-31T13:33:11.492396Z",
     "start_time": "2023-10-31T13:33:11.211955Z"
    }
   },
   "outputs": [
    {
     "name": "stdout",
     "output_type": "stream",
     "text": [
      "<class 'pandas.core.frame.DataFrame'>\n",
      "RangeIndex: 71287 entries, 0 to 71286\n",
      "Data columns (total 12 columns):\n",
      " #   Column             Non-Null Count  Dtype         \n",
      "---  ------             --------------  -----         \n",
      " 0   track_id           71287 non-null  object        \n",
      " 1   dttm               71287 non-null  datetime64[ns]\n",
      " 2   title              71287 non-null  object        \n",
      " 3   language           21821 non-null  object        \n",
      " 4   isrc               71287 non-null  object        \n",
      " 5   genres             71287 non-null  object        \n",
      " 6   duration           71287 non-null  float64       \n",
      " 7   isrc_year          71287 non-null  float64       \n",
      " 8   original_track_id  4729 non-null   object        \n",
      " 9   track_remake_type  71287 non-null  object        \n",
      " 10  lyricId            10063 non-null  object        \n",
      " 11  text               10063 non-null  object        \n",
      "dtypes: datetime64[ns](1), float64(2), object(9)\n",
      "memory usage: 6.5+ MB\n"
     ]
    },
    {
     "data": {
      "text/html": [
       "<div>\n",
       "<style scoped>\n",
       "    .dataframe tbody tr th:only-of-type {\n",
       "        vertical-align: middle;\n",
       "    }\n",
       "\n",
       "    .dataframe tbody tr th {\n",
       "        vertical-align: top;\n",
       "    }\n",
       "\n",
       "    .dataframe thead th {\n",
       "        text-align: right;\n",
       "    }\n",
       "</style>\n",
       "<table border=\"1\" class=\"dataframe\">\n",
       "  <thead>\n",
       "    <tr style=\"text-align: right;\">\n",
       "      <th></th>\n",
       "      <th>track_id</th>\n",
       "      <th>dttm</th>\n",
       "      <th>title</th>\n",
       "      <th>language</th>\n",
       "      <th>isrc</th>\n",
       "      <th>genres</th>\n",
       "      <th>duration</th>\n",
       "      <th>isrc_year</th>\n",
       "      <th>original_track_id</th>\n",
       "      <th>track_remake_type</th>\n",
       "      <th>lyricId</th>\n",
       "      <th>text</th>\n",
       "    </tr>\n",
       "  </thead>\n",
       "  <tbody>\n",
       "    <tr>\n",
       "      <th>14740</th>\n",
       "      <td>10db760680100d5c7aa06ed4f8e25a50</td>\n",
       "      <td>2022-08-13 01:24:58</td>\n",
       "      <td>Buồn Của Anh</td>\n",
       "      <td>VI</td>\n",
       "      <td>VNA0M1905679</td>\n",
       "      <td>[POP]</td>\n",
       "      <td>274760.0</td>\n",
       "      <td>2019.0</td>\n",
       "      <td>None</td>\n",
       "      <td>COVER</td>\n",
       "      <td>NaN</td>\n",
       "      <td>NaN</td>\n",
       "    </tr>\n",
       "    <tr>\n",
       "      <th>68330</th>\n",
       "      <td>e6ba694bfb9bd10ff7270e9e993c6caa</td>\n",
       "      <td>2019-02-14 21:00:00</td>\n",
       "      <td>Can't Buy Me Love</td>\n",
       "      <td>EN</td>\n",
       "      <td>AURH01900022</td>\n",
       "      <td>[POP]</td>\n",
       "      <td>203390.0</td>\n",
       "      <td>2019.0</td>\n",
       "      <td>None</td>\n",
       "      <td>COVER</td>\n",
       "      <td>NaN</td>\n",
       "      <td>NaN</td>\n",
       "    </tr>\n",
       "    <tr>\n",
       "      <th>64814</th>\n",
       "      <td>1acb7b94b9dd42d0bd7cc215f467f151</td>\n",
       "      <td>2021-04-02 16:24:04</td>\n",
       "      <td>Amor e Ilusao</td>\n",
       "      <td>None</td>\n",
       "      <td>QZGLS2164190</td>\n",
       "      <td>[FOLK, LATINFOLK]</td>\n",
       "      <td>162060.0</td>\n",
       "      <td>2021.0</td>\n",
       "      <td>None</td>\n",
       "      <td>COVER</td>\n",
       "      <td>NaN</td>\n",
       "      <td>NaN</td>\n",
       "    </tr>\n",
       "    <tr>\n",
       "      <th>30631</th>\n",
       "      <td>a495d886634f8e44ce045fa77046924c</td>\n",
       "      <td>2021-08-17 18:26:07</td>\n",
       "      <td>OJITOS HECHIZEROS saxocumbia</td>\n",
       "      <td>None</td>\n",
       "      <td>QZDFP1932823</td>\n",
       "      <td>[FOLK, LATINFOLK]</td>\n",
       "      <td>235440.0</td>\n",
       "      <td>2019.0</td>\n",
       "      <td>None</td>\n",
       "      <td>COVER</td>\n",
       "      <td>NaN</td>\n",
       "      <td>NaN</td>\n",
       "    </tr>\n",
       "    <tr>\n",
       "      <th>67647</th>\n",
       "      <td>1906fc79a6062e2224ef72f7d8f61f67</td>\n",
       "      <td>2019-01-16 11:41:43</td>\n",
       "      <td>All of Me</td>\n",
       "      <td>None</td>\n",
       "      <td>PLS921748777</td>\n",
       "      <td>[]</td>\n",
       "      <td>226640.0</td>\n",
       "      <td>2017.0</td>\n",
       "      <td>None</td>\n",
       "      <td>COVER</td>\n",
       "      <td>NaN</td>\n",
       "      <td>NaN</td>\n",
       "    </tr>\n",
       "  </tbody>\n",
       "</table>\n",
       "</div>"
      ],
      "text/plain": [
       "                               track_id                dttm  \\\n",
       "14740  10db760680100d5c7aa06ed4f8e25a50 2022-08-13 01:24:58   \n",
       "68330  e6ba694bfb9bd10ff7270e9e993c6caa 2019-02-14 21:00:00   \n",
       "64814  1acb7b94b9dd42d0bd7cc215f467f151 2021-04-02 16:24:04   \n",
       "30631  a495d886634f8e44ce045fa77046924c 2021-08-17 18:26:07   \n",
       "67647  1906fc79a6062e2224ef72f7d8f61f67 2019-01-16 11:41:43   \n",
       "\n",
       "                              title language          isrc             genres  \\\n",
       "14740                  Buồn Của Anh       VI  VNA0M1905679              [POP]   \n",
       "68330             Can't Buy Me Love       EN  AURH01900022              [POP]   \n",
       "64814                 Amor e Ilusao     None  QZGLS2164190  [FOLK, LATINFOLK]   \n",
       "30631  OJITOS HECHIZEROS saxocumbia     None  QZDFP1932823  [FOLK, LATINFOLK]   \n",
       "67647                     All of Me     None  PLS921748777                 []   \n",
       "\n",
       "       duration  isrc_year original_track_id track_remake_type lyricId text  \n",
       "14740  274760.0     2019.0              None             COVER     NaN  NaN  \n",
       "68330  203390.0     2019.0              None             COVER     NaN  NaN  \n",
       "64814  162060.0     2021.0              None             COVER     NaN  NaN  \n",
       "30631  235440.0     2019.0              None             COVER     NaN  NaN  \n",
       "67647  226640.0     2017.0              None             COVER     NaN  NaN  "
      ]
     },
     "execution_count": 10,
     "metadata": {},
     "output_type": "execute_result"
    }
   ],
   "source": [
    "df = pd.merge(meta, covers, how = 'outer', on=\"track_id\").dropna(subset=['isrc'])\n",
    "df =  pd.merge(df, lyrics, how = 'outer', on=\"track_id\").dropna(subset=['track_remake_type'])\n",
    "df.reset_index(drop=True, inplace=True)\n",
    "df.info()\n",
    "df.sample(5)"
   ]
  },
  {
   "cell_type": "code",
   "execution_count": 11,
   "id": "e99d1911",
   "metadata": {
    "ExecuteTime": {
     "end_time": "2023-10-31T13:33:11.508102Z",
     "start_time": "2023-10-31T13:33:11.493404Z"
    }
   },
   "outputs": [
    {
     "data": {
      "text/plain": [
       "track_remake_type\n",
       "COVER       67083\n",
       "ORIGINAL     4204\n",
       "Name: count, dtype: int64"
      ]
     },
     "execution_count": 11,
     "metadata": {},
     "output_type": "execute_result"
    }
   ],
   "source": [
    "df.track_remake_type.value_counts()"
   ]
  },
  {
   "cell_type": "code",
   "execution_count": 12,
   "id": "f6b42eb4",
   "metadata": {
    "ExecuteTime": {
     "end_time": "2023-10-31T13:33:11.526870Z",
     "start_time": "2023-10-31T13:33:11.509111Z"
    }
   },
   "outputs": [
    {
     "data": {
      "text/plain": [
       "40688    Царица\n",
       "Name: title, dtype: object"
      ]
     },
     "execution_count": 12,
     "metadata": {},
     "output_type": "execute_result"
    }
   ],
   "source": [
    "original1 = df[df['track_remake_type'] == 'ORIGINAL']['title'].sample()\n",
    "original1"
   ]
  },
  {
   "cell_type": "code",
   "execution_count": 13,
   "id": "67eff74c",
   "metadata": {
    "ExecuteTime": {
     "end_time": "2023-10-31T13:33:11.536853Z",
     "start_time": "2023-10-31T13:33:11.527881Z"
    }
   },
   "outputs": [
    {
     "name": "stdout",
     "output_type": "stream",
     "text": [
      "0              Happy New Year\n",
      "1                  Bad Habits\n",
      "2        Por Esa Loca Vanidad\n",
      "3                Mil Lagrimas\n",
      "4         Sexo Humo y Alcohol\n",
      "                 ...         \n",
      "71282               Chanceuse\n",
      "71283      Quiero Que Vuelvas\n",
      "71284                Vacation\n",
      "71285         Dance Hall Days\n",
      "71286                      17\n",
      "Name: title, Length: 71287, dtype: string\n"
     ]
    }
   ],
   "source": [
    "print(df['title'].astype(\"string\"))"
   ]
  },
  {
   "cell_type": "code",
   "execution_count": 14,
   "id": "59e9ecf1",
   "metadata": {
    "ExecuteTime": {
     "end_time": "2023-10-31T13:33:11.582182Z",
     "start_time": "2023-10-31T13:33:11.537861Z"
    }
   },
   "outputs": [
    {
     "data": {
      "text/html": [
       "<div>\n",
       "<style scoped>\n",
       "    .dataframe tbody tr th:only-of-type {\n",
       "        vertical-align: middle;\n",
       "    }\n",
       "\n",
       "    .dataframe tbody tr th {\n",
       "        vertical-align: top;\n",
       "    }\n",
       "\n",
       "    .dataframe thead th {\n",
       "        text-align: right;\n",
       "    }\n",
       "</style>\n",
       "<table border=\"1\" class=\"dataframe\">\n",
       "  <thead>\n",
       "    <tr style=\"text-align: right;\">\n",
       "      <th></th>\n",
       "      <th>track_id</th>\n",
       "      <th>dttm</th>\n",
       "      <th>title</th>\n",
       "      <th>language</th>\n",
       "      <th>isrc</th>\n",
       "      <th>genres</th>\n",
       "      <th>duration</th>\n",
       "      <th>isrc_year</th>\n",
       "      <th>original_track_id</th>\n",
       "      <th>track_remake_type</th>\n",
       "      <th>lyricId</th>\n",
       "      <th>text</th>\n",
       "    </tr>\n",
       "  </thead>\n",
       "  <tbody>\n",
       "    <tr>\n",
       "      <th>2617</th>\n",
       "      <td>767100de5486f2af5499c1b10cf5170a</td>\n",
       "      <td>2022-01-20 21:00:00</td>\n",
       "      <td>Dance All Night</td>\n",
       "      <td>EN</td>\n",
       "      <td>ARF412200027</td>\n",
       "      <td>[ELECTRONICS]</td>\n",
       "      <td>166090.0</td>\n",
       "      <td>2022.0</td>\n",
       "      <td>None</td>\n",
       "      <td>COVER</td>\n",
       "      <td>NaN</td>\n",
       "      <td>NaN</td>\n",
       "    </tr>\n",
       "    <tr>\n",
       "      <th>2756</th>\n",
       "      <td>b3f3b7f554fd0966d883ba6dbe973419</td>\n",
       "      <td>2022-01-05 01:05:32</td>\n",
       "      <td>I Drove All Night</td>\n",
       "      <td>None</td>\n",
       "      <td>US7VG2209437</td>\n",
       "      <td>[FOLK, LATINFOLK]</td>\n",
       "      <td>247290.0</td>\n",
       "      <td>2022.0</td>\n",
       "      <td>None</td>\n",
       "      <td>COVER</td>\n",
       "      <td>NaN</td>\n",
       "      <td>NaN</td>\n",
       "    </tr>\n",
       "    <tr>\n",
       "      <th>4019</th>\n",
       "      <td>855fdae8b7d3cd9187306d9d4781b58c</td>\n",
       "      <td>2022-01-22 00:14:26</td>\n",
       "      <td>You Shook Me All Night Long</td>\n",
       "      <td>None</td>\n",
       "      <td>US7VG2299560</td>\n",
       "      <td>[ROCK, ALLROCK]</td>\n",
       "      <td>211530.0</td>\n",
       "      <td>2022.0</td>\n",
       "      <td>None</td>\n",
       "      <td>COVER</td>\n",
       "      <td>NaN</td>\n",
       "      <td>NaN</td>\n",
       "    </tr>\n",
       "    <tr>\n",
       "      <th>6344</th>\n",
       "      <td>460ebfb67e17a45919fc4f7c6a6b96de</td>\n",
       "      <td>2022-02-23 21:42:50</td>\n",
       "      <td>You Shook Me All Night Long</td>\n",
       "      <td>None</td>\n",
       "      <td>QZGLM2254909</td>\n",
       "      <td>[ROCK, ALLROCK]</td>\n",
       "      <td>211500.0</td>\n",
       "      <td>2022.0</td>\n",
       "      <td>None</td>\n",
       "      <td>COVER</td>\n",
       "      <td>NaN</td>\n",
       "      <td>NaN</td>\n",
       "    </tr>\n",
       "    <tr>\n",
       "      <th>8025</th>\n",
       "      <td>30b7c445b856fcf1d2345ba2109524ac</td>\n",
       "      <td>2023-05-09 21:00:00</td>\n",
       "      <td>All Night</td>\n",
       "      <td>None</td>\n",
       "      <td>UKEX32207619</td>\n",
       "      <td>[ELECTRONICS]</td>\n",
       "      <td>138860.0</td>\n",
       "      <td>2022.0</td>\n",
       "      <td>30b7c445b856fcf1d2345ba2109524ac</td>\n",
       "      <td>ORIGINAL</td>\n",
       "      <td>NaN</td>\n",
       "      <td>NaN</td>\n",
       "    </tr>\n",
       "    <tr>\n",
       "      <th>10302</th>\n",
       "      <td>9e2c4398b68338facb97d504e3c0a734</td>\n",
       "      <td>2022-05-26 21:00:00</td>\n",
       "      <td>All Night Long</td>\n",
       "      <td>None</td>\n",
       "      <td>RUA1D2237335</td>\n",
       "      <td>[DANCE]</td>\n",
       "      <td>148030.0</td>\n",
       "      <td>2022.0</td>\n",
       "      <td>9e2c4398b68338facb97d504e3c0a734</td>\n",
       "      <td>ORIGINAL</td>\n",
       "      <td>NaN</td>\n",
       "      <td>NaN</td>\n",
       "    </tr>\n",
       "    <tr>\n",
       "      <th>18881</th>\n",
       "      <td>fee7a632b21c6e8f404ccf7bd80ffdf7</td>\n",
       "      <td>2021-12-20 21:00:00</td>\n",
       "      <td>Up All Night</td>\n",
       "      <td>EN</td>\n",
       "      <td>ZAC012000036</td>\n",
       "      <td>[POP]</td>\n",
       "      <td>154000.0</td>\n",
       "      <td>2020.0</td>\n",
       "      <td>None</td>\n",
       "      <td>COVER</td>\n",
       "      <td>NaN</td>\n",
       "      <td>NaN</td>\n",
       "    </tr>\n",
       "    <tr>\n",
       "      <th>21465</th>\n",
       "      <td>d5e73a91b22b6473bef6464611330b22</td>\n",
       "      <td>2021-05-20 21:00:00</td>\n",
       "      <td>Do It All Night</td>\n",
       "      <td>EN</td>\n",
       "      <td>DEHK92100181</td>\n",
       "      <td>[DANCE]</td>\n",
       "      <td>137800.0</td>\n",
       "      <td>2021.0</td>\n",
       "      <td>None</td>\n",
       "      <td>COVER</td>\n",
       "      <td>df1d1491c90b776a6a022050c36a00e2</td>\n",
       "      <td>You make me burning, yes, I am burning away\\nI...</td>\n",
       "    </tr>\n",
       "    <tr>\n",
       "      <th>21688</th>\n",
       "      <td>400cf4254b009ea34a45ed185f5f0e11</td>\n",
       "      <td>2021-05-03 19:50:38</td>\n",
       "      <td>All Night Long (All Night)</td>\n",
       "      <td>EN</td>\n",
       "      <td>BR03D2101021</td>\n",
       "      <td>[FOLK]</td>\n",
       "      <td>261620.0</td>\n",
       "      <td>2021.0</td>\n",
       "      <td>None</td>\n",
       "      <td>COVER</td>\n",
       "      <td>NaN</td>\n",
       "      <td>NaN</td>\n",
       "    </tr>\n",
       "    <tr>\n",
       "      <th>22055</th>\n",
       "      <td>6fb20373c0c83183cbca2140ecb1b1ca</td>\n",
       "      <td>2021-05-06 22:56:41</td>\n",
       "      <td>You Shook Me All Night Long</td>\n",
       "      <td>None</td>\n",
       "      <td>AUXN22151495</td>\n",
       "      <td>[POP]</td>\n",
       "      <td>200000.0</td>\n",
       "      <td>2021.0</td>\n",
       "      <td>None</td>\n",
       "      <td>COVER</td>\n",
       "      <td>NaN</td>\n",
       "      <td>NaN</td>\n",
       "    </tr>\n",
       "    <tr>\n",
       "      <th>40808</th>\n",
       "      <td>6711c1eab9f5310ddd81c9c984c35aa9</td>\n",
       "      <td>2023-09-20 21:00:00</td>\n",
       "      <td>All Night</td>\n",
       "      <td>None</td>\n",
       "      <td>DGA082390495</td>\n",
       "      <td>[DANCE]</td>\n",
       "      <td>102950.0</td>\n",
       "      <td>2023.0</td>\n",
       "      <td>6711c1eab9f5310ddd81c9c984c35aa9</td>\n",
       "      <td>ORIGINAL</td>\n",
       "      <td>NaN</td>\n",
       "      <td>NaN</td>\n",
       "    </tr>\n",
       "    <tr>\n",
       "      <th>42123</th>\n",
       "      <td>713d328213e7f1d663829e2374b21733</td>\n",
       "      <td>2014-08-25 18:12:42</td>\n",
       "      <td>Stayin Out All Night</td>\n",
       "      <td>None</td>\n",
       "      <td>QMPU51269146</td>\n",
       "      <td>[COUNTRY]</td>\n",
       "      <td>258110.0</td>\n",
       "      <td>2012.0</td>\n",
       "      <td>None</td>\n",
       "      <td>COVER</td>\n",
       "      <td>NaN</td>\n",
       "      <td>NaN</td>\n",
       "    </tr>\n",
       "    <tr>\n",
       "      <th>42893</th>\n",
       "      <td>51f29b496f70e8a8d11e010da2d0c2ff</td>\n",
       "      <td>2015-01-30 23:00:41</td>\n",
       "      <td>You Shook Me All Night Long</td>\n",
       "      <td>EN</td>\n",
       "      <td>QM6MZ1464069</td>\n",
       "      <td>[METAL]</td>\n",
       "      <td>221720.0</td>\n",
       "      <td>2014.0</td>\n",
       "      <td>None</td>\n",
       "      <td>COVER</td>\n",
       "      <td>e77c2e9ee74b4bd3a679e7f355a0a417</td>\n",
       "      <td>She was a fast machine she kept her motor clea...</td>\n",
       "    </tr>\n",
       "    <tr>\n",
       "      <th>44077</th>\n",
       "      <td>8884764529ed36735fd165b1b76e490e</td>\n",
       "      <td>2015-11-09 17:23:41</td>\n",
       "      <td>You Shook Me All Night Long Ringtone</td>\n",
       "      <td>EN</td>\n",
       "      <td>QMBZ91440438</td>\n",
       "      <td>[ROCK, ALLROCK]</td>\n",
       "      <td>30000.0</td>\n",
       "      <td>2014.0</td>\n",
       "      <td>None</td>\n",
       "      <td>COVER</td>\n",
       "      <td>NaN</td>\n",
       "      <td>NaN</td>\n",
       "    </tr>\n",
       "    <tr>\n",
       "      <th>44177</th>\n",
       "      <td>fb5973fad56d41ce2d1c018cc244793b</td>\n",
       "      <td>2015-12-13 04:58:50</td>\n",
       "      <td>Stayed Awake All Night</td>\n",
       "      <td>None</td>\n",
       "      <td>USLZJ1589547</td>\n",
       "      <td>[HARDROCK, ALLROCK]</td>\n",
       "      <td>445470.0</td>\n",
       "      <td>2015.0</td>\n",
       "      <td>None</td>\n",
       "      <td>COVER</td>\n",
       "      <td>a49aead75c4bd69a50f71278117faada</td>\n",
       "      <td>In the cool cool cool of the morning\\nThat's w...</td>\n",
       "    </tr>\n",
       "    <tr>\n",
       "      <th>44703</th>\n",
       "      <td>836db3ef5dfd8e0ecdceb402127b43e5</td>\n",
       "      <td>2014-02-03 20:00:00</td>\n",
       "      <td>Stayed Awake All Night</td>\n",
       "      <td>EN</td>\n",
       "      <td>USAR10001727</td>\n",
       "      <td>[HARDROCK, ALLROCK]</td>\n",
       "      <td>282200.0</td>\n",
       "      <td>2000.0</td>\n",
       "      <td>None</td>\n",
       "      <td>COVER</td>\n",
       "      <td>23924afca7a60f7b7dbb77e16a8c9ce7</td>\n",
       "      <td>In the cool cool cool of the morning\\nThat's w...</td>\n",
       "    </tr>\n",
       "    <tr>\n",
       "      <th>44710</th>\n",
       "      <td>7fb7838c82fd8a6f670339d599347615</td>\n",
       "      <td>2014-02-03 20:00:00</td>\n",
       "      <td>Stayed Awake All Night</td>\n",
       "      <td>EN</td>\n",
       "      <td>USAR10000049</td>\n",
       "      <td>[HARDROCK, ALLROCK]</td>\n",
       "      <td>282350.0</td>\n",
       "      <td>2000.0</td>\n",
       "      <td>None</td>\n",
       "      <td>COVER</td>\n",
       "      <td>a49aead75c4bd69a50f71278117faada</td>\n",
       "      <td>In the cool cool cool of the morning\\nThat's w...</td>\n",
       "    </tr>\n",
       "    <tr>\n",
       "      <th>45520</th>\n",
       "      <td>e8937710e45806fa52c4bda9349177c0</td>\n",
       "      <td>2010-11-10 21:30:28</td>\n",
       "      <td>I Drove All Night</td>\n",
       "      <td>None</td>\n",
       "      <td>USA370505493</td>\n",
       "      <td>[ROCK, ALLROCK]</td>\n",
       "      <td>228250.0</td>\n",
       "      <td>2005.0</td>\n",
       "      <td>None</td>\n",
       "      <td>COVER</td>\n",
       "      <td>acf91f435994f6053763bf22f793ab20</td>\n",
       "      <td>I had to escape\\nThe city was sticky and cruel...</td>\n",
       "    </tr>\n",
       "    <tr>\n",
       "      <th>46468</th>\n",
       "      <td>ac6417793ae8cac9726d2ac100bc9c1a</td>\n",
       "      <td>2011-11-10 12:17:36</td>\n",
       "      <td>You Shook Me All Night Long</td>\n",
       "      <td>None</td>\n",
       "      <td>USA560909906</td>\n",
       "      <td>[ROCK, ALLROCK]</td>\n",
       "      <td>217130.0</td>\n",
       "      <td>2009.0</td>\n",
       "      <td>None</td>\n",
       "      <td>COVER</td>\n",
       "      <td>NaN</td>\n",
       "      <td>NaN</td>\n",
       "    </tr>\n",
       "    <tr>\n",
       "      <th>46509</th>\n",
       "      <td>5e0458a90ca6180c1bf98db94eacee64</td>\n",
       "      <td>2011-11-10 12:29:36</td>\n",
       "      <td>Mary Jane (All Night Long)</td>\n",
       "      <td>None</td>\n",
       "      <td>USA560905463</td>\n",
       "      <td>[RNB]</td>\n",
       "      <td>272500.0</td>\n",
       "      <td>2009.0</td>\n",
       "      <td>None</td>\n",
       "      <td>COVER</td>\n",
       "      <td>NaN</td>\n",
       "      <td>NaN</td>\n",
       "    </tr>\n",
       "    <tr>\n",
       "      <th>46689</th>\n",
       "      <td>b8c46bede6c7e2c841ae0fb78f01bcc6</td>\n",
       "      <td>2011-11-11 14:40:23</td>\n",
       "      <td>You Shook Me All Night Long</td>\n",
       "      <td>None</td>\n",
       "      <td>USA560685408</td>\n",
       "      <td>[ELECTRONICS]</td>\n",
       "      <td>232290.0</td>\n",
       "      <td>2006.0</td>\n",
       "      <td>None</td>\n",
       "      <td>COVER</td>\n",
       "      <td>NaN</td>\n",
       "      <td>NaN</td>\n",
       "    </tr>\n",
       "    <tr>\n",
       "      <th>47119</th>\n",
       "      <td>aac9aa6533346c480fd9836398af2e39</td>\n",
       "      <td>2014-08-04 20:00:00</td>\n",
       "      <td>Stayed Awake All Night</td>\n",
       "      <td>EN</td>\n",
       "      <td>USAR10300781</td>\n",
       "      <td>[HARDROCK, ALLROCK]</td>\n",
       "      <td>283200.0</td>\n",
       "      <td>2003.0</td>\n",
       "      <td>None</td>\n",
       "      <td>COVER</td>\n",
       "      <td>a49aead75c4bd69a50f71278117faada</td>\n",
       "      <td>In the cool cool cool of the morning\\nThat's w...</td>\n",
       "    </tr>\n",
       "    <tr>\n",
       "      <th>48428</th>\n",
       "      <td>539595af8b11067e31781401f47df419</td>\n",
       "      <td>2012-11-13 12:07:04</td>\n",
       "      <td>Out Here All Night</td>\n",
       "      <td>None</td>\n",
       "      <td>USA2P1284137</td>\n",
       "      <td>[ROCK, ALLROCK]</td>\n",
       "      <td>218090.0</td>\n",
       "      <td>2012.0</td>\n",
       "      <td>None</td>\n",
       "      <td>COVER</td>\n",
       "      <td>NaN</td>\n",
       "      <td>NaN</td>\n",
       "    </tr>\n",
       "    <tr>\n",
       "      <th>49310</th>\n",
       "      <td>572b314eb8397fca5de41fc4906109df</td>\n",
       "      <td>2013-03-11 20:00:00</td>\n",
       "      <td>Lionel Richie-All Night Long</td>\n",
       "      <td>None</td>\n",
       "      <td>USJCH1200117</td>\n",
       "      <td>[COUNTRY]</td>\n",
       "      <td>272500.0</td>\n",
       "      <td>2012.0</td>\n",
       "      <td>None</td>\n",
       "      <td>COVER</td>\n",
       "      <td>NaN</td>\n",
       "      <td>NaN</td>\n",
       "    </tr>\n",
       "    <tr>\n",
       "      <th>49324</th>\n",
       "      <td>477808694e21c2baf1dc904b08a98499</td>\n",
       "      <td>2013-03-11 20:00:00</td>\n",
       "      <td>You Shook Me All Night Long</td>\n",
       "      <td>None</td>\n",
       "      <td>USJCH1200321</td>\n",
       "      <td>[ROCK, ALLROCK]</td>\n",
       "      <td>224440.0</td>\n",
       "      <td>2012.0</td>\n",
       "      <td>None</td>\n",
       "      <td>COVER</td>\n",
       "      <td>NaN</td>\n",
       "      <td>NaN</td>\n",
       "    </tr>\n",
       "    <tr>\n",
       "      <th>49667</th>\n",
       "      <td>58917e4e87d154993a9909af06bcbba0</td>\n",
       "      <td>2013-02-27 20:26:24</td>\n",
       "      <td>All Night Long</td>\n",
       "      <td>EN</td>\n",
       "      <td>USJCH1200139</td>\n",
       "      <td>[COUNTRY]</td>\n",
       "      <td>272480.0</td>\n",
       "      <td>2012.0</td>\n",
       "      <td>None</td>\n",
       "      <td>COVER</td>\n",
       "      <td>NaN</td>\n",
       "      <td>NaN</td>\n",
       "    </tr>\n",
       "    <tr>\n",
       "      <th>53048</th>\n",
       "      <td>495a0334e625c816f43e1cb4d4b258f9</td>\n",
       "      <td>2018-03-01 21:00:00</td>\n",
       "      <td>All Night</td>\n",
       "      <td>EN</td>\n",
       "      <td>PT9GC1800001</td>\n",
       "      <td>[RAP]</td>\n",
       "      <td>174550.0</td>\n",
       "      <td>2018.0</td>\n",
       "      <td>495a0334e625c816f43e1cb4d4b258f9</td>\n",
       "      <td>ORIGINAL</td>\n",
       "      <td>ce56fe55e339889d80d76cb03c85c855</td>\n",
       "      <td>(B-Town)\\n(Big M)\\n\\nI was from the city, she ...</td>\n",
       "    </tr>\n",
       "    <tr>\n",
       "      <th>64690</th>\n",
       "      <td>13cb477f2439134b4233809831126177</td>\n",
       "      <td>2021-03-31 21:07:03</td>\n",
       "      <td>I Drove All Night</td>\n",
       "      <td>EN</td>\n",
       "      <td>USLZJ2130146</td>\n",
       "      <td>[POP]</td>\n",
       "      <td>261220.0</td>\n",
       "      <td>2021.0</td>\n",
       "      <td>None</td>\n",
       "      <td>COVER</td>\n",
       "      <td>NaN</td>\n",
       "      <td>NaN</td>\n",
       "    </tr>\n",
       "  </tbody>\n",
       "</table>\n",
       "</div>"
      ],
      "text/plain": [
       "                               track_id                dttm  \\\n",
       "2617   767100de5486f2af5499c1b10cf5170a 2022-01-20 21:00:00   \n",
       "2756   b3f3b7f554fd0966d883ba6dbe973419 2022-01-05 01:05:32   \n",
       "4019   855fdae8b7d3cd9187306d9d4781b58c 2022-01-22 00:14:26   \n",
       "6344   460ebfb67e17a45919fc4f7c6a6b96de 2022-02-23 21:42:50   \n",
       "8025   30b7c445b856fcf1d2345ba2109524ac 2023-05-09 21:00:00   \n",
       "10302  9e2c4398b68338facb97d504e3c0a734 2022-05-26 21:00:00   \n",
       "18881  fee7a632b21c6e8f404ccf7bd80ffdf7 2021-12-20 21:00:00   \n",
       "21465  d5e73a91b22b6473bef6464611330b22 2021-05-20 21:00:00   \n",
       "21688  400cf4254b009ea34a45ed185f5f0e11 2021-05-03 19:50:38   \n",
       "22055  6fb20373c0c83183cbca2140ecb1b1ca 2021-05-06 22:56:41   \n",
       "40808  6711c1eab9f5310ddd81c9c984c35aa9 2023-09-20 21:00:00   \n",
       "42123  713d328213e7f1d663829e2374b21733 2014-08-25 18:12:42   \n",
       "42893  51f29b496f70e8a8d11e010da2d0c2ff 2015-01-30 23:00:41   \n",
       "44077  8884764529ed36735fd165b1b76e490e 2015-11-09 17:23:41   \n",
       "44177  fb5973fad56d41ce2d1c018cc244793b 2015-12-13 04:58:50   \n",
       "44703  836db3ef5dfd8e0ecdceb402127b43e5 2014-02-03 20:00:00   \n",
       "44710  7fb7838c82fd8a6f670339d599347615 2014-02-03 20:00:00   \n",
       "45520  e8937710e45806fa52c4bda9349177c0 2010-11-10 21:30:28   \n",
       "46468  ac6417793ae8cac9726d2ac100bc9c1a 2011-11-10 12:17:36   \n",
       "46509  5e0458a90ca6180c1bf98db94eacee64 2011-11-10 12:29:36   \n",
       "46689  b8c46bede6c7e2c841ae0fb78f01bcc6 2011-11-11 14:40:23   \n",
       "47119  aac9aa6533346c480fd9836398af2e39 2014-08-04 20:00:00   \n",
       "48428  539595af8b11067e31781401f47df419 2012-11-13 12:07:04   \n",
       "49310  572b314eb8397fca5de41fc4906109df 2013-03-11 20:00:00   \n",
       "49324  477808694e21c2baf1dc904b08a98499 2013-03-11 20:00:00   \n",
       "49667  58917e4e87d154993a9909af06bcbba0 2013-02-27 20:26:24   \n",
       "53048  495a0334e625c816f43e1cb4d4b258f9 2018-03-01 21:00:00   \n",
       "64690  13cb477f2439134b4233809831126177 2021-03-31 21:07:03   \n",
       "\n",
       "                                      title language          isrc  \\\n",
       "2617                        Dance All Night       EN  ARF412200027   \n",
       "2756                      I Drove All Night     None  US7VG2209437   \n",
       "4019            You Shook Me All Night Long     None  US7VG2299560   \n",
       "6344            You Shook Me All Night Long     None  QZGLM2254909   \n",
       "8025                              All Night     None  UKEX32207619   \n",
       "10302                        All Night Long     None  RUA1D2237335   \n",
       "18881                          Up All Night       EN  ZAC012000036   \n",
       "21465                       Do It All Night       EN  DEHK92100181   \n",
       "21688            All Night Long (All Night)       EN  BR03D2101021   \n",
       "22055           You Shook Me All Night Long     None  AUXN22151495   \n",
       "40808                             All Night     None  DGA082390495   \n",
       "42123                  Stayin Out All Night     None  QMPU51269146   \n",
       "42893           You Shook Me All Night Long       EN  QM6MZ1464069   \n",
       "44077  You Shook Me All Night Long Ringtone       EN  QMBZ91440438   \n",
       "44177                Stayed Awake All Night     None  USLZJ1589547   \n",
       "44703                Stayed Awake All Night       EN  USAR10001727   \n",
       "44710                Stayed Awake All Night       EN  USAR10000049   \n",
       "45520                     I Drove All Night     None  USA370505493   \n",
       "46468           You Shook Me All Night Long     None  USA560909906   \n",
       "46509            Mary Jane (All Night Long)     None  USA560905463   \n",
       "46689           You Shook Me All Night Long     None  USA560685408   \n",
       "47119                Stayed Awake All Night       EN  USAR10300781   \n",
       "48428                    Out Here All Night     None  USA2P1284137   \n",
       "49310          Lionel Richie-All Night Long     None  USJCH1200117   \n",
       "49324           You Shook Me All Night Long     None  USJCH1200321   \n",
       "49667                        All Night Long       EN  USJCH1200139   \n",
       "53048                             All Night       EN  PT9GC1800001   \n",
       "64690                     I Drove All Night       EN  USLZJ2130146   \n",
       "\n",
       "                    genres  duration  isrc_year  \\\n",
       "2617         [ELECTRONICS]  166090.0     2022.0   \n",
       "2756     [FOLK, LATINFOLK]  247290.0     2022.0   \n",
       "4019       [ROCK, ALLROCK]  211530.0     2022.0   \n",
       "6344       [ROCK, ALLROCK]  211500.0     2022.0   \n",
       "8025         [ELECTRONICS]  138860.0     2022.0   \n",
       "10302              [DANCE]  148030.0     2022.0   \n",
       "18881                [POP]  154000.0     2020.0   \n",
       "21465              [DANCE]  137800.0     2021.0   \n",
       "21688               [FOLK]  261620.0     2021.0   \n",
       "22055                [POP]  200000.0     2021.0   \n",
       "40808              [DANCE]  102950.0     2023.0   \n",
       "42123            [COUNTRY]  258110.0     2012.0   \n",
       "42893              [METAL]  221720.0     2014.0   \n",
       "44077      [ROCK, ALLROCK]   30000.0     2014.0   \n",
       "44177  [HARDROCK, ALLROCK]  445470.0     2015.0   \n",
       "44703  [HARDROCK, ALLROCK]  282200.0     2000.0   \n",
       "44710  [HARDROCK, ALLROCK]  282350.0     2000.0   \n",
       "45520      [ROCK, ALLROCK]  228250.0     2005.0   \n",
       "46468      [ROCK, ALLROCK]  217130.0     2009.0   \n",
       "46509                [RNB]  272500.0     2009.0   \n",
       "46689        [ELECTRONICS]  232290.0     2006.0   \n",
       "47119  [HARDROCK, ALLROCK]  283200.0     2003.0   \n",
       "48428      [ROCK, ALLROCK]  218090.0     2012.0   \n",
       "49310            [COUNTRY]  272500.0     2012.0   \n",
       "49324      [ROCK, ALLROCK]  224440.0     2012.0   \n",
       "49667            [COUNTRY]  272480.0     2012.0   \n",
       "53048                [RAP]  174550.0     2018.0   \n",
       "64690                [POP]  261220.0     2021.0   \n",
       "\n",
       "                      original_track_id track_remake_type  \\\n",
       "2617                               None             COVER   \n",
       "2756                               None             COVER   \n",
       "4019                               None             COVER   \n",
       "6344                               None             COVER   \n",
       "8025   30b7c445b856fcf1d2345ba2109524ac          ORIGINAL   \n",
       "10302  9e2c4398b68338facb97d504e3c0a734          ORIGINAL   \n",
       "18881                              None             COVER   \n",
       "21465                              None             COVER   \n",
       "21688                              None             COVER   \n",
       "22055                              None             COVER   \n",
       "40808  6711c1eab9f5310ddd81c9c984c35aa9          ORIGINAL   \n",
       "42123                              None             COVER   \n",
       "42893                              None             COVER   \n",
       "44077                              None             COVER   \n",
       "44177                              None             COVER   \n",
       "44703                              None             COVER   \n",
       "44710                              None             COVER   \n",
       "45520                              None             COVER   \n",
       "46468                              None             COVER   \n",
       "46509                              None             COVER   \n",
       "46689                              None             COVER   \n",
       "47119                              None             COVER   \n",
       "48428                              None             COVER   \n",
       "49310                              None             COVER   \n",
       "49324                              None             COVER   \n",
       "49667                              None             COVER   \n",
       "53048  495a0334e625c816f43e1cb4d4b258f9          ORIGINAL   \n",
       "64690                              None             COVER   \n",
       "\n",
       "                                lyricId  \\\n",
       "2617                                NaN   \n",
       "2756                                NaN   \n",
       "4019                                NaN   \n",
       "6344                                NaN   \n",
       "8025                                NaN   \n",
       "10302                               NaN   \n",
       "18881                               NaN   \n",
       "21465  df1d1491c90b776a6a022050c36a00e2   \n",
       "21688                               NaN   \n",
       "22055                               NaN   \n",
       "40808                               NaN   \n",
       "42123                               NaN   \n",
       "42893  e77c2e9ee74b4bd3a679e7f355a0a417   \n",
       "44077                               NaN   \n",
       "44177  a49aead75c4bd69a50f71278117faada   \n",
       "44703  23924afca7a60f7b7dbb77e16a8c9ce7   \n",
       "44710  a49aead75c4bd69a50f71278117faada   \n",
       "45520  acf91f435994f6053763bf22f793ab20   \n",
       "46468                               NaN   \n",
       "46509                               NaN   \n",
       "46689                               NaN   \n",
       "47119  a49aead75c4bd69a50f71278117faada   \n",
       "48428                               NaN   \n",
       "49310                               NaN   \n",
       "49324                               NaN   \n",
       "49667                               NaN   \n",
       "53048  ce56fe55e339889d80d76cb03c85c855   \n",
       "64690                               NaN   \n",
       "\n",
       "                                                    text  \n",
       "2617                                                 NaN  \n",
       "2756                                                 NaN  \n",
       "4019                                                 NaN  \n",
       "6344                                                 NaN  \n",
       "8025                                                 NaN  \n",
       "10302                                                NaN  \n",
       "18881                                                NaN  \n",
       "21465  You make me burning, yes, I am burning away\\nI...  \n",
       "21688                                                NaN  \n",
       "22055                                                NaN  \n",
       "40808                                                NaN  \n",
       "42123                                                NaN  \n",
       "42893  She was a fast machine she kept her motor clea...  \n",
       "44077                                                NaN  \n",
       "44177  In the cool cool cool of the morning\\nThat's w...  \n",
       "44703  In the cool cool cool of the morning\\nThat's w...  \n",
       "44710  In the cool cool cool of the morning\\nThat's w...  \n",
       "45520  I had to escape\\nThe city was sticky and cruel...  \n",
       "46468                                                NaN  \n",
       "46509                                                NaN  \n",
       "46689                                                NaN  \n",
       "47119  In the cool cool cool of the morning\\nThat's w...  \n",
       "48428                                                NaN  \n",
       "49310                                                NaN  \n",
       "49324                                                NaN  \n",
       "49667                                                NaN  \n",
       "53048  (B-Town)\\n(Big M)\\n\\nI was from the city, she ...  \n",
       "64690                                                NaN  "
      ]
     },
     "metadata": {},
     "output_type": "display_data"
    }
   ],
   "source": [
    "display(df[df['title'].str.contains('All Night', regex=False)])"
   ]
  },
  {
   "cell_type": "code",
   "execution_count": 15,
   "id": "2f6e91d6",
   "metadata": {
    "ExecuteTime": {
     "end_time": "2023-10-31T13:33:11.665756Z",
     "start_time": "2023-10-31T13:33:11.583189Z"
    }
   },
   "outputs": [
    {
     "name": "stdout",
     "output_type": "stream",
     "text": [
      "<class 'pandas.core.frame.DataFrame'>\n",
      "RangeIndex: 71287 entries, 0 to 71286\n",
      "Data columns (total 12 columns):\n",
      " #   Column             Non-Null Count  Dtype         \n",
      "---  ------             --------------  -----         \n",
      " 0   track_id           71287 non-null  object        \n",
      " 1   dttm               71287 non-null  datetime64[ns]\n",
      " 2   title              71287 non-null  object        \n",
      " 3   language           21821 non-null  object        \n",
      " 4   isrc               71287 non-null  object        \n",
      " 5   genres             71287 non-null  object        \n",
      " 6   duration           71287 non-null  float64       \n",
      " 7   isrc_year          71287 non-null  float64       \n",
      " 8   original_track_id  4729 non-null   object        \n",
      " 9   track_remake_type  71287 non-null  object        \n",
      " 10  lyricId            10063 non-null  object        \n",
      " 11  text               10063 non-null  object        \n",
      "dtypes: datetime64[ns](1), float64(2), object(9)\n",
      "memory usage: 6.5+ MB\n",
      "None\n"
     ]
    }
   ],
   "source": [
    "# Сначала создаем копию DataFrame, чтобы избежать изменения исходных данных\n",
    "data = df.copy()\n",
    "data.reset_index(drop=True, inplace=True)\n",
    "print(data.info())"
   ]
  },
  {
   "cell_type": "code",
   "execution_count": 16,
   "id": "50bfdca4",
   "metadata": {
    "ExecuteTime": {
     "end_time": "2023-10-31T13:33:11.770786Z",
     "start_time": "2023-10-31T13:33:11.666766Z"
    }
   },
   "outputs": [],
   "source": [
    "# Приводим все названия треков к нижнему регистру\n",
    "data['title'] = data['title'].str.lower()\n",
    "\n",
    "# Удаляем все знаки препинания и символы\n",
    "data['title'] = data['title'].apply(lambda x: re.sub(r'[^\\w\\s]', '', x))"
   ]
  },
  {
   "cell_type": "code",
   "execution_count": 17,
   "id": "965ea65c",
   "metadata": {
    "ExecuteTime": {
     "end_time": "2023-10-31T13:33:11.873918Z",
     "start_time": "2023-10-31T13:33:11.771795Z"
    }
   },
   "outputs": [],
   "source": [
    "# Отбираем группы треков, где 'ORIGINAL' встречается больше 1 раза\n",
    "groups_orig = data[data['track_remake_type'] == 'ORIGINAL'].groupby('title').filter(lambda x: len(x) > 1)"
   ]
  },
  {
   "cell_type": "code",
   "execution_count": 18,
   "id": "a1b7713b",
   "metadata": {
    "ExecuteTime": {
     "end_time": "2023-10-31T13:33:14.964880Z",
     "start_time": "2023-10-31T13:33:11.875433Z"
    }
   },
   "outputs": [],
   "source": [
    "# Для каждой группы отмечаем самый ранний трек как 'ORIGINAL', а остальные помечаем как 'COVER'\n",
    "for name, group in groups_orig.groupby('title'):\n",
    "    idx_min = group['isrc_year'].min()\n",
    "    data.loc[(data['title'] == name) & (data['isrc_year'] != idx_min), 'track_remake_type'] = 'COVER'\n",
    "    data.loc[(data['title'] == name) & (data['isrc_year'] == idx_min), 'track_remake_type'] = 'ORIGINAL'"
   ]
  },
  {
   "cell_type": "code",
   "execution_count": 19,
   "id": "d421d58d",
   "metadata": {
    "ExecuteTime": {
     "end_time": "2023-10-31T13:33:15.072745Z",
     "start_time": "2023-10-31T13:33:14.966404Z"
    }
   },
   "outputs": [
    {
     "data": {
      "text/plain": [
       "title\n",
       "bagatelle no 25 in a minor woo 59 für elise    15\n",
       "home                                           12\n",
       "lonely                                         11\n",
       "bright lights                                   6\n",
       "blue lines                                      5\n",
       "                                               ..\n",
       "dont need your love                             2\n",
       "deep                                            2\n",
       "ocean eyes                                      2\n",
       "ok                                              2\n",
       "привет                                          2\n",
       "Name: count, Length: 111, dtype: int64"
      ]
     },
     "execution_count": 19,
     "metadata": {},
     "output_type": "execute_result"
    }
   ],
   "source": [
    "# Снова проверим группы треков, где 'ORIGINAL' встречается больше 1 раза\n",
    "groups_orig = data[data['track_remake_type'] == 'ORIGINAL'].groupby('title').filter(lambda x: len(x) > 1)\n",
    "\n",
    "groups_orig.title.value_counts()"
   ]
  },
  {
   "cell_type": "code",
   "execution_count": 20,
   "id": "33a734c3",
   "metadata": {
    "ExecuteTime": {
     "end_time": "2023-10-31T13:33:15.088806Z",
     "start_time": "2023-10-31T13:33:15.073753Z"
    }
   },
   "outputs": [
    {
     "data": {
      "text/plain": [
       "track_remake_type\n",
       "COVER       67340\n",
       "ORIGINAL     3947\n",
       "Name: count, dtype: int64"
      ]
     },
     "execution_count": 20,
     "metadata": {},
     "output_type": "execute_result"
    }
   ],
   "source": [
    "data.track_remake_type.value_counts()"
   ]
  },
  {
   "cell_type": "code",
   "execution_count": 21,
   "id": "09bd0af2",
   "metadata": {
    "ExecuteTime": {
     "end_time": "2023-10-31T13:33:15.147285Z",
     "start_time": "2023-10-31T13:33:15.089817Z"
    }
   },
   "outputs": [],
   "source": [
    "data.dropna(subset=['track_remake_type'], inplace=True)"
   ]
  },
  {
   "cell_type": "code",
   "execution_count": 22,
   "id": "8bba1bb2",
   "metadata": {
    "ExecuteTime": {
     "end_time": "2023-10-31T13:33:15.176200Z",
     "start_time": "2023-10-31T13:33:15.148294Z"
    }
   },
   "outputs": [],
   "source": [
    "data.loc[data['track_remake_type'] == 'ORIGINAL','original'] = 1\n",
    "data.loc[data['track_remake_type'] == 'COVER','original'] = 0"
   ]
  },
  {
   "cell_type": "code",
   "execution_count": 23,
   "id": "d063b8d2",
   "metadata": {
    "ExecuteTime": {
     "end_time": "2023-10-31T13:33:15.180792Z",
     "start_time": "2023-10-31T13:33:15.177210Z"
    }
   },
   "outputs": [],
   "source": [
    "#data['track_remake_type_binary'] = data['track_remake_type_binary'].astype('int')"
   ]
  },
  {
   "cell_type": "code",
   "execution_count": 24,
   "id": "807ad32f",
   "metadata": {
    "ExecuteTime": {
     "end_time": "2023-10-31T13:33:15.188342Z",
     "start_time": "2023-10-31T13:33:15.182805Z"
    }
   },
   "outputs": [
    {
     "data": {
      "text/plain": [
       "original\n",
       "0.0    67340\n",
       "1.0     3947\n",
       "Name: count, dtype: int64"
      ]
     },
     "execution_count": 24,
     "metadata": {},
     "output_type": "execute_result"
    }
   ],
   "source": [
    "data.original.value_counts()"
   ]
  },
  {
   "cell_type": "code",
   "execution_count": 25,
   "id": "88c9fa9c",
   "metadata": {
    "ExecuteTime": {
     "end_time": "2023-10-31T13:33:15.232236Z",
     "start_time": "2023-10-31T13:33:15.189352Z"
    },
    "scrolled": true
   },
   "outputs": [],
   "source": [
    "rand = 12345\n",
    "train, ver = train_test_split(\n",
    "    data, \n",
    "    test_size=0.20, \n",
    "    stratify = data['original'], \n",
    "    random_state = rand\n",
    ")"
   ]
  },
  {
   "cell_type": "code",
   "execution_count": 26,
   "id": "f0172ef1",
   "metadata": {
    "ExecuteTime": {
     "end_time": "2023-10-31T13:33:15.236618Z",
     "start_time": "2023-10-31T13:33:15.233246Z"
    }
   },
   "outputs": [
    {
     "name": "stdout",
     "output_type": "stream",
     "text": [
      "(57029,)\n",
      "(57029,)\n",
      "(14258,)\n",
      "(14258,)\n"
     ]
    }
   ],
   "source": [
    "x_train = train['title']\n",
    "y_train = train['original']\n",
    "x_ver = ver['title']\n",
    "y_ver = ver['original']\n",
    "\n",
    "print(x_train.shape)\n",
    "print(y_train.shape)\n",
    "print(x_ver.shape)\n",
    "print(y_ver.shape)"
   ]
  },
  {
   "cell_type": "code",
   "execution_count": 27,
   "id": "b5c73574",
   "metadata": {
    "ExecuteTime": {
     "end_time": "2023-10-31T13:33:18.261833Z",
     "start_time": "2023-10-31T13:33:15.237628Z"
    }
   },
   "outputs": [
    {
     "name": "stdout",
     "output_type": "stream",
     "text": [
      "bad habits\n"
     ]
    }
   ],
   "source": [
    "tokenizer = transformers.BertTokenizer.from_pretrained('bert-base-multilingual-cased')\n",
    "model = BertModel.from_pretrained(\"bert-base-multilingual-cased\")\n",
    "text = x_train[1]\n",
    "print(text)\n",
    "encoded_input = tokenizer(text, return_tensors='pt')\n",
    "output = model(**encoded_input)"
   ]
  },
  {
   "cell_type": "code",
   "execution_count": 28,
   "id": "5176f494",
   "metadata": {
    "ExecuteTime": {
     "end_time": "2023-10-31T13:33:18.275779Z",
     "start_time": "2023-10-31T13:33:18.264840Z"
    }
   },
   "outputs": [
    {
     "name": "stdout",
     "output_type": "stream",
     "text": [
      "{'input_ids': tensor([[  101, 15838, 16266, 15508,   102]]), 'token_type_ids': tensor([[0, 0, 0, 0, 0]]), 'attention_mask': tensor([[1, 1, 1, 1, 1]])}\n",
      "BaseModelOutputWithPoolingAndCrossAttentions(last_hidden_state=tensor([[[-0.0193, -0.1513,  0.4090,  ...,  0.3713,  0.0009,  0.2770],\n",
      "         [-0.2842, -0.4679,  0.4050,  ...,  0.6699, -0.1677,  0.1406],\n",
      "         [-0.3579, -0.6110,  0.4879,  ...,  0.1633, -0.3189,  0.1305],\n",
      "         [-0.4342, -0.4542,  0.6964,  ...,  0.4498, -0.2160,  0.1762],\n",
      "         [-0.1987, -0.3481,  0.7416,  ...,  0.2343, -0.1392,  0.5558]]],\n",
      "       grad_fn=<NativeLayerNormBackward0>), pooler_output=tensor([[ 0.1366, -0.1078,  0.2450, -0.0442,  0.0606,  0.2532,  0.1569,  0.1669,\n",
      "         -0.4168,  0.1990, -0.0454, -0.1328, -0.1071, -0.0020,  0.1884,  0.0455,\n",
      "          0.3752,  0.0175,  0.2426, -0.4124, -0.9998, -0.4051, -0.1132, -0.2569,\n",
      "         -0.1622,  0.2590, -0.2537,  0.2243,  0.2616, -0.2914,  0.1092, -0.9998,\n",
      "          0.6314,  0.3483,  0.1250, -0.2849, -0.0129,  0.0987,  0.3079, -0.2610,\n",
      "         -0.0618, -0.1913,  0.0306, -0.0512, -0.0590, -0.1167, -0.1095,  0.2874,\n",
      "         -0.2988, -0.0432, -0.0147,  0.0915,  0.3247,  0.1692,  0.1530,  0.2111,\n",
      "          0.1015,  0.0151,  0.1293, -0.2734, -0.0340,  0.2026,  0.1023, -0.3341,\n",
      "         -0.1209, -0.3138,  0.0079,  0.1303,  0.3030, -0.0799, -0.1902, -0.2887,\n",
      "         -0.2184,  0.2067, -0.0304,  0.0055,  0.1219,  0.1188,  0.2385,  0.0218,\n",
      "         -0.3181, -0.3753, -0.1913,  0.1425, -0.0312,  0.2554,  0.3488, -0.2901,\n",
      "          0.2110, -0.0371,  0.0058,  0.3199, -0.1769,  0.0148,  0.0019, -0.1868,\n",
      "         -0.3390, -0.0387,  0.0138, -0.3241,  0.0450,  0.1060, -0.2936, -0.0464,\n",
      "         -0.2583, -0.5301, -0.0917,  0.1389, -0.0911,  0.3654,  0.1217, -0.0449,\n",
      "         -0.1213,  0.0617, -0.0826,  0.6138, -0.2278,  0.2554, -0.0093, -0.1867,\n",
      "         -0.1654,  0.9998, -0.1283, -0.1277,  0.0789,  0.2756, -0.3237,  0.1116,\n",
      "          0.2393,  0.1639,  0.1575,  0.0113, -0.2396, -0.1330, -0.3049, -0.1820,\n",
      "         -0.3646,  0.1461, -0.3006, -0.2111,  0.2850,  0.1853,  0.1224, -0.0556,\n",
      "         -0.1080, -0.0072,  0.2744, -0.1401,  0.9997,  0.2878, -0.2023, -0.1795,\n",
      "          0.3727, -0.1948, -0.1379, -0.2778, -0.2180, -0.3525,  0.2217,  0.1927,\n",
      "         -0.0128,  0.0173, -0.1721, -0.1090,  0.1388, -0.2734, -0.0052,  0.2907,\n",
      "          0.2049,  0.2544, -0.0182,  0.2850,  0.0373, -0.2083, -0.0299,  0.2016,\n",
      "          0.2285, -0.1295,  0.0145, -0.0885,  0.3670, -0.1869, -0.4443,  0.0681,\n",
      "         -0.0087, -0.3091, -0.0409, -0.0089, -0.0928,  0.3348, -0.0643,  0.1509,\n",
      "         -0.1660,  0.4390,  0.3689, -0.0219, -0.2675,  0.2600,  0.3924,  0.2821,\n",
      "          0.3523,  0.2325,  0.2493,  0.1308, -0.2525, -0.3972,  0.1808,  0.1132,\n",
      "          0.2357, -0.1365, -0.2252, -0.3586,  0.2588,  0.2736, -0.2367,  0.0917,\n",
      "          0.1146, -0.0742, -0.0996,  0.1513, -0.0912, -0.2614, -0.2181, -0.2122,\n",
      "         -0.1129,  0.1749,  0.0155,  0.2630,  0.1986, -0.2173,  0.0404, -0.1012,\n",
      "          0.1851,  0.0038, -0.0740,  0.5105,  0.0177,  0.3680, -0.3893, -0.1718,\n",
      "          0.2767, -0.0119,  0.4096,  0.6455,  0.2639, -0.1664,  0.1319,  0.2921,\n",
      "          0.1614, -0.0220,  0.0838, -0.2355,  0.4671,  0.2386,  0.0198, -0.9998,\n",
      "          0.1622,  0.0777,  0.4463,  0.2366,  0.2512,  0.2428,  0.1371,  0.3513,\n",
      "          0.0278, -0.2366, -0.4234, -0.3100, -0.3875,  0.0130, -0.2818, -0.2244,\n",
      "         -0.2519, -0.0215, -0.2236,  0.2288,  0.1386, -0.7864,  0.2401,  0.2236,\n",
      "         -0.0768, -0.0718,  0.2970, -0.9997,  0.0900, -0.1054, -0.1477,  0.1120,\n",
      "         -0.0802, -0.0317,  0.1748,  0.4382, -0.0114,  0.0268,  0.0985,  0.2087,\n",
      "         -0.0561,  0.0885,  0.1395,  0.1448,  0.3655,  0.0473,  0.2295,  0.1396,\n",
      "          0.0353,  0.0313, -0.2216,  0.3834,  0.4075,  0.0854,  0.0267, -0.2876,\n",
      "          0.2509, -0.4159,  0.0515, -0.1488, -0.1429,  0.0522, -0.0581, -0.2121,\n",
      "         -0.2375,  0.2196, -0.2386,  0.9998,  0.0392, -0.2952, -0.2888,  0.3782,\n",
      "          0.4420, -0.2437, -0.5988,  0.0015,  0.2985,  0.2535,  0.3334,  0.0586,\n",
      "          0.0290, -0.0917, -0.2692, -0.1202, -0.0229, -0.2356,  0.0871, -0.1668,\n",
      "         -0.2282,  0.1608, -0.1450,  0.0868, -0.6353,  0.0763,  0.3403,  0.2290,\n",
      "          0.1652,  0.0425, -0.1953,  0.2108,  0.0769, -0.3915, -0.2776, -0.3137,\n",
      "         -0.1781,  0.0131, -0.2056, -0.1404,  0.1195, -0.2259,  0.2298,  0.0347,\n",
      "         -0.1645, -0.1765,  0.2342, -0.9998, -0.0266,  0.0909, -0.2858,  0.3250,\n",
      "         -0.2240, -0.2769,  0.0574,  0.0570,  0.0355, -0.0879, -0.1878, -0.1758,\n",
      "         -0.0788,  0.2482,  0.4529,  0.0786,  0.2486, -0.2036,  0.0676, -0.2205,\n",
      "         -0.1165,  0.2891,  0.0488, -0.1448,  0.1433,  0.1758,  0.1200, -0.0609,\n",
      "          0.4062, -0.2050, -0.2079,  0.2541,  0.0906, -0.0704, -0.2207,  0.2033,\n",
      "         -0.2984,  0.4205,  0.0959,  0.2976,  0.1732,  0.0518, -0.2366, -0.1205,\n",
      "         -0.1324, -0.1735, -0.2923, -0.2466, -0.2005,  0.9997,  0.1731,  0.3007,\n",
      "         -0.4381, -0.0159,  0.2072, -0.1125,  0.0318,  0.2332,  0.1608, -0.1547,\n",
      "          0.1889,  0.1143,  0.2722,  0.0803,  0.2335,  0.1986, -0.1163,  0.1407,\n",
      "         -0.1946, -0.3379, -0.5293,  0.0961,  0.1967, -0.2347, -0.4696,  0.1128,\n",
      "         -0.2159, -0.0293, -0.1171,  0.1591,  0.0619, -0.0749,  0.2349, -0.0758,\n",
      "          0.9998, -0.0320,  0.1260,  0.1152,  0.0652, -0.1884, -0.1528, -0.1441,\n",
      "          0.2143, -0.1165, -0.0460, -0.4389,  0.2990, -0.1170,  0.2201, -0.1643,\n",
      "          0.0994, -0.2552,  0.2340,  0.0733, -0.1616, -0.2836,  0.3148, -0.3276,\n",
      "          0.3455, -0.1301,  0.2662, -0.3346,  0.0556, -0.1236,  0.2962, -0.3852,\n",
      "          0.0494, -0.1554, -0.1362, -0.2825,  0.0417, -0.0380,  0.9998, -0.1381,\n",
      "          0.1109, -0.1258,  0.3593, -0.1546,  0.3332,  0.2716, -0.1282,  0.1093,\n",
      "          0.2652, -0.1601,  0.3302,  0.0166, -0.7144, -0.0877,  0.5174,  0.2029,\n",
      "          0.2495,  0.4333, -0.0537,  0.0319, -0.0997,  0.0829,  0.4743,  0.2205,\n",
      "          0.2793,  0.1792, -0.0484, -0.2047, -0.2177,  0.9998,  0.9998,  0.1722,\n",
      "          0.2218, -0.1595, -0.2775, -0.1615,  0.1193,  0.0411,  0.3740, -0.0577,\n",
      "         -0.0600, -0.0366, -0.1578,  0.1580, -0.2020, -0.3266,  0.0413, -0.3409,\n",
      "          0.1042,  0.1914,  0.0784,  0.2510, -0.0095,  0.2830, -0.0195, -0.2368,\n",
      "          0.1714, -0.2046,  0.0189, -0.3300,  0.0064, -0.9997, -0.2572, -0.1202,\n",
      "         -0.4470,  0.4226,  0.0322,  0.1511, -0.3023, -0.0303, -0.2070,  0.0886,\n",
      "          0.0751,  0.1150,  0.0328, -0.2607,  0.4318, -0.2488, -0.0953, -0.3248,\n",
      "         -0.1871, -0.3014,  0.0432, -0.3738,  0.1450, -0.1870, -0.1557,  0.2820,\n",
      "          0.2084,  0.0511, -0.2807,  0.1190, -0.0948,  0.0869,  0.3360,  0.0073,\n",
      "          0.1152, -0.1521, -0.2566, -0.1774, -0.2480, -0.1185,  0.3408, -0.1641,\n",
      "          0.2286, -0.0982, -0.0325, -0.2574,  0.0639,  0.3312,  0.2551, -0.1027,\n",
      "          0.3619,  0.2137, -0.0257,  0.1763,  0.1691, -0.2304, -0.2317,  0.9998,\n",
      "          0.3150,  0.1678,  0.0856, -0.0025, -0.0250,  0.2942,  0.3746, -0.3301,\n",
      "          0.7379, -0.1115,  0.2641,  0.0568,  0.1846, -0.0593,  0.0690,  0.0147,\n",
      "          0.3018,  0.2007,  0.1684,  0.1954,  0.2719,  0.3485,  0.2318,  0.0011,\n",
      "          0.3962,  0.1925, -0.2147,  0.1192, -0.2644, -0.1992, -0.1315, -0.0343,\n",
      "         -0.1413,  0.0694, -0.1324, -0.1887, -0.1254,  0.3710, -0.2396,  0.1595,\n",
      "         -0.1888, -0.2233,  0.2131, -0.3650,  0.3430,  0.0148,  0.1874, -0.3326,\n",
      "          0.2056, -0.0277, -0.2801, -0.1967, -0.4374,  0.3532,  0.1679, -0.1055,\n",
      "          0.1902, -0.2627,  0.3020,  0.0136, -0.1200,  0.1354, -0.9998,  0.0692,\n",
      "          0.0965, -0.1350,  0.0600, -0.0809,  0.0924,  0.0278, -0.1476, -0.2823,\n",
      "         -0.1059, -0.1635, -0.2314, -0.0769,  0.3686, -0.2338, -0.2064,  0.0631,\n",
      "         -0.0611,  0.1731,  0.2390, -0.2196,  0.2946, -0.3207,  0.1501, -0.0653,\n",
      "          0.2735, -0.1781, -0.1825,  0.2647, -0.3039, -0.2016, -0.1599,  0.1475,\n",
      "         -0.1280, -0.0229,  0.2779, -0.1021,  0.2926, -0.2741,  0.1707, -0.1342,\n",
      "          0.3141, -0.5241, -0.0446, -0.1813, -0.2360, -0.1045,  0.3949, -0.0645,\n",
      "          0.1283, -0.0012,  0.0816,  0.0678, -0.0160,  0.0352, -0.4003,  0.1224,\n",
      "         -0.2924,  0.2153, -0.2409,  0.0092, -0.6704, -0.1235,  0.2860,  0.2713,\n",
      "          0.4083, -0.3494, -0.2189, -0.3101,  0.0326,  0.1005,  0.2880,  0.1178,\n",
      "          0.1643,  0.3873, -0.0751, -0.0500,  0.5076, -0.1551,  0.0663,  0.2540,\n",
      "          0.2570,  0.7029,  0.2561,  0.1768, -0.0431, -0.4277,  0.2951,  0.2832]],\n",
      "       grad_fn=<TanhBackward0>), hidden_states=None, past_key_values=None, attentions=None, cross_attentions=None)\n"
     ]
    }
   ],
   "source": [
    "print(encoded_input)\n",
    "print(output)"
   ]
  },
  {
   "cell_type": "code",
   "execution_count": 29,
   "id": "6522914c",
   "metadata": {
    "ExecuteTime": {
     "end_time": "2023-10-31T13:33:22.773837Z",
     "start_time": "2023-10-31T13:33:18.276791Z"
    }
   },
   "outputs": [],
   "source": [
    "tokenized = x_train.apply(\n",
    "    lambda x: tokenizer.encode(x, add_special_tokens=True))\n",
    "\n",
    "max_len = 0\n",
    "for i in tokenized.values:\n",
    "    if len(i) > max_len:\n",
    "        max_len = len(i)\n",
    "\n",
    "padded = np.array([i + [0]*(max_len - len(i)) for i in tokenized.values])\n",
    "\n",
    "attention_mask = np.where(padded != 0, 1, 0)"
   ]
  },
  {
   "cell_type": "code",
   "execution_count": 31,
   "id": "f440b2c5",
   "metadata": {
    "ExecuteTime": {
     "end_time": "2023-10-31T13:57:05.728735Z",
     "start_time": "2023-10-31T13:33:24.890493Z"
    },
    "scrolled": true
   },
   "outputs": [
    {
     "data": {
      "application/vnd.jupyter.widget-view+json": {
       "model_id": "2e3b7c4c4991430099b77f458206b2f2",
       "version_major": 2,
       "version_minor": 0
      },
      "text/plain": [
       "  0%|          | 0/57029 [00:00<?, ?it/s]"
      ]
     },
     "metadata": {},
     "output_type": "display_data"
    },
    {
     "ename": "KeyboardInterrupt",
     "evalue": "",
     "output_type": "error",
     "traceback": [
      "\u001b[1;31m---------------------------------------------------------------------------\u001b[0m",
      "\u001b[1;31mKeyboardInterrupt\u001b[0m                         Traceback (most recent call last)",
      "Cell \u001b[1;32mIn[31], line 8\u001b[0m\n\u001b[0;32m      5\u001b[0m attention_mask_batch \u001b[38;5;241m=\u001b[39m torch\u001b[38;5;241m.\u001b[39mLongTensor(attention_mask[batch_size\u001b[38;5;241m*\u001b[39mi:batch_size\u001b[38;5;241m*\u001b[39m(i\u001b[38;5;241m+\u001b[39m\u001b[38;5;241m1\u001b[39m)])\n\u001b[0;32m      7\u001b[0m \u001b[38;5;28;01mwith\u001b[39;00m torch\u001b[38;5;241m.\u001b[39mno_grad():\n\u001b[1;32m----> 8\u001b[0m     batch_embeddings \u001b[38;5;241m=\u001b[39m model(batch, attention_mask\u001b[38;5;241m=\u001b[39mattention_mask_batch)\n\u001b[0;32m     10\u001b[0m embeddings\u001b[38;5;241m.\u001b[39mappend(batch_embeddings[\u001b[38;5;241m0\u001b[39m][:,\u001b[38;5;241m0\u001b[39m,:]\u001b[38;5;241m.\u001b[39mnumpy())\n",
      "File \u001b[1;32mD:\\programs\\Anaconda3\\envs\\gpu2\\Lib\\site-packages\\torch\\nn\\modules\\module.py:1518\u001b[0m, in \u001b[0;36mModule._wrapped_call_impl\u001b[1;34m(self, *args, **kwargs)\u001b[0m\n\u001b[0;32m   1516\u001b[0m     \u001b[38;5;28;01mreturn\u001b[39;00m \u001b[38;5;28mself\u001b[39m\u001b[38;5;241m.\u001b[39m_compiled_call_impl(\u001b[38;5;241m*\u001b[39margs, \u001b[38;5;241m*\u001b[39m\u001b[38;5;241m*\u001b[39mkwargs)  \u001b[38;5;66;03m# type: ignore[misc]\u001b[39;00m\n\u001b[0;32m   1517\u001b[0m \u001b[38;5;28;01melse\u001b[39;00m:\n\u001b[1;32m-> 1518\u001b[0m     \u001b[38;5;28;01mreturn\u001b[39;00m \u001b[38;5;28mself\u001b[39m\u001b[38;5;241m.\u001b[39m_call_impl(\u001b[38;5;241m*\u001b[39margs, \u001b[38;5;241m*\u001b[39m\u001b[38;5;241m*\u001b[39mkwargs)\n",
      "File \u001b[1;32mD:\\programs\\Anaconda3\\envs\\gpu2\\Lib\\site-packages\\torch\\nn\\modules\\module.py:1527\u001b[0m, in \u001b[0;36mModule._call_impl\u001b[1;34m(self, *args, **kwargs)\u001b[0m\n\u001b[0;32m   1522\u001b[0m \u001b[38;5;66;03m# If we don't have any hooks, we want to skip the rest of the logic in\u001b[39;00m\n\u001b[0;32m   1523\u001b[0m \u001b[38;5;66;03m# this function, and just call forward.\u001b[39;00m\n\u001b[0;32m   1524\u001b[0m \u001b[38;5;28;01mif\u001b[39;00m \u001b[38;5;129;01mnot\u001b[39;00m (\u001b[38;5;28mself\u001b[39m\u001b[38;5;241m.\u001b[39m_backward_hooks \u001b[38;5;129;01mor\u001b[39;00m \u001b[38;5;28mself\u001b[39m\u001b[38;5;241m.\u001b[39m_backward_pre_hooks \u001b[38;5;129;01mor\u001b[39;00m \u001b[38;5;28mself\u001b[39m\u001b[38;5;241m.\u001b[39m_forward_hooks \u001b[38;5;129;01mor\u001b[39;00m \u001b[38;5;28mself\u001b[39m\u001b[38;5;241m.\u001b[39m_forward_pre_hooks\n\u001b[0;32m   1525\u001b[0m         \u001b[38;5;129;01mor\u001b[39;00m _global_backward_pre_hooks \u001b[38;5;129;01mor\u001b[39;00m _global_backward_hooks\n\u001b[0;32m   1526\u001b[0m         \u001b[38;5;129;01mor\u001b[39;00m _global_forward_hooks \u001b[38;5;129;01mor\u001b[39;00m _global_forward_pre_hooks):\n\u001b[1;32m-> 1527\u001b[0m     \u001b[38;5;28;01mreturn\u001b[39;00m forward_call(\u001b[38;5;241m*\u001b[39margs, \u001b[38;5;241m*\u001b[39m\u001b[38;5;241m*\u001b[39mkwargs)\n\u001b[0;32m   1529\u001b[0m \u001b[38;5;28;01mtry\u001b[39;00m:\n\u001b[0;32m   1530\u001b[0m     result \u001b[38;5;241m=\u001b[39m \u001b[38;5;28;01mNone\u001b[39;00m\n",
      "File \u001b[1;32mD:\\programs\\Anaconda3\\envs\\gpu2\\Lib\\site-packages\\transformers\\models\\bert\\modeling_bert.py:1022\u001b[0m, in \u001b[0;36mBertModel.forward\u001b[1;34m(self, input_ids, attention_mask, token_type_ids, position_ids, head_mask, inputs_embeds, encoder_hidden_states, encoder_attention_mask, past_key_values, use_cache, output_attentions, output_hidden_states, return_dict)\u001b[0m\n\u001b[0;32m   1013\u001b[0m head_mask \u001b[38;5;241m=\u001b[39m \u001b[38;5;28mself\u001b[39m\u001b[38;5;241m.\u001b[39mget_head_mask(head_mask, \u001b[38;5;28mself\u001b[39m\u001b[38;5;241m.\u001b[39mconfig\u001b[38;5;241m.\u001b[39mnum_hidden_layers)\n\u001b[0;32m   1015\u001b[0m embedding_output \u001b[38;5;241m=\u001b[39m \u001b[38;5;28mself\u001b[39m\u001b[38;5;241m.\u001b[39membeddings(\n\u001b[0;32m   1016\u001b[0m     input_ids\u001b[38;5;241m=\u001b[39minput_ids,\n\u001b[0;32m   1017\u001b[0m     position_ids\u001b[38;5;241m=\u001b[39mposition_ids,\n\u001b[1;32m   (...)\u001b[0m\n\u001b[0;32m   1020\u001b[0m     past_key_values_length\u001b[38;5;241m=\u001b[39mpast_key_values_length,\n\u001b[0;32m   1021\u001b[0m )\n\u001b[1;32m-> 1022\u001b[0m encoder_outputs \u001b[38;5;241m=\u001b[39m \u001b[38;5;28mself\u001b[39m\u001b[38;5;241m.\u001b[39mencoder(\n\u001b[0;32m   1023\u001b[0m     embedding_output,\n\u001b[0;32m   1024\u001b[0m     attention_mask\u001b[38;5;241m=\u001b[39mextended_attention_mask,\n\u001b[0;32m   1025\u001b[0m     head_mask\u001b[38;5;241m=\u001b[39mhead_mask,\n\u001b[0;32m   1026\u001b[0m     encoder_hidden_states\u001b[38;5;241m=\u001b[39mencoder_hidden_states,\n\u001b[0;32m   1027\u001b[0m     encoder_attention_mask\u001b[38;5;241m=\u001b[39mencoder_extended_attention_mask,\n\u001b[0;32m   1028\u001b[0m     past_key_values\u001b[38;5;241m=\u001b[39mpast_key_values,\n\u001b[0;32m   1029\u001b[0m     use_cache\u001b[38;5;241m=\u001b[39muse_cache,\n\u001b[0;32m   1030\u001b[0m     output_attentions\u001b[38;5;241m=\u001b[39moutput_attentions,\n\u001b[0;32m   1031\u001b[0m     output_hidden_states\u001b[38;5;241m=\u001b[39moutput_hidden_states,\n\u001b[0;32m   1032\u001b[0m     return_dict\u001b[38;5;241m=\u001b[39mreturn_dict,\n\u001b[0;32m   1033\u001b[0m )\n\u001b[0;32m   1034\u001b[0m sequence_output \u001b[38;5;241m=\u001b[39m encoder_outputs[\u001b[38;5;241m0\u001b[39m]\n\u001b[0;32m   1035\u001b[0m pooled_output \u001b[38;5;241m=\u001b[39m \u001b[38;5;28mself\u001b[39m\u001b[38;5;241m.\u001b[39mpooler(sequence_output) \u001b[38;5;28;01mif\u001b[39;00m \u001b[38;5;28mself\u001b[39m\u001b[38;5;241m.\u001b[39mpooler \u001b[38;5;129;01mis\u001b[39;00m \u001b[38;5;129;01mnot\u001b[39;00m \u001b[38;5;28;01mNone\u001b[39;00m \u001b[38;5;28;01melse\u001b[39;00m \u001b[38;5;28;01mNone\u001b[39;00m\n",
      "File \u001b[1;32mD:\\programs\\Anaconda3\\envs\\gpu2\\Lib\\site-packages\\torch\\nn\\modules\\module.py:1518\u001b[0m, in \u001b[0;36mModule._wrapped_call_impl\u001b[1;34m(self, *args, **kwargs)\u001b[0m\n\u001b[0;32m   1516\u001b[0m     \u001b[38;5;28;01mreturn\u001b[39;00m \u001b[38;5;28mself\u001b[39m\u001b[38;5;241m.\u001b[39m_compiled_call_impl(\u001b[38;5;241m*\u001b[39margs, \u001b[38;5;241m*\u001b[39m\u001b[38;5;241m*\u001b[39mkwargs)  \u001b[38;5;66;03m# type: ignore[misc]\u001b[39;00m\n\u001b[0;32m   1517\u001b[0m \u001b[38;5;28;01melse\u001b[39;00m:\n\u001b[1;32m-> 1518\u001b[0m     \u001b[38;5;28;01mreturn\u001b[39;00m \u001b[38;5;28mself\u001b[39m\u001b[38;5;241m.\u001b[39m_call_impl(\u001b[38;5;241m*\u001b[39margs, \u001b[38;5;241m*\u001b[39m\u001b[38;5;241m*\u001b[39mkwargs)\n",
      "File \u001b[1;32mD:\\programs\\Anaconda3\\envs\\gpu2\\Lib\\site-packages\\torch\\nn\\modules\\module.py:1527\u001b[0m, in \u001b[0;36mModule._call_impl\u001b[1;34m(self, *args, **kwargs)\u001b[0m\n\u001b[0;32m   1522\u001b[0m \u001b[38;5;66;03m# If we don't have any hooks, we want to skip the rest of the logic in\u001b[39;00m\n\u001b[0;32m   1523\u001b[0m \u001b[38;5;66;03m# this function, and just call forward.\u001b[39;00m\n\u001b[0;32m   1524\u001b[0m \u001b[38;5;28;01mif\u001b[39;00m \u001b[38;5;129;01mnot\u001b[39;00m (\u001b[38;5;28mself\u001b[39m\u001b[38;5;241m.\u001b[39m_backward_hooks \u001b[38;5;129;01mor\u001b[39;00m \u001b[38;5;28mself\u001b[39m\u001b[38;5;241m.\u001b[39m_backward_pre_hooks \u001b[38;5;129;01mor\u001b[39;00m \u001b[38;5;28mself\u001b[39m\u001b[38;5;241m.\u001b[39m_forward_hooks \u001b[38;5;129;01mor\u001b[39;00m \u001b[38;5;28mself\u001b[39m\u001b[38;5;241m.\u001b[39m_forward_pre_hooks\n\u001b[0;32m   1525\u001b[0m         \u001b[38;5;129;01mor\u001b[39;00m _global_backward_pre_hooks \u001b[38;5;129;01mor\u001b[39;00m _global_backward_hooks\n\u001b[0;32m   1526\u001b[0m         \u001b[38;5;129;01mor\u001b[39;00m _global_forward_hooks \u001b[38;5;129;01mor\u001b[39;00m _global_forward_pre_hooks):\n\u001b[1;32m-> 1527\u001b[0m     \u001b[38;5;28;01mreturn\u001b[39;00m forward_call(\u001b[38;5;241m*\u001b[39margs, \u001b[38;5;241m*\u001b[39m\u001b[38;5;241m*\u001b[39mkwargs)\n\u001b[0;32m   1529\u001b[0m \u001b[38;5;28;01mtry\u001b[39;00m:\n\u001b[0;32m   1530\u001b[0m     result \u001b[38;5;241m=\u001b[39m \u001b[38;5;28;01mNone\u001b[39;00m\n",
      "File \u001b[1;32mD:\\programs\\Anaconda3\\envs\\gpu2\\Lib\\site-packages\\transformers\\models\\bert\\modeling_bert.py:612\u001b[0m, in \u001b[0;36mBertEncoder.forward\u001b[1;34m(self, hidden_states, attention_mask, head_mask, encoder_hidden_states, encoder_attention_mask, past_key_values, use_cache, output_attentions, output_hidden_states, return_dict)\u001b[0m\n\u001b[0;32m    603\u001b[0m     layer_outputs \u001b[38;5;241m=\u001b[39m torch\u001b[38;5;241m.\u001b[39mutils\u001b[38;5;241m.\u001b[39mcheckpoint\u001b[38;5;241m.\u001b[39mcheckpoint(\n\u001b[0;32m    604\u001b[0m         create_custom_forward(layer_module),\n\u001b[0;32m    605\u001b[0m         hidden_states,\n\u001b[1;32m   (...)\u001b[0m\n\u001b[0;32m    609\u001b[0m         encoder_attention_mask,\n\u001b[0;32m    610\u001b[0m     )\n\u001b[0;32m    611\u001b[0m \u001b[38;5;28;01melse\u001b[39;00m:\n\u001b[1;32m--> 612\u001b[0m     layer_outputs \u001b[38;5;241m=\u001b[39m layer_module(\n\u001b[0;32m    613\u001b[0m         hidden_states,\n\u001b[0;32m    614\u001b[0m         attention_mask,\n\u001b[0;32m    615\u001b[0m         layer_head_mask,\n\u001b[0;32m    616\u001b[0m         encoder_hidden_states,\n\u001b[0;32m    617\u001b[0m         encoder_attention_mask,\n\u001b[0;32m    618\u001b[0m         past_key_value,\n\u001b[0;32m    619\u001b[0m         output_attentions,\n\u001b[0;32m    620\u001b[0m     )\n\u001b[0;32m    622\u001b[0m hidden_states \u001b[38;5;241m=\u001b[39m layer_outputs[\u001b[38;5;241m0\u001b[39m]\n\u001b[0;32m    623\u001b[0m \u001b[38;5;28;01mif\u001b[39;00m use_cache:\n",
      "File \u001b[1;32mD:\\programs\\Anaconda3\\envs\\gpu2\\Lib\\site-packages\\torch\\nn\\modules\\module.py:1518\u001b[0m, in \u001b[0;36mModule._wrapped_call_impl\u001b[1;34m(self, *args, **kwargs)\u001b[0m\n\u001b[0;32m   1516\u001b[0m     \u001b[38;5;28;01mreturn\u001b[39;00m \u001b[38;5;28mself\u001b[39m\u001b[38;5;241m.\u001b[39m_compiled_call_impl(\u001b[38;5;241m*\u001b[39margs, \u001b[38;5;241m*\u001b[39m\u001b[38;5;241m*\u001b[39mkwargs)  \u001b[38;5;66;03m# type: ignore[misc]\u001b[39;00m\n\u001b[0;32m   1517\u001b[0m \u001b[38;5;28;01melse\u001b[39;00m:\n\u001b[1;32m-> 1518\u001b[0m     \u001b[38;5;28;01mreturn\u001b[39;00m \u001b[38;5;28mself\u001b[39m\u001b[38;5;241m.\u001b[39m_call_impl(\u001b[38;5;241m*\u001b[39margs, \u001b[38;5;241m*\u001b[39m\u001b[38;5;241m*\u001b[39mkwargs)\n",
      "File \u001b[1;32mD:\\programs\\Anaconda3\\envs\\gpu2\\Lib\\site-packages\\torch\\nn\\modules\\module.py:1527\u001b[0m, in \u001b[0;36mModule._call_impl\u001b[1;34m(self, *args, **kwargs)\u001b[0m\n\u001b[0;32m   1522\u001b[0m \u001b[38;5;66;03m# If we don't have any hooks, we want to skip the rest of the logic in\u001b[39;00m\n\u001b[0;32m   1523\u001b[0m \u001b[38;5;66;03m# this function, and just call forward.\u001b[39;00m\n\u001b[0;32m   1524\u001b[0m \u001b[38;5;28;01mif\u001b[39;00m \u001b[38;5;129;01mnot\u001b[39;00m (\u001b[38;5;28mself\u001b[39m\u001b[38;5;241m.\u001b[39m_backward_hooks \u001b[38;5;129;01mor\u001b[39;00m \u001b[38;5;28mself\u001b[39m\u001b[38;5;241m.\u001b[39m_backward_pre_hooks \u001b[38;5;129;01mor\u001b[39;00m \u001b[38;5;28mself\u001b[39m\u001b[38;5;241m.\u001b[39m_forward_hooks \u001b[38;5;129;01mor\u001b[39;00m \u001b[38;5;28mself\u001b[39m\u001b[38;5;241m.\u001b[39m_forward_pre_hooks\n\u001b[0;32m   1525\u001b[0m         \u001b[38;5;129;01mor\u001b[39;00m _global_backward_pre_hooks \u001b[38;5;129;01mor\u001b[39;00m _global_backward_hooks\n\u001b[0;32m   1526\u001b[0m         \u001b[38;5;129;01mor\u001b[39;00m _global_forward_hooks \u001b[38;5;129;01mor\u001b[39;00m _global_forward_pre_hooks):\n\u001b[1;32m-> 1527\u001b[0m     \u001b[38;5;28;01mreturn\u001b[39;00m forward_call(\u001b[38;5;241m*\u001b[39margs, \u001b[38;5;241m*\u001b[39m\u001b[38;5;241m*\u001b[39mkwargs)\n\u001b[0;32m   1529\u001b[0m \u001b[38;5;28;01mtry\u001b[39;00m:\n\u001b[0;32m   1530\u001b[0m     result \u001b[38;5;241m=\u001b[39m \u001b[38;5;28;01mNone\u001b[39;00m\n",
      "File \u001b[1;32mD:\\programs\\Anaconda3\\envs\\gpu2\\Lib\\site-packages\\transformers\\models\\bert\\modeling_bert.py:539\u001b[0m, in \u001b[0;36mBertLayer.forward\u001b[1;34m(self, hidden_states, attention_mask, head_mask, encoder_hidden_states, encoder_attention_mask, past_key_value, output_attentions)\u001b[0m\n\u001b[0;32m    536\u001b[0m     cross_attn_present_key_value \u001b[38;5;241m=\u001b[39m cross_attention_outputs[\u001b[38;5;241m-\u001b[39m\u001b[38;5;241m1\u001b[39m]\n\u001b[0;32m    537\u001b[0m     present_key_value \u001b[38;5;241m=\u001b[39m present_key_value \u001b[38;5;241m+\u001b[39m cross_attn_present_key_value\n\u001b[1;32m--> 539\u001b[0m layer_output \u001b[38;5;241m=\u001b[39m apply_chunking_to_forward(\n\u001b[0;32m    540\u001b[0m     \u001b[38;5;28mself\u001b[39m\u001b[38;5;241m.\u001b[39mfeed_forward_chunk, \u001b[38;5;28mself\u001b[39m\u001b[38;5;241m.\u001b[39mchunk_size_feed_forward, \u001b[38;5;28mself\u001b[39m\u001b[38;5;241m.\u001b[39mseq_len_dim, attention_output\n\u001b[0;32m    541\u001b[0m )\n\u001b[0;32m    542\u001b[0m outputs \u001b[38;5;241m=\u001b[39m (layer_output,) \u001b[38;5;241m+\u001b[39m outputs\n\u001b[0;32m    544\u001b[0m \u001b[38;5;66;03m# if decoder, return the attn key/values as the last output\u001b[39;00m\n",
      "File \u001b[1;32mD:\\programs\\Anaconda3\\envs\\gpu2\\Lib\\site-packages\\transformers\\pytorch_utils.py:240\u001b[0m, in \u001b[0;36mapply_chunking_to_forward\u001b[1;34m(forward_fn, chunk_size, chunk_dim, *input_tensors)\u001b[0m\n\u001b[0;32m    237\u001b[0m     \u001b[38;5;66;03m# concatenate output at same dimension\u001b[39;00m\n\u001b[0;32m    238\u001b[0m     \u001b[38;5;28;01mreturn\u001b[39;00m torch\u001b[38;5;241m.\u001b[39mcat(output_chunks, dim\u001b[38;5;241m=\u001b[39mchunk_dim)\n\u001b[1;32m--> 240\u001b[0m \u001b[38;5;28;01mreturn\u001b[39;00m forward_fn(\u001b[38;5;241m*\u001b[39minput_tensors)\n",
      "File \u001b[1;32mD:\\programs\\Anaconda3\\envs\\gpu2\\Lib\\site-packages\\transformers\\models\\bert\\modeling_bert.py:552\u001b[0m, in \u001b[0;36mBertLayer.feed_forward_chunk\u001b[1;34m(self, attention_output)\u001b[0m\n\u001b[0;32m    550\u001b[0m \u001b[38;5;28;01mdef\u001b[39;00m \u001b[38;5;21mfeed_forward_chunk\u001b[39m(\u001b[38;5;28mself\u001b[39m, attention_output):\n\u001b[0;32m    551\u001b[0m     intermediate_output \u001b[38;5;241m=\u001b[39m \u001b[38;5;28mself\u001b[39m\u001b[38;5;241m.\u001b[39mintermediate(attention_output)\n\u001b[1;32m--> 552\u001b[0m     layer_output \u001b[38;5;241m=\u001b[39m \u001b[38;5;28mself\u001b[39m\u001b[38;5;241m.\u001b[39moutput(intermediate_output, attention_output)\n\u001b[0;32m    553\u001b[0m     \u001b[38;5;28;01mreturn\u001b[39;00m layer_output\n",
      "File \u001b[1;32mD:\\programs\\Anaconda3\\envs\\gpu2\\Lib\\site-packages\\torch\\nn\\modules\\module.py:1518\u001b[0m, in \u001b[0;36mModule._wrapped_call_impl\u001b[1;34m(self, *args, **kwargs)\u001b[0m\n\u001b[0;32m   1516\u001b[0m     \u001b[38;5;28;01mreturn\u001b[39;00m \u001b[38;5;28mself\u001b[39m\u001b[38;5;241m.\u001b[39m_compiled_call_impl(\u001b[38;5;241m*\u001b[39margs, \u001b[38;5;241m*\u001b[39m\u001b[38;5;241m*\u001b[39mkwargs)  \u001b[38;5;66;03m# type: ignore[misc]\u001b[39;00m\n\u001b[0;32m   1517\u001b[0m \u001b[38;5;28;01melse\u001b[39;00m:\n\u001b[1;32m-> 1518\u001b[0m     \u001b[38;5;28;01mreturn\u001b[39;00m \u001b[38;5;28mself\u001b[39m\u001b[38;5;241m.\u001b[39m_call_impl(\u001b[38;5;241m*\u001b[39margs, \u001b[38;5;241m*\u001b[39m\u001b[38;5;241m*\u001b[39mkwargs)\n",
      "File \u001b[1;32mD:\\programs\\Anaconda3\\envs\\gpu2\\Lib\\site-packages\\torch\\nn\\modules\\module.py:1527\u001b[0m, in \u001b[0;36mModule._call_impl\u001b[1;34m(self, *args, **kwargs)\u001b[0m\n\u001b[0;32m   1522\u001b[0m \u001b[38;5;66;03m# If we don't have any hooks, we want to skip the rest of the logic in\u001b[39;00m\n\u001b[0;32m   1523\u001b[0m \u001b[38;5;66;03m# this function, and just call forward.\u001b[39;00m\n\u001b[0;32m   1524\u001b[0m \u001b[38;5;28;01mif\u001b[39;00m \u001b[38;5;129;01mnot\u001b[39;00m (\u001b[38;5;28mself\u001b[39m\u001b[38;5;241m.\u001b[39m_backward_hooks \u001b[38;5;129;01mor\u001b[39;00m \u001b[38;5;28mself\u001b[39m\u001b[38;5;241m.\u001b[39m_backward_pre_hooks \u001b[38;5;129;01mor\u001b[39;00m \u001b[38;5;28mself\u001b[39m\u001b[38;5;241m.\u001b[39m_forward_hooks \u001b[38;5;129;01mor\u001b[39;00m \u001b[38;5;28mself\u001b[39m\u001b[38;5;241m.\u001b[39m_forward_pre_hooks\n\u001b[0;32m   1525\u001b[0m         \u001b[38;5;129;01mor\u001b[39;00m _global_backward_pre_hooks \u001b[38;5;129;01mor\u001b[39;00m _global_backward_hooks\n\u001b[0;32m   1526\u001b[0m         \u001b[38;5;129;01mor\u001b[39;00m _global_forward_hooks \u001b[38;5;129;01mor\u001b[39;00m _global_forward_pre_hooks):\n\u001b[1;32m-> 1527\u001b[0m     \u001b[38;5;28;01mreturn\u001b[39;00m forward_call(\u001b[38;5;241m*\u001b[39margs, \u001b[38;5;241m*\u001b[39m\u001b[38;5;241m*\u001b[39mkwargs)\n\u001b[0;32m   1529\u001b[0m \u001b[38;5;28;01mtry\u001b[39;00m:\n\u001b[0;32m   1530\u001b[0m     result \u001b[38;5;241m=\u001b[39m \u001b[38;5;28;01mNone\u001b[39;00m\n",
      "File \u001b[1;32mD:\\programs\\Anaconda3\\envs\\gpu2\\Lib\\site-packages\\transformers\\models\\bert\\modeling_bert.py:464\u001b[0m, in \u001b[0;36mBertOutput.forward\u001b[1;34m(self, hidden_states, input_tensor)\u001b[0m\n\u001b[0;32m    463\u001b[0m \u001b[38;5;28;01mdef\u001b[39;00m \u001b[38;5;21mforward\u001b[39m(\u001b[38;5;28mself\u001b[39m, hidden_states: torch\u001b[38;5;241m.\u001b[39mTensor, input_tensor: torch\u001b[38;5;241m.\u001b[39mTensor) \u001b[38;5;241m-\u001b[39m\u001b[38;5;241m>\u001b[39m torch\u001b[38;5;241m.\u001b[39mTensor:\n\u001b[1;32m--> 464\u001b[0m     hidden_states \u001b[38;5;241m=\u001b[39m \u001b[38;5;28mself\u001b[39m\u001b[38;5;241m.\u001b[39mdense(hidden_states)\n\u001b[0;32m    465\u001b[0m     hidden_states \u001b[38;5;241m=\u001b[39m \u001b[38;5;28mself\u001b[39m\u001b[38;5;241m.\u001b[39mdropout(hidden_states)\n\u001b[0;32m    466\u001b[0m     hidden_states \u001b[38;5;241m=\u001b[39m \u001b[38;5;28mself\u001b[39m\u001b[38;5;241m.\u001b[39mLayerNorm(hidden_states \u001b[38;5;241m+\u001b[39m input_tensor)\n",
      "File \u001b[1;32mD:\\programs\\Anaconda3\\envs\\gpu2\\Lib\\site-packages\\torch\\nn\\modules\\module.py:1518\u001b[0m, in \u001b[0;36mModule._wrapped_call_impl\u001b[1;34m(self, *args, **kwargs)\u001b[0m\n\u001b[0;32m   1516\u001b[0m     \u001b[38;5;28;01mreturn\u001b[39;00m \u001b[38;5;28mself\u001b[39m\u001b[38;5;241m.\u001b[39m_compiled_call_impl(\u001b[38;5;241m*\u001b[39margs, \u001b[38;5;241m*\u001b[39m\u001b[38;5;241m*\u001b[39mkwargs)  \u001b[38;5;66;03m# type: ignore[misc]\u001b[39;00m\n\u001b[0;32m   1517\u001b[0m \u001b[38;5;28;01melse\u001b[39;00m:\n\u001b[1;32m-> 1518\u001b[0m     \u001b[38;5;28;01mreturn\u001b[39;00m \u001b[38;5;28mself\u001b[39m\u001b[38;5;241m.\u001b[39m_call_impl(\u001b[38;5;241m*\u001b[39margs, \u001b[38;5;241m*\u001b[39m\u001b[38;5;241m*\u001b[39mkwargs)\n",
      "File \u001b[1;32mD:\\programs\\Anaconda3\\envs\\gpu2\\Lib\\site-packages\\torch\\nn\\modules\\module.py:1527\u001b[0m, in \u001b[0;36mModule._call_impl\u001b[1;34m(self, *args, **kwargs)\u001b[0m\n\u001b[0;32m   1522\u001b[0m \u001b[38;5;66;03m# If we don't have any hooks, we want to skip the rest of the logic in\u001b[39;00m\n\u001b[0;32m   1523\u001b[0m \u001b[38;5;66;03m# this function, and just call forward.\u001b[39;00m\n\u001b[0;32m   1524\u001b[0m \u001b[38;5;28;01mif\u001b[39;00m \u001b[38;5;129;01mnot\u001b[39;00m (\u001b[38;5;28mself\u001b[39m\u001b[38;5;241m.\u001b[39m_backward_hooks \u001b[38;5;129;01mor\u001b[39;00m \u001b[38;5;28mself\u001b[39m\u001b[38;5;241m.\u001b[39m_backward_pre_hooks \u001b[38;5;129;01mor\u001b[39;00m \u001b[38;5;28mself\u001b[39m\u001b[38;5;241m.\u001b[39m_forward_hooks \u001b[38;5;129;01mor\u001b[39;00m \u001b[38;5;28mself\u001b[39m\u001b[38;5;241m.\u001b[39m_forward_pre_hooks\n\u001b[0;32m   1525\u001b[0m         \u001b[38;5;129;01mor\u001b[39;00m _global_backward_pre_hooks \u001b[38;5;129;01mor\u001b[39;00m _global_backward_hooks\n\u001b[0;32m   1526\u001b[0m         \u001b[38;5;129;01mor\u001b[39;00m _global_forward_hooks \u001b[38;5;129;01mor\u001b[39;00m _global_forward_pre_hooks):\n\u001b[1;32m-> 1527\u001b[0m     \u001b[38;5;28;01mreturn\u001b[39;00m forward_call(\u001b[38;5;241m*\u001b[39margs, \u001b[38;5;241m*\u001b[39m\u001b[38;5;241m*\u001b[39mkwargs)\n\u001b[0;32m   1529\u001b[0m \u001b[38;5;28;01mtry\u001b[39;00m:\n\u001b[0;32m   1530\u001b[0m     result \u001b[38;5;241m=\u001b[39m \u001b[38;5;28;01mNone\u001b[39;00m\n",
      "File \u001b[1;32mD:\\programs\\Anaconda3\\envs\\gpu2\\Lib\\site-packages\\torch\\nn\\modules\\linear.py:114\u001b[0m, in \u001b[0;36mLinear.forward\u001b[1;34m(self, input)\u001b[0m\n\u001b[0;32m    113\u001b[0m \u001b[38;5;28;01mdef\u001b[39;00m \u001b[38;5;21mforward\u001b[39m(\u001b[38;5;28mself\u001b[39m, \u001b[38;5;28minput\u001b[39m: Tensor) \u001b[38;5;241m-\u001b[39m\u001b[38;5;241m>\u001b[39m Tensor:\n\u001b[1;32m--> 114\u001b[0m     \u001b[38;5;28;01mreturn\u001b[39;00m F\u001b[38;5;241m.\u001b[39mlinear(\u001b[38;5;28minput\u001b[39m, \u001b[38;5;28mself\u001b[39m\u001b[38;5;241m.\u001b[39mweight, \u001b[38;5;28mself\u001b[39m\u001b[38;5;241m.\u001b[39mbias)\n",
      "\u001b[1;31mKeyboardInterrupt\u001b[0m: "
     ]
    }
   ],
   "source": [
    "batch_size = 1\n",
    "embeddings = []\n",
    "for i in notebook.tqdm(range(padded.shape[0] // batch_size)):\n",
    "    batch = torch.LongTensor(padded[batch_size*i:batch_size*(i+1)]) \n",
    "    attention_mask_batch = torch.LongTensor(attention_mask[batch_size*i:batch_size*(i+1)])\n",
    "        \n",
    "    with torch.no_grad():\n",
    "        batch_embeddings = model(batch, attention_mask=attention_mask_batch)\n",
    "       \n",
    "    embeddings.append(batch_embeddings[0][:,0,:].numpy())"
   ]
  },
  {
   "cell_type": "code",
   "execution_count": 32,
   "id": "8ccbf76a",
   "metadata": {
    "ExecuteTime": {
     "end_time": "2023-10-31T13:57:13.832873Z",
     "start_time": "2023-10-31T13:57:08.987091Z"
    }
   },
   "outputs": [
    {
     "data": {
      "text/plain": [
       "False"
      ]
     },
     "execution_count": 32,
     "metadata": {},
     "output_type": "execute_result"
    }
   ],
   "source": [
    "import tensorflow as tf\n",
    "tf.test.is_built_with_cuda()"
   ]
  },
  {
   "cell_type": "code",
   "execution_count": null,
   "id": "c6226fe9",
   "metadata": {
    "ExecuteTime": {
     "end_time": "2023-10-31T13:57:05.730746Z",
     "start_time": "2023-10-31T13:57:05.730746Z"
    }
   },
   "outputs": [],
   "source": [
    "features_train = np.concatenate(embeddings)"
   ]
  },
  {
   "cell_type": "code",
   "execution_count": null,
   "id": "7588d3bf",
   "metadata": {
    "ExecuteTime": {
     "end_time": "2023-10-31T13:57:05.731747Z",
     "start_time": "2023-10-31T13:57:05.731747Z"
    }
   },
   "outputs": [],
   "source": [
    "display(tokenized)\n",
    "display(features_train)"
   ]
  },
  {
   "cell_type": "code",
   "execution_count": null,
   "id": "d617eb57",
   "metadata": {
    "ExecuteTime": {
     "end_time": "2023-10-31T13:57:05.734747Z",
     "start_time": "2023-10-31T13:57:05.734747Z"
    }
   },
   "outputs": [],
   "source": [
    "# save numpy array as csv file\n",
    "from numpy import asarray\n",
    "from numpy import savetxt\n",
    "# define data\n",
    "# save to csv file\n",
    "savetxt('D:/programs/projects/yandex_music/features_train.csv', features_train, delimiter=',')\n",
    "np.save('D:/programs/projects/yandex_music/features_train.npy', features_train)"
   ]
  },
  {
   "cell_type": "code",
   "execution_count": null,
   "id": "e8cad79e",
   "metadata": {
    "ExecuteTime": {
     "end_time": "2023-10-31T13:57:05.736747Z",
     "start_time": "2023-10-31T13:57:05.736747Z"
    }
   },
   "outputs": [],
   "source": [
    "features_train"
   ]
  },
  {
   "cell_type": "code",
   "execution_count": 37,
   "id": "51da49b7",
   "metadata": {
    "ExecuteTime": {
     "end_time": "2023-10-31T14:14:30.588243Z",
     "start_time": "2023-10-31T14:14:30.558773Z"
    },
    "scrolled": true
   },
   "outputs": [
    {
     "ename": "NameError",
     "evalue": "name 'features' is not defined",
     "output_type": "error",
     "traceback": [
      "\u001b[1;31m---------------------------------------------------------------------------\u001b[0m",
      "\u001b[1;31mNameError\u001b[0m                                 Traceback (most recent call last)",
      "Cell \u001b[1;32mIn[37], line 2\u001b[0m\n\u001b[0;32m      1\u001b[0m logreg \u001b[38;5;241m=\u001b[39m LogisticRegression(solver\u001b[38;5;241m=\u001b[39m\u001b[38;5;124m'\u001b[39m\u001b[38;5;124mlbfgs\u001b[39m\u001b[38;5;124m'\u001b[39m,max_iter\u001b[38;5;241m=\u001b[39m\u001b[38;5;241m10000\u001b[39m,class_weight \u001b[38;5;241m=\u001b[39m \u001b[38;5;124m'\u001b[39m\u001b[38;5;124mbalanced\u001b[39m\u001b[38;5;124m'\u001b[39m)\n\u001b[1;32m----> 2\u001b[0m logreg\u001b[38;5;241m.\u001b[39mfit(features, y_train)\n",
      "\u001b[1;31mNameError\u001b[0m: name 'features' is not defined"
     ]
    }
   ],
   "source": [
    "logreg = LogisticRegression(solver='lbfgs',max_iter=10000,class_weight = 'balanced')\n",
    "logreg.fit(features, y_train)"
   ]
  },
  {
   "cell_type": "code",
   "execution_count": null,
   "id": "da392821",
   "metadata": {
    "ExecuteTime": {
     "end_time": "2023-10-31T13:57:05.743747Z",
     "start_time": "2023-10-31T13:57:05.743747Z"
    }
   },
   "outputs": [],
   "source": [
    "tokenized = x_ver.apply(\n",
    "    lambda x: tokenizer.encode(x, add_special_tokens=True))\n",
    "\n",
    "padded = np.array([i + [0]*(max_len - len(i)) for i in tokenized.values])\n",
    "\n",
    "attention_mask = np.where(padded != 0, 1, 0)"
   ]
  },
  {
   "cell_type": "code",
   "execution_count": null,
   "id": "a0b4d8fd",
   "metadata": {
    "ExecuteTime": {
     "end_time": "2023-10-31T08:46:06.949494Z",
     "start_time": "2023-10-31T08:46:06.854104Z"
    }
   },
   "outputs": [],
   "source": [
    "tokenized.info()"
   ]
  },
  {
   "cell_type": "code",
   "execution_count": null,
   "id": "58685711",
   "metadata": {
    "ExecuteTime": {
     "end_time": "2023-10-31T13:57:05.745747Z",
     "start_time": "2023-10-31T13:57:05.745747Z"
    }
   },
   "outputs": [],
   "source": [
    "batch_size = 1\n",
    "embeddings = []\n",
    "for i in notebook.tqdm(range(padded.shape[0] // batch_size)):\n",
    "        batch = torch.LongTensor(padded[batch_size*i:batch_size*(i+1)]) \n",
    "        attention_mask_batch = torch.LongTensor(attention_mask[batch_size*i:batch_size*(i+1)])\n",
    "        \n",
    "        with torch.no_grad():\n",
    "            batch_embeddings = model(batch, attention_mask=attention_mask_batch)\n",
    "        \n",
    "        embeddings.append(batch_embeddings[0][:,0,:].numpy())"
   ]
  },
  {
   "cell_type": "code",
   "execution_count": null,
   "id": "7d2c630c",
   "metadata": {
    "ExecuteTime": {
     "end_time": "2023-10-31T13:57:05.747748Z",
     "start_time": "2023-10-31T13:57:05.747748Z"
    }
   },
   "outputs": [],
   "source": [
    "features_ver = np.concatenate(embeddings)"
   ]
  },
  {
   "cell_type": "code",
   "execution_count": null,
   "id": "6c634302",
   "metadata": {
    "ExecuteTime": {
     "end_time": "2023-10-31T13:57:05.748747Z",
     "start_time": "2023-10-31T13:57:05.748747Z"
    }
   },
   "outputs": [],
   "source": [
    "len(features_ver)"
   ]
  },
  {
   "cell_type": "code",
   "execution_count": null,
   "id": "e52e00f8",
   "metadata": {
    "ExecuteTime": {
     "end_time": "2023-10-31T13:57:05.750747Z",
     "start_time": "2023-10-31T13:57:05.750747Z"
    }
   },
   "outputs": [],
   "source": [
    "predictions = logreg.predict(features_ver)\n",
    "print(metrics.precision_score(y_ver, predictions))"
   ]
  },
  {
   "cell_type": "code",
   "execution_count": null,
   "id": "cca68545",
   "metadata": {
    "ExecuteTime": {
     "end_time": "2023-10-31T13:57:05.751745Z",
     "start_time": "2023-10-31T13:57:05.751745Z"
    }
   },
   "outputs": [],
   "source": [
    "log_predict_proba = cross_val_predict(logreg, features_ver, y_ver, cv=2, method='predict_proba')\n",
    "print(log_predict_proba)"
   ]
  },
  {
   "cell_type": "code",
   "execution_count": null,
   "id": "505eb6cd",
   "metadata": {
    "ExecuteTime": {
     "end_time": "2023-10-31T13:57:05.753747Z",
     "start_time": "2023-10-31T13:57:05.753747Z"
    }
   },
   "outputs": [],
   "source": [
    "from matplotlib import pyplot as plt\n",
    "\n",
    "\n",
    "log_predict_proba1 = log_predict_proba[:,1]\n",
    "fpr, tpr, thresholds = metrics.roc_curve(y_ver, log_predict_proba1)\n",
    "auc = metrics.roc_auc_score(y_ver, log_predict_proba1)\n",
    "#create ROC curve\n",
    "plt.plot(fpr,tpr,label=\"AUC=\"+str(auc))\n",
    "plt.title('ROC-AUC')\n",
    "plt.ylabel('True Positive Rate')\n",
    "plt.xlabel('False Positive Rate')\n",
    "plt.legend(loc=4)\n",
    "plt.show()"
   ]
  },
  {
   "cell_type": "code",
   "execution_count": null,
   "id": "3fa39cf1",
   "metadata": {
    "ExecuteTime": {
     "end_time": "2023-10-31T13:57:05.754746Z",
     "start_time": "2023-10-31T13:57:05.754746Z"
    }
   },
   "outputs": [],
   "source": [
    "precision_score = 0.0\n",
    "threshold = 0.1\n",
    "for thresh in range(1, 10):\n",
    "    predict_cv_proba = (log_predict_proba1 >= thresh/10).astype(bool) \n",
    "    print(metrics.precision_score(y_ver, predict_cv_proba))\n",
    "    if precision_score<metrics.precision_score(y_ver, predict_cv_proba):\n",
    "        threshold = thresh/10\n",
    "        precision_score = metrics.precision_score(y_ver, predict_cv_proba)\n",
    "print(threshold)"
   ]
  },
  {
   "cell_type": "code",
   "execution_count": null,
   "id": "861fe730",
   "metadata": {
    "ExecuteTime": {
     "end_time": "2023-10-31T13:57:05.755746Z",
     "start_time": "2023-10-31T13:57:05.755746Z"
    }
   },
   "outputs": [],
   "source": [
    "predict_log = logreg.predict(features_ver)\n",
    "print(predict_log)\n",
    "print(predict_log.sum())\n",
    "print(y_ver.sum())\n",
    "print(metrics.precision_score(y_ver, predict_log))"
   ]
  },
  {
   "cell_type": "code",
   "execution_count": null,
   "id": "f32fa27b",
   "metadata": {
    "ExecuteTime": {
     "end_time": "2023-10-31T13:57:05.756745Z",
     "start_time": "2023-10-31T13:57:05.756745Z"
    }
   },
   "outputs": [],
   "source": [
    "predict_final = (logreg.predict_proba(features_ver)[:,1] >= threshold).astype(bool) \n",
    "print(predict_final)\n",
    "print(predict_final.sum())\n",
    "print(y_ver.sum())\n",
    "print(metrics.precision_score(y_ver, predict_final))"
   ]
  },
  {
   "cell_type": "code",
   "execution_count": null,
   "id": "042ec887",
   "metadata": {},
   "outputs": [],
   "source": []
  },
  {
   "cell_type": "code",
   "execution_count": null,
   "id": "ec1e83f1",
   "metadata": {},
   "outputs": [],
   "source": []
  }
 ],
 "metadata": {
  "hide_input": false,
  "kernelspec": {
   "display_name": "gpu2",
   "language": "python",
   "name": "gpu2"
  },
  "language_info": {
   "codemirror_mode": {
    "name": "ipython",
    "version": 3
   },
   "file_extension": ".py",
   "mimetype": "text/x-python",
   "name": "python",
   "nbconvert_exporter": "python",
   "pygments_lexer": "ipython3",
   "version": "3.11.0"
  },
  "toc": {
   "base_numbering": 1,
   "nav_menu": {},
   "number_sections": true,
   "sideBar": true,
   "skip_h1_title": false,
   "title_cell": "Table of Contents",
   "title_sidebar": "Contents",
   "toc_cell": false,
   "toc_position": {},
   "toc_section_display": true,
   "toc_window_display": false
  }
 },
 "nbformat": 4,
 "nbformat_minor": 5
}
