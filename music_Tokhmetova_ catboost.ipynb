{
 "cells": [
  {
   "cell_type": "markdown",
   "id": "1e51b2b8",
   "metadata": {},
   "source": [
    "### <p style=\"font-family:JetBrains Mono; font-weight:bold; letter-spacing: 2px; color:#294B8E; font-size:140%; text-align:left;padding: 0px; border-bottom: 3px solid #294B8E\">Обнаружение каверов музыкальных треков</p>"
   ]
  },
  {
   "cell_type": "markdown",
   "id": "11a717ef",
   "metadata": {},
   "source": [
    "<a id=\"1.2\"></a>\n",
    "<div style=\"padding:20px;\n",
    "            color:white;\n",
    "            margin:10;\n",
    "            font-size:170%;\n",
    "            text-align:left;\n",
    "            display:fill;\n",
    "            border-radius:5px;\n",
    "            background-color:#294B8E;\n",
    "            overflow:hidden;\n",
    "            font-weight:700\"><span style='color:#CDA63A'>|</span> Содержание</div>"
   ]
  },
  {
   "cell_type": "markdown",
   "id": "a915f679",
   "metadata": {},
   "source": [
    "<div class=\"toc\"><ul class=\"toc-item\"><li><span><a href=\"#Описание-данных\" data-toc-modified-id=\"Описание-данных-1\"><span class=\"toc-item-num\">1&nbsp;&nbsp;</span>Описание данных</a></span></li>\n",
    "    <li><span><a href=\"#Загрузка-библиотек\" data-toc-modified-id=\"Загрузка-библиотек-2\"><span class=\"toc-item-num\">2&nbsp;&nbsp;</span>Загрузка библиотек</a></span></li>\n",
    "    <li><span><a href=\"#EDA\" data-toc-modified-id=\"EDA-3\"><span class=\"toc-item-num\">3&nbsp;&nbsp;</span>EDA</a></span></li>\n",
    "    <li><span><a href=\"#Предобработка-данных\" data-toc-modified-id=\"Предобработка-данных-4\"><span class=\"toc-item-num\">4&nbsp;&nbsp;</span>Предобработка данных</a></span></li>\n",
    "    <li><span><a href=\"#Подготовим-выборки-для-обучения-моделей\" data-toc-modified-id=\"Подготовим-выборки-для-обучения-моделей-5\"><span class=\"toc-item-num\">5&nbsp;&nbsp;</span>Подготовим выборки для обучения моделей</a></span></li>\n",
    "    <li><span><a href=\"#Обучение-моделей\" data-toc-modified-id=\"Обучение-моделей-6\"><span class=\"toc-item-num\">6&nbsp;&nbsp;</span>Обучение моделей</a></span></li>\n",
    "       <li><span><a href=\"#Тестирование-лучшей-модели\" data-toc-modified-id=\"Тестирование-лучшей-модели-7\"><span class=\"toc-item-num\">7&nbsp;&nbsp;</span>Метрика лучшей модели</a></span></li>\n",
    "    <li><span><a href=\"#Вывод\" data-toc-modified-id=\"Вывод-8\"><span class=\"toc-item-num\">8&nbsp;&nbsp;</span>Вывод</a></span></li>"
   ]
  },
  {
   "cell_type": "markdown",
   "id": "0fa4011b",
   "metadata": {},
   "source": [
    "<a id=\"Описание-данных\"></a>\n",
    "<div style=\"padding:20px;\n",
    "            color:white;\n",
    "            margin:10;\n",
    "            font-size:170%;\n",
    "            text-align:left;\n",
    "            display:fill;\n",
    "            border-radius:5px;\n",
    "            background-color:#294B8E;\n",
    "            overflow:hidden;\n",
    "            font-weight:700\"><span style='color:#CDA63A'>|</span> Описание данных</div>"
   ]
  },
  {
   "cell_type": "markdown",
   "id": "8f6c676f",
   "metadata": {},
   "source": [
    "## covers\n",
    "<ul>\n",
    "<li>track_id - уникальный идентификатор трека;</li>\n",
    "<li>track_remake_type - метка, присвоенная редакторами. Может принимать значения ORIGINAL и COVER;</li>\n",
    "<li>original_track_id - уникальный идентификатор исходного трека.</li>\n",
    "</ul>"
   ]
  },
  {
   "cell_type": "markdown",
   "id": "3c030171",
   "metadata": {},
   "source": [
    "## lyrics\n",
    "<ul>\n",
    "<li>track_id - уникальный идентификатор трека;</li>\n",
    "<li>lyricId - уникальный идентификатор текста;</li>\n",
    "<li>text - текст трека.</li>\n",
    "</ul>"
   ]
  },
  {
   "cell_type": "markdown",
   "id": "0764158b",
   "metadata": {},
   "source": [
    "## meta\n",
    "<ul>\n",
    "<li>track_id - уникальный идентификатор трека;</li>\n",
    "<li>dttm - первая дата появления информации о треке;</li>\n",
    "<li>title - название трека;</li>\n",
    "<li>language - язык исполнения;\n",
    "<li>isrc - международный уникальный идентификатор трека;</li>\n",
    "<li>genres - жанры;</li>\n",
    "<li>duration - длительность трека;</li>\n",
    "</ul>"
   ]
  },
  {
   "cell_type": "markdown",
   "id": "2122d13b",
   "metadata": {},
   "source": [
    "<div class=\"alert alert-block alert-info\" style=\"background-color:#FFFAF0;\n",
    "                                                 color:black;\n",
    "                                                 border-color:#DEB887;\n",
    "                                                 border-radius:5px;\n",
    "                                                 width:50%;\n",
    "                                                 margin: auto;\n",
    "                                                 text-align: left;\">\n",
    "\n",
    "\n",
    "Обнаружение треков каверов - важная продуктовая задача, которая может значительно улучшить качество рекомендаций музыкального сервиса и повысить счастье наших пользователей. \n",
    "\n",
    "</div>"
   ]
  },
  {
   "cell_type": "markdown",
   "id": "a37d8f76",
   "metadata": {},
   "source": [
    "<a id=\"Загрузка-библиотек\"></a>\n",
    "<div style=\"padding:20px;\n",
    "            color:white;\n",
    "            margin:10;\n",
    "            font-size:170%;\n",
    "            text-align:left;\n",
    "            display:fill;\n",
    "            border-radius:5px;\n",
    "            background-color:#294B8E;\n",
    "            overflow:hidden;\n",
    "            font-weight:700\"><span style='color:#CDA63A'>|</span> Загрузка библиотек</div>"
   ]
  },
  {
   "cell_type": "code",
   "execution_count": 65,
   "id": "3bc632ef",
   "metadata": {},
   "outputs": [
    {
     "name": "stderr",
     "output_type": "stream",
     "text": [
      "[nltk_data] Downloading package stopwords to\n",
      "[nltk_data]     /Users/moonkerimka/nltk_data...\n",
      "[nltk_data]   Package stopwords is already up-to-date!\n"
     ]
    }
   ],
   "source": [
    "import re\n",
    "import pandas as pd\n",
    "import numpy as np\n",
    "import seaborn as sns\n",
    "import matplotlib.pyplot as plt\n",
    "from sklearn.model_selection import train_test_split, GridSearchCV\n",
    "from sklearn.linear_model import SGDClassifier, LogisticRegression\n",
    "from catboost import CatBoostClassifier\n",
    "from sklearn import metrics\n",
    "from tabulate import tabulate"
   ]
  },
  {
   "cell_type": "markdown",
   "id": "fd9c0f2c",
   "metadata": {},
   "source": [
    "<a id=\"EDA\"></a>\n",
    "<div style=\"padding:20px;\n",
    "            color:white;\n",
    "            margin:10;\n",
    "            font-size:170%;\n",
    "            text-align:left;\n",
    "            display:fill;\n",
    "            border-radius:5px;\n",
    "            background-color:#294B8E;\n",
    "            overflow:hidden;\n",
    "            font-weight:700\"><span style='color:#CDA63A'>|</span> EDA</div>"
   ]
  },
  {
   "cell_type": "code",
   "execution_count": 2,
   "id": "c0196a53",
   "metadata": {},
   "outputs": [
    {
     "data": {
      "text/html": [
       "<div>\n",
       "<style scoped>\n",
       "    .dataframe tbody tr th:only-of-type {\n",
       "        vertical-align: middle;\n",
       "    }\n",
       "\n",
       "    .dataframe tbody tr th {\n",
       "        vertical-align: top;\n",
       "    }\n",
       "\n",
       "    .dataframe thead th {\n",
       "        text-align: right;\n",
       "    }\n",
       "</style>\n",
       "<table border=\"1\" class=\"dataframe\">\n",
       "  <thead>\n",
       "    <tr style=\"text-align: right;\">\n",
       "      <th></th>\n",
       "      <th>original_track_id</th>\n",
       "      <th>track_id</th>\n",
       "      <th>track_remake_type</th>\n",
       "    </tr>\n",
       "  </thead>\n",
       "  <tbody>\n",
       "    <tr>\n",
       "      <th>0</th>\n",
       "      <td>eeb69a3cb92300456b6a5f4162093851</td>\n",
       "      <td>eeb69a3cb92300456b6a5f4162093851</td>\n",
       "      <td>ORIGINAL</td>\n",
       "    </tr>\n",
       "    <tr>\n",
       "      <th>1</th>\n",
       "      <td>fe7ee8fc1959cc7214fa21c4840dff0a</td>\n",
       "      <td>fe7ee8fc1959cc7214fa21c4840dff0a</td>\n",
       "      <td>ORIGINAL</td>\n",
       "    </tr>\n",
       "    <tr>\n",
       "      <th>2</th>\n",
       "      <td>cd89fef7ffdd490db800357f47722b20</td>\n",
       "      <td>cd89fef7ffdd490db800357f47722b20</td>\n",
       "      <td>ORIGINAL</td>\n",
       "    </tr>\n",
       "    <tr>\n",
       "      <th>3</th>\n",
       "      <td>995665640dc319973d3173a74a03860c</td>\n",
       "      <td>995665640dc319973d3173a74a03860c</td>\n",
       "      <td>ORIGINAL</td>\n",
       "    </tr>\n",
       "    <tr>\n",
       "      <th>4</th>\n",
       "      <td>None</td>\n",
       "      <td>d6288499d0083cc34e60a077b7c4b3e1</td>\n",
       "      <td>COVER</td>\n",
       "    </tr>\n",
       "  </tbody>\n",
       "</table>\n",
       "</div>"
      ],
      "text/plain": [
       "                  original_track_id                          track_id  \\\n",
       "0  eeb69a3cb92300456b6a5f4162093851  eeb69a3cb92300456b6a5f4162093851   \n",
       "1  fe7ee8fc1959cc7214fa21c4840dff0a  fe7ee8fc1959cc7214fa21c4840dff0a   \n",
       "2  cd89fef7ffdd490db800357f47722b20  cd89fef7ffdd490db800357f47722b20   \n",
       "3  995665640dc319973d3173a74a03860c  995665640dc319973d3173a74a03860c   \n",
       "4                              None  d6288499d0083cc34e60a077b7c4b3e1   \n",
       "\n",
       "  track_remake_type  \n",
       "0          ORIGINAL  \n",
       "1          ORIGINAL  \n",
       "2          ORIGINAL  \n",
       "3          ORIGINAL  \n",
       "4             COVER  "
      ]
     },
     "execution_count": 2,
     "metadata": {},
     "output_type": "execute_result"
    }
   ],
   "source": [
    "covers = pd.read_json('covers.json', lines= True)\n",
    "covers.head()"
   ]
  },
  {
   "cell_type": "code",
   "execution_count": 3,
   "id": "814d8c2b",
   "metadata": {},
   "outputs": [
    {
     "data": {
      "text/plain": [
       "0"
      ]
     },
     "execution_count": 3,
     "metadata": {},
     "output_type": "execute_result"
    }
   ],
   "source": [
    "covers.duplicated().sum()"
   ]
  },
  {
   "cell_type": "code",
   "execution_count": 4,
   "id": "24032f5f",
   "metadata": {},
   "outputs": [
    {
     "name": "stdout",
     "output_type": "stream",
     "text": [
      "<class 'pandas.core.frame.DataFrame'>\n",
      "RangeIndex: 71597 entries, 0 to 71596\n",
      "Data columns (total 3 columns):\n",
      " #   Column             Non-Null Count  Dtype \n",
      "---  ------             --------------  ----- \n",
      " 0   original_track_id  4821 non-null   object\n",
      " 1   track_id           71597 non-null  object\n",
      " 2   track_remake_type  71597 non-null  object\n",
      "dtypes: object(3)\n",
      "memory usage: 1.6+ MB\n"
     ]
    }
   ],
   "source": [
    "covers.info()"
   ]
  },
  {
   "cell_type": "code",
   "execution_count": 5,
   "id": "e8c66045",
   "metadata": {},
   "outputs": [
    {
     "data": {
      "text/html": [
       "<div>\n",
       "<style scoped>\n",
       "    .dataframe tbody tr th:only-of-type {\n",
       "        vertical-align: middle;\n",
       "    }\n",
       "\n",
       "    .dataframe tbody tr th {\n",
       "        vertical-align: top;\n",
       "    }\n",
       "\n",
       "    .dataframe thead th {\n",
       "        text-align: right;\n",
       "    }\n",
       "</style>\n",
       "<table border=\"1\" class=\"dataframe\">\n",
       "  <thead>\n",
       "    <tr style=\"text-align: right;\">\n",
       "      <th></th>\n",
       "      <th>lyricId</th>\n",
       "      <th>text</th>\n",
       "      <th>track_id</th>\n",
       "    </tr>\n",
       "  </thead>\n",
       "  <tbody>\n",
       "    <tr>\n",
       "      <th>0</th>\n",
       "      <td>a951f9504e89759e9d23039b7b17ec14</td>\n",
       "      <td>Живу сейчас обломами, обломками не той любви\\n...</td>\n",
       "      <td>1c4b1230f937e4c548ff732523214dcd</td>\n",
       "    </tr>\n",
       "    <tr>\n",
       "      <th>1</th>\n",
       "      <td>0c749bc3f01eb8e6cf986fa14ccfc585</td>\n",
       "      <td>Tell me your fable\\nA fable\\nTell me your fabl...</td>\n",
       "      <td>0faea89b0d7d6235b5b74def72511bd8</td>\n",
       "    </tr>\n",
       "    <tr>\n",
       "      <th>2</th>\n",
       "      <td>e2c8830fbc86e5964478243099eec23a</td>\n",
       "      <td>You're ashamed about all your fears and doubts...</td>\n",
       "      <td>9c6dc41d5ccd9968d07f055da5d8f741</td>\n",
       "    </tr>\n",
       "    <tr>\n",
       "      <th>3</th>\n",
       "      <td>e2c8830fbc86e5964478243099eec23a</td>\n",
       "      <td>You're ashamed about all your fears and doubts...</td>\n",
       "      <td>bfd04a73e9cffdf0e282c92219a86ea1</td>\n",
       "    </tr>\n",
       "    <tr>\n",
       "      <th>4</th>\n",
       "      <td>7624653ca8522ba93470843c74961b7d</td>\n",
       "      <td>You showed him all the best of you,\\nBut I'm a...</td>\n",
       "      <td>8d70930d09cd239c948408d1317d8659</td>\n",
       "    </tr>\n",
       "  </tbody>\n",
       "</table>\n",
       "</div>"
      ],
      "text/plain": [
       "                            lyricId  \\\n",
       "0  a951f9504e89759e9d23039b7b17ec14   \n",
       "1  0c749bc3f01eb8e6cf986fa14ccfc585   \n",
       "2  e2c8830fbc86e5964478243099eec23a   \n",
       "3  e2c8830fbc86e5964478243099eec23a   \n",
       "4  7624653ca8522ba93470843c74961b7d   \n",
       "\n",
       "                                                text  \\\n",
       "0  Живу сейчас обломами, обломками не той любви\\n...   \n",
       "1  Tell me your fable\\nA fable\\nTell me your fabl...   \n",
       "2  You're ashamed about all your fears and doubts...   \n",
       "3  You're ashamed about all your fears and doubts...   \n",
       "4  You showed him all the best of you,\\nBut I'm a...   \n",
       "\n",
       "                           track_id  \n",
       "0  1c4b1230f937e4c548ff732523214dcd  \n",
       "1  0faea89b0d7d6235b5b74def72511bd8  \n",
       "2  9c6dc41d5ccd9968d07f055da5d8f741  \n",
       "3  bfd04a73e9cffdf0e282c92219a86ea1  \n",
       "4  8d70930d09cd239c948408d1317d8659  "
      ]
     },
     "execution_count": 5,
     "metadata": {},
     "output_type": "execute_result"
    }
   ],
   "source": [
    "lyrics = pd.read_json('lyrics.json', lines= True)\n",
    "lyrics.head()"
   ]
  },
  {
   "cell_type": "code",
   "execution_count": 6,
   "id": "9564ad58",
   "metadata": {},
   "outputs": [
    {
     "name": "stdout",
     "output_type": "stream",
     "text": [
      "<class 'pandas.core.frame.DataFrame'>\n",
      "RangeIndex: 11414 entries, 0 to 11413\n",
      "Data columns (total 3 columns):\n",
      " #   Column    Non-Null Count  Dtype \n",
      "---  ------    --------------  ----- \n",
      " 0   lyricId   11414 non-null  object\n",
      " 1   text      11414 non-null  object\n",
      " 2   track_id  11414 non-null  object\n",
      "dtypes: object(3)\n",
      "memory usage: 267.6+ KB\n"
     ]
    }
   ],
   "source": [
    "lyrics.info()"
   ]
  },
  {
   "cell_type": "markdown",
   "id": "c6224565",
   "metadata": {},
   "source": [
    "<div style=\"border-radius:10px; border:#DEB887 solid; padding: 15px; background-color: #FFFAF0; font-size:100%; text-align:left\">Ищем дубликаты в lyrics"
   ]
  },
  {
   "cell_type": "code",
   "execution_count": 7,
   "id": "6eabfde1",
   "metadata": {},
   "outputs": [],
   "source": [
    "lyrics = lyrics.drop_duplicates(subset = ['track_id', 'text'])"
   ]
  },
  {
   "cell_type": "code",
   "execution_count": 8,
   "id": "dff97dcd",
   "metadata": {},
   "outputs": [
    {
     "name": "stdout",
     "output_type": "stream",
     "text": [
      "<class 'pandas.core.frame.DataFrame'>\n",
      "Index: 10277 entries, 0 to 11413\n",
      "Data columns (total 3 columns):\n",
      " #   Column    Non-Null Count  Dtype \n",
      "---  ------    --------------  ----- \n",
      " 0   lyricId   10277 non-null  object\n",
      " 1   text      10277 non-null  object\n",
      " 2   track_id  10277 non-null  object\n",
      "dtypes: object(3)\n",
      "memory usage: 321.2+ KB\n"
     ]
    }
   ],
   "source": [
    "lyrics = lyrics.drop_duplicates(subset = ['track_id'])\n",
    "lyrics.info()"
   ]
  },
  {
   "cell_type": "code",
   "execution_count": 9,
   "id": "2789cf9d",
   "metadata": {},
   "outputs": [
    {
     "data": {
      "text/html": [
       "<div>\n",
       "<style scoped>\n",
       "    .dataframe tbody tr th:only-of-type {\n",
       "        vertical-align: middle;\n",
       "    }\n",
       "\n",
       "    .dataframe tbody tr th {\n",
       "        vertical-align: top;\n",
       "    }\n",
       "\n",
       "    .dataframe thead th {\n",
       "        text-align: right;\n",
       "    }\n",
       "</style>\n",
       "<table border=\"1\" class=\"dataframe\">\n",
       "  <thead>\n",
       "    <tr style=\"text-align: right;\">\n",
       "      <th></th>\n",
       "      <th>track_id</th>\n",
       "      <th>dttm</th>\n",
       "      <th>title</th>\n",
       "      <th>language</th>\n",
       "      <th>isrc</th>\n",
       "      <th>genres</th>\n",
       "      <th>duration</th>\n",
       "    </tr>\n",
       "  </thead>\n",
       "  <tbody>\n",
       "    <tr>\n",
       "      <th>0</th>\n",
       "      <td>c3b9d6a354ca008aa4518329aaa21380</td>\n",
       "      <td>2021-12-16 21:00:00</td>\n",
       "      <td>Happy New Year</td>\n",
       "      <td>EN</td>\n",
       "      <td>RUB422103970</td>\n",
       "      <td>[DANCE]</td>\n",
       "      <td>161120.0</td>\n",
       "    </tr>\n",
       "    <tr>\n",
       "      <th>1</th>\n",
       "      <td>c57e3d13bbbf5322584a7e92e6f1f7ff</td>\n",
       "      <td>2021-11-24 14:00:33</td>\n",
       "      <td>Bad Habits</td>\n",
       "      <td>EN</td>\n",
       "      <td>QZN882178276</td>\n",
       "      <td>[ELECTRONICS]</td>\n",
       "      <td>362260.0</td>\n",
       "    </tr>\n",
       "    <tr>\n",
       "      <th>2</th>\n",
       "      <td>955f2aafe8717908c140bf122ba4172d</td>\n",
       "      <td>2021-11-24 15:37:03</td>\n",
       "      <td>Por Esa Loca Vanidad</td>\n",
       "      <td>None</td>\n",
       "      <td>QZNJZ2122549</td>\n",
       "      <td>[FOLK, LATINFOLK]</td>\n",
       "      <td>260000.0</td>\n",
       "    </tr>\n",
       "    <tr>\n",
       "      <th>3</th>\n",
       "      <td>fae5a077c9956045955dde02143bd8ff</td>\n",
       "      <td>2021-11-24 15:37:03</td>\n",
       "      <td>Mil Lagrimas</td>\n",
       "      <td>None</td>\n",
       "      <td>QZNJZ2166033</td>\n",
       "      <td>[FOLK, LATINFOLK]</td>\n",
       "      <td>190000.0</td>\n",
       "    </tr>\n",
       "    <tr>\n",
       "      <th>4</th>\n",
       "      <td>6bede082154d34fc18d9a6744bc95bf5</td>\n",
       "      <td>2021-11-24 15:37:03</td>\n",
       "      <td>Sexo Humo y Alcohol</td>\n",
       "      <td>None</td>\n",
       "      <td>QZNJZ2122551</td>\n",
       "      <td>[FOLK, LATINFOLK]</td>\n",
       "      <td>203000.0</td>\n",
       "    </tr>\n",
       "  </tbody>\n",
       "</table>\n",
       "</div>"
      ],
      "text/plain": [
       "                           track_id                dttm                 title  \\\n",
       "0  c3b9d6a354ca008aa4518329aaa21380 2021-12-16 21:00:00        Happy New Year   \n",
       "1  c57e3d13bbbf5322584a7e92e6f1f7ff 2021-11-24 14:00:33            Bad Habits   \n",
       "2  955f2aafe8717908c140bf122ba4172d 2021-11-24 15:37:03  Por Esa Loca Vanidad   \n",
       "3  fae5a077c9956045955dde02143bd8ff 2021-11-24 15:37:03          Mil Lagrimas   \n",
       "4  6bede082154d34fc18d9a6744bc95bf5 2021-11-24 15:37:03   Sexo Humo y Alcohol   \n",
       "\n",
       "  language          isrc             genres  duration  \n",
       "0       EN  RUB422103970            [DANCE]  161120.0  \n",
       "1       EN  QZN882178276      [ELECTRONICS]  362260.0  \n",
       "2     None  QZNJZ2122549  [FOLK, LATINFOLK]  260000.0  \n",
       "3     None  QZNJZ2166033  [FOLK, LATINFOLK]  190000.0  \n",
       "4     None  QZNJZ2122551  [FOLK, LATINFOLK]  203000.0  "
      ]
     },
     "execution_count": 9,
     "metadata": {},
     "output_type": "execute_result"
    }
   ],
   "source": [
    "meta = pd.read_json('meta.json', lines= True, convert_dates=['dttm'])\n",
    "meta.head()"
   ]
  },
  {
   "cell_type": "code",
   "execution_count": 10,
   "id": "f6636d23",
   "metadata": {},
   "outputs": [
    {
     "name": "stdout",
     "output_type": "stream",
     "text": [
      "<class 'pandas.core.frame.DataFrame'>\n",
      "RangeIndex: 71769 entries, 0 to 71768\n",
      "Data columns (total 7 columns):\n",
      " #   Column    Non-Null Count  Dtype         \n",
      "---  ------    --------------  -----         \n",
      " 0   track_id  71768 non-null  object        \n",
      " 1   dttm      71768 non-null  datetime64[ns]\n",
      " 2   title     71768 non-null  object        \n",
      " 3   language  21969 non-null  object        \n",
      " 4   isrc      71455 non-null  object        \n",
      " 5   genres    71768 non-null  object        \n",
      " 6   duration  71768 non-null  float64       \n",
      "dtypes: datetime64[ns](1), float64(1), object(5)\n",
      "memory usage: 3.8+ MB\n"
     ]
    }
   ],
   "source": [
    "meta.info()"
   ]
  },
  {
   "cell_type": "markdown",
   "id": "914b5bee",
   "metadata": {},
   "source": [
    "<div style=\"border-radius:10px; border:#DEB887 solid; padding: 15px; background-color: #FFFAF0; font-size:100%; text-align:left\">Объединим все данные в одну таблицу"
   ]
  },
  {
   "cell_type": "code",
   "execution_count": 11,
   "id": "f19295a9",
   "metadata": {},
   "outputs": [],
   "source": [
    "total = covers.merge(lyrics, how='left', on='track_id').merge(meta, how='left', on='track_id')"
   ]
  },
  {
   "cell_type": "code",
   "execution_count": 12,
   "id": "553bd348",
   "metadata": {},
   "outputs": [
    {
     "data": {
      "text/html": [
       "<div>\n",
       "<style scoped>\n",
       "    .dataframe tbody tr th:only-of-type {\n",
       "        vertical-align: middle;\n",
       "    }\n",
       "\n",
       "    .dataframe tbody tr th {\n",
       "        vertical-align: top;\n",
       "    }\n",
       "\n",
       "    .dataframe thead th {\n",
       "        text-align: right;\n",
       "    }\n",
       "</style>\n",
       "<table border=\"1\" class=\"dataframe\">\n",
       "  <thead>\n",
       "    <tr style=\"text-align: right;\">\n",
       "      <th></th>\n",
       "      <th>original_track_id</th>\n",
       "      <th>track_id</th>\n",
       "      <th>track_remake_type</th>\n",
       "      <th>lyricId</th>\n",
       "      <th>text</th>\n",
       "      <th>dttm</th>\n",
       "      <th>title</th>\n",
       "      <th>language</th>\n",
       "      <th>isrc</th>\n",
       "      <th>genres</th>\n",
       "      <th>duration</th>\n",
       "    </tr>\n",
       "  </thead>\n",
       "  <tbody>\n",
       "    <tr>\n",
       "      <th>0</th>\n",
       "      <td>eeb69a3cb92300456b6a5f4162093851</td>\n",
       "      <td>eeb69a3cb92300456b6a5f4162093851</td>\n",
       "      <td>ORIGINAL</td>\n",
       "      <td>260f21d9f48e8de874a6e844159ddf28</td>\n",
       "      <td>Left a good job in the city\\nWorkin' for the m...</td>\n",
       "      <td>2009-11-11 21:00:00</td>\n",
       "      <td>Proud Mary</td>\n",
       "      <td>EN</td>\n",
       "      <td>USFI86900049</td>\n",
       "      <td>[ROCK, ALLROCK]</td>\n",
       "      <td>187220.0</td>\n",
       "    </tr>\n",
       "    <tr>\n",
       "      <th>1</th>\n",
       "      <td>fe7ee8fc1959cc7214fa21c4840dff0a</td>\n",
       "      <td>fe7ee8fc1959cc7214fa21c4840dff0a</td>\n",
       "      <td>ORIGINAL</td>\n",
       "      <td>2498827bd11eca5846270487e4960080</td>\n",
       "      <td>Some folks are born made to wave the flag\\nOoh...</td>\n",
       "      <td>2009-11-11 21:00:00</td>\n",
       "      <td>Fortunate Son</td>\n",
       "      <td>EN</td>\n",
       "      <td>USFI86900065</td>\n",
       "      <td>[ROCK, ALLROCK]</td>\n",
       "      <td>137780.0</td>\n",
       "    </tr>\n",
       "    <tr>\n",
       "      <th>2</th>\n",
       "      <td>cd89fef7ffdd490db800357f47722b20</td>\n",
       "      <td>cd89fef7ffdd490db800357f47722b20</td>\n",
       "      <td>ORIGINAL</td>\n",
       "      <td>5237001311d4062bf2b80de30652bf58</td>\n",
       "      <td>Uno por pobre y feo, hombre\\nPero antoja'o, ay...</td>\n",
       "      <td>2009-09-21 20:00:00</td>\n",
       "      <td>La Camisa Negra</td>\n",
       "      <td>ES</td>\n",
       "      <td>USUL10400965</td>\n",
       "      <td>[POP, FOLK, LATINFOLK]</td>\n",
       "      <td>216840.0</td>\n",
       "    </tr>\n",
       "    <tr>\n",
       "      <th>3</th>\n",
       "      <td>995665640dc319973d3173a74a03860c</td>\n",
       "      <td>995665640dc319973d3173a74a03860c</td>\n",
       "      <td>ORIGINAL</td>\n",
       "      <td>e5b1b57090b728e8d98d2b4d9b781bf4</td>\n",
       "      <td>Yeah!... yeah!... remember the time, baby... y...</td>\n",
       "      <td>2009-11-16 21:00:00</td>\n",
       "      <td>The Way I Are</td>\n",
       "      <td>EN</td>\n",
       "      <td>USUM70722806</td>\n",
       "      <td>[FOREIGNRAP, RAP]</td>\n",
       "      <td>179660.0</td>\n",
       "    </tr>\n",
       "    <tr>\n",
       "      <th>4</th>\n",
       "      <td>None</td>\n",
       "      <td>d6288499d0083cc34e60a077b7c4b3e1</td>\n",
       "      <td>COVER</td>\n",
       "      <td>NaN</td>\n",
       "      <td>NaN</td>\n",
       "      <td>2009-09-17 20:00:00</td>\n",
       "      <td>Extraball</td>\n",
       "      <td>EN</td>\n",
       "      <td>FR8Q10900116</td>\n",
       "      <td>[ELECTRONICS]</td>\n",
       "      <td>212620.0</td>\n",
       "    </tr>\n",
       "    <tr>\n",
       "      <th>...</th>\n",
       "      <td>...</td>\n",
       "      <td>...</td>\n",
       "      <td>...</td>\n",
       "      <td>...</td>\n",
       "      <td>...</td>\n",
       "      <td>...</td>\n",
       "      <td>...</td>\n",
       "      <td>...</td>\n",
       "      <td>...</td>\n",
       "      <td>...</td>\n",
       "      <td>...</td>\n",
       "    </tr>\n",
       "    <tr>\n",
       "      <th>71592</th>\n",
       "      <td>4788e0bf61d80ef5ec9380aa8a8119d9</td>\n",
       "      <td>4788e0bf61d80ef5ec9380aa8a8119d9</td>\n",
       "      <td>ORIGINAL</td>\n",
       "      <td>NaN</td>\n",
       "      <td>NaN</td>\n",
       "      <td>2023-09-28 21:00:00</td>\n",
       "      <td>Милый, прощай</td>\n",
       "      <td>None</td>\n",
       "      <td>RUAGT2312928</td>\n",
       "      <td>[POP, RUSPOP]</td>\n",
       "      <td>178980.0</td>\n",
       "    </tr>\n",
       "    <tr>\n",
       "      <th>71593</th>\n",
       "      <td>None</td>\n",
       "      <td>78b2db35476f134dc3cdfbf4d77ba034</td>\n",
       "      <td>COVER</td>\n",
       "      <td>NaN</td>\n",
       "      <td>NaN</td>\n",
       "      <td>2023-10-01 13:55:45</td>\n",
       "      <td>Habits (Stay Hight)</td>\n",
       "      <td>EN</td>\n",
       "      <td>TCAHK2396284</td>\n",
       "      <td>[ELECTRONICS]</td>\n",
       "      <td>149570.0</td>\n",
       "    </tr>\n",
       "    <tr>\n",
       "      <th>71594</th>\n",
       "      <td>None</td>\n",
       "      <td>e720ff378efe032df56e0e656a6a92d3</td>\n",
       "      <td>COVER</td>\n",
       "      <td>NaN</td>\n",
       "      <td>NaN</td>\n",
       "      <td>2023-10-05 21:00:00</td>\n",
       "      <td>Arcade</td>\n",
       "      <td>EN</td>\n",
       "      <td>TCAHM2318975</td>\n",
       "      <td>[FOREIGNBARD, BARD]</td>\n",
       "      <td>201580.0</td>\n",
       "    </tr>\n",
       "    <tr>\n",
       "      <th>71595</th>\n",
       "      <td>554e33d79e258da91149c3a4985cf6a1</td>\n",
       "      <td>554e33d79e258da91149c3a4985cf6a1</td>\n",
       "      <td>ORIGINAL</td>\n",
       "      <td>NaN</td>\n",
       "      <td>NaN</td>\n",
       "      <td>2023-10-05 21:00:00</td>\n",
       "      <td>Май</td>\n",
       "      <td>None</td>\n",
       "      <td>SMRUS0076417</td>\n",
       "      <td>[RUSRAP, RAP]</td>\n",
       "      <td>156870.0</td>\n",
       "    </tr>\n",
       "    <tr>\n",
       "      <th>71596</th>\n",
       "      <td>7b0f6ff24137be50cf5ea5f82d789448</td>\n",
       "      <td>7b0f6ff24137be50cf5ea5f82d789448</td>\n",
       "      <td>ORIGINAL</td>\n",
       "      <td>NaN</td>\n",
       "      <td>NaN</td>\n",
       "      <td>2023-10-05 21:00:00</td>\n",
       "      <td>Не улетай</td>\n",
       "      <td>None</td>\n",
       "      <td>DGA0M2316512</td>\n",
       "      <td>[POP, RUSPOP]</td>\n",
       "      <td>148500.0</td>\n",
       "    </tr>\n",
       "  </tbody>\n",
       "</table>\n",
       "<p>71597 rows × 11 columns</p>\n",
       "</div>"
      ],
      "text/plain": [
       "                      original_track_id                          track_id  \\\n",
       "0      eeb69a3cb92300456b6a5f4162093851  eeb69a3cb92300456b6a5f4162093851   \n",
       "1      fe7ee8fc1959cc7214fa21c4840dff0a  fe7ee8fc1959cc7214fa21c4840dff0a   \n",
       "2      cd89fef7ffdd490db800357f47722b20  cd89fef7ffdd490db800357f47722b20   \n",
       "3      995665640dc319973d3173a74a03860c  995665640dc319973d3173a74a03860c   \n",
       "4                                  None  d6288499d0083cc34e60a077b7c4b3e1   \n",
       "...                                 ...                               ...   \n",
       "71592  4788e0bf61d80ef5ec9380aa8a8119d9  4788e0bf61d80ef5ec9380aa8a8119d9   \n",
       "71593                              None  78b2db35476f134dc3cdfbf4d77ba034   \n",
       "71594                              None  e720ff378efe032df56e0e656a6a92d3   \n",
       "71595  554e33d79e258da91149c3a4985cf6a1  554e33d79e258da91149c3a4985cf6a1   \n",
       "71596  7b0f6ff24137be50cf5ea5f82d789448  7b0f6ff24137be50cf5ea5f82d789448   \n",
       "\n",
       "      track_remake_type                           lyricId  \\\n",
       "0              ORIGINAL  260f21d9f48e8de874a6e844159ddf28   \n",
       "1              ORIGINAL  2498827bd11eca5846270487e4960080   \n",
       "2              ORIGINAL  5237001311d4062bf2b80de30652bf58   \n",
       "3              ORIGINAL  e5b1b57090b728e8d98d2b4d9b781bf4   \n",
       "4                 COVER                               NaN   \n",
       "...                 ...                               ...   \n",
       "71592          ORIGINAL                               NaN   \n",
       "71593             COVER                               NaN   \n",
       "71594             COVER                               NaN   \n",
       "71595          ORIGINAL                               NaN   \n",
       "71596          ORIGINAL                               NaN   \n",
       "\n",
       "                                                    text                dttm  \\\n",
       "0      Left a good job in the city\\nWorkin' for the m... 2009-11-11 21:00:00   \n",
       "1      Some folks are born made to wave the flag\\nOoh... 2009-11-11 21:00:00   \n",
       "2      Uno por pobre y feo, hombre\\nPero antoja'o, ay... 2009-09-21 20:00:00   \n",
       "3      Yeah!... yeah!... remember the time, baby... y... 2009-11-16 21:00:00   \n",
       "4                                                    NaN 2009-09-17 20:00:00   \n",
       "...                                                  ...                 ...   \n",
       "71592                                                NaN 2023-09-28 21:00:00   \n",
       "71593                                                NaN 2023-10-01 13:55:45   \n",
       "71594                                                NaN 2023-10-05 21:00:00   \n",
       "71595                                                NaN 2023-10-05 21:00:00   \n",
       "71596                                                NaN 2023-10-05 21:00:00   \n",
       "\n",
       "                     title language          isrc                  genres  \\\n",
       "0               Proud Mary       EN  USFI86900049         [ROCK, ALLROCK]   \n",
       "1            Fortunate Son       EN  USFI86900065         [ROCK, ALLROCK]   \n",
       "2          La Camisa Negra       ES  USUL10400965  [POP, FOLK, LATINFOLK]   \n",
       "3            The Way I Are       EN  USUM70722806       [FOREIGNRAP, RAP]   \n",
       "4                Extraball       EN  FR8Q10900116           [ELECTRONICS]   \n",
       "...                    ...      ...           ...                     ...   \n",
       "71592        Милый, прощай     None  RUAGT2312928           [POP, RUSPOP]   \n",
       "71593  Habits (Stay Hight)       EN  TCAHK2396284           [ELECTRONICS]   \n",
       "71594               Arcade       EN  TCAHM2318975     [FOREIGNBARD, BARD]   \n",
       "71595                  Май     None  SMRUS0076417           [RUSRAP, RAP]   \n",
       "71596            Не улетай     None  DGA0M2316512           [POP, RUSPOP]   \n",
       "\n",
       "       duration  \n",
       "0      187220.0  \n",
       "1      137780.0  \n",
       "2      216840.0  \n",
       "3      179660.0  \n",
       "4      212620.0  \n",
       "...         ...  \n",
       "71592  178980.0  \n",
       "71593  149570.0  \n",
       "71594  201580.0  \n",
       "71595  156870.0  \n",
       "71596  148500.0  \n",
       "\n",
       "[71597 rows x 11 columns]"
      ]
     },
     "execution_count": 12,
     "metadata": {},
     "output_type": "execute_result"
    }
   ],
   "source": [
    "total"
   ]
  },
  {
   "cell_type": "code",
   "execution_count": 13,
   "id": "791f91be",
   "metadata": {},
   "outputs": [
    {
     "name": "stdout",
     "output_type": "stream",
     "text": [
      "<class 'pandas.core.frame.DataFrame'>\n",
      "RangeIndex: 71597 entries, 0 to 71596\n",
      "Data columns (total 11 columns):\n",
      " #   Column             Non-Null Count  Dtype         \n",
      "---  ------             --------------  -----         \n",
      " 0   original_track_id  4821 non-null   object        \n",
      " 1   track_id           71597 non-null  object        \n",
      " 2   track_remake_type  71597 non-null  object        \n",
      " 3   lyricId            10123 non-null  object        \n",
      " 4   text               10123 non-null  object        \n",
      " 5   dttm               71597 non-null  datetime64[ns]\n",
      " 6   title              71597 non-null  object        \n",
      " 7   language           21826 non-null  object        \n",
      " 8   isrc               71287 non-null  object        \n",
      " 9   genres             71597 non-null  object        \n",
      " 10  duration           71597 non-null  float64       \n",
      "dtypes: datetime64[ns](1), float64(1), object(9)\n",
      "memory usage: 6.0+ MB\n"
     ]
    }
   ],
   "source": [
    "total.info()"
   ]
  },
  {
   "cell_type": "markdown",
   "id": "f09edeaf",
   "metadata": {},
   "source": [
    "<div class=\"alert alert-block alert-info\" style=\"background-color:#FFFAF0;\n",
    "                                                 color:black;\n",
    "                                                 border-color:#DEB887;\n",
    "                                                 border-radius:5px;\n",
    "                                                 width:50%;\n",
    "                                                 margin: auto;\n",
    "                                                 text-align: left;\">\n",
    "\n",
    "<ul>\n",
    "<li>Обнаружены пропуски значений в столбцах.</li>\n",
    "<li>В данных дубликаты удалены.</li>\n",
    "</ul></div>"
   ]
  },
  {
   "cell_type": "markdown",
   "id": "603caf54",
   "metadata": {},
   "source": [
    "<a id=\"Предобработка-данных\"></a>\n",
    "<div style=\"padding:20px;\n",
    "            color:white;\n",
    "            margin:10;\n",
    "            font-size:170%;\n",
    "            text-align:left;\n",
    "            display:fill;\n",
    "            border-radius:5px;\n",
    "            background-color:#294B8E;\n",
    "            overflow:hidden;\n",
    "            font-weight:700\"><span style='color:#CDA63A'>|</span> Предобработка данных</div>"
   ]
  },
  {
   "cell_type": "code",
   "execution_count": 14,
   "id": "5b77be16",
   "metadata": {},
   "outputs": [],
   "source": [
    "total['dttm'] = total['dttm'].dt.year"
   ]
  },
  {
   "cell_type": "code",
   "execution_count": 15,
   "id": "86699048",
   "metadata": {},
   "outputs": [
    {
     "data": {
      "image/png": "[encoded data removed]",
      "text/plain": [
       "<Figure size 640x480 with 1 Axes>"
      ]
     },
     "metadata": {},
     "output_type": "display_data"
    }
   ],
   "source": [
    "sns.histplot(data=total, x=\"dttm\", shrink=7).set(title='Распределение по году появления в Яндекс.музыка');"
   ]
  },
  {
   "cell_type": "markdown",
   "id": "20c8f6f7",
   "metadata": {},
   "source": [
    "<div style=\"border-radius:10px; border:#DEB887 solid; padding: 15px; background-color: #FFFAF0; font-size:100%; text-align:left\">\n",
    "22 сентября 2010 года «Яндекс» объявил о запуске отдельного сервиса «Яндекс. Музыка», поэтому музыка загружается с 2009 года. Я считаю, что необходимо удалить признак dttm, так как он не является информативным."
   ]
  },
  {
   "cell_type": "code",
   "execution_count": 16,
   "id": "ee956df9",
   "metadata": {
    "scrolled": true
   },
   "outputs": [],
   "source": [
    "total = total.drop('dttm', axis=1)"
   ]
  },
  {
   "cell_type": "markdown",
   "id": "ee282406",
   "metadata": {},
   "source": [
    "<div style=\"border-radius:10px; border:#DEB887 solid; padding: 15px; background-color: #FFFAF0; font-size:100%; text-align:left\">\n",
    "Посмотрим, на каком языке больше оригинальных песен."
   ]
  },
  {
   "cell_type": "code",
   "execution_count": 17,
   "id": "7b169755",
   "metadata": {},
   "outputs": [
    {
     "data": {
      "text/html": [
       "<div>\n",
       "<style scoped>\n",
       "    .dataframe tbody tr th:only-of-type {\n",
       "        vertical-align: middle;\n",
       "    }\n",
       "\n",
       "    .dataframe tbody tr th {\n",
       "        vertical-align: top;\n",
       "    }\n",
       "\n",
       "    .dataframe thead th {\n",
       "        text-align: right;\n",
       "    }\n",
       "</style>\n",
       "<table border=\"1\" class=\"dataframe\">\n",
       "  <thead>\n",
       "    <tr style=\"text-align: right;\">\n",
       "      <th></th>\n",
       "      <th>language</th>\n",
       "      <th>count</th>\n",
       "    </tr>\n",
       "  </thead>\n",
       "  <tbody>\n",
       "    <tr>\n",
       "      <th>0</th>\n",
       "      <td>EN</td>\n",
       "      <td>15194</td>\n",
       "    </tr>\n",
       "    <tr>\n",
       "      <th>1</th>\n",
       "      <td>ES</td>\n",
       "      <td>1746</td>\n",
       "    </tr>\n",
       "    <tr>\n",
       "      <th>2</th>\n",
       "      <td>RU</td>\n",
       "      <td>1545</td>\n",
       "    </tr>\n",
       "    <tr>\n",
       "      <th>3</th>\n",
       "      <td>IT</td>\n",
       "      <td>907</td>\n",
       "    </tr>\n",
       "    <tr>\n",
       "      <th>4</th>\n",
       "      <td>HI</td>\n",
       "      <td>285</td>\n",
       "    </tr>\n",
       "    <tr>\n",
       "      <th>...</th>\n",
       "      <td>...</td>\n",
       "      <td>...</td>\n",
       "    </tr>\n",
       "    <tr>\n",
       "      <th>80</th>\n",
       "      <td>SE</td>\n",
       "      <td>1</td>\n",
       "    </tr>\n",
       "    <tr>\n",
       "      <th>81</th>\n",
       "      <td>LV</td>\n",
       "      <td>1</td>\n",
       "    </tr>\n",
       "    <tr>\n",
       "      <th>82</th>\n",
       "      <td>AV</td>\n",
       "      <td>1</td>\n",
       "    </tr>\n",
       "    <tr>\n",
       "      <th>83</th>\n",
       "      <td>IU</td>\n",
       "      <td>1</td>\n",
       "    </tr>\n",
       "    <tr>\n",
       "      <th>84</th>\n",
       "      <td>TG</td>\n",
       "      <td>1</td>\n",
       "    </tr>\n",
       "  </tbody>\n",
       "</table>\n",
       "<p>85 rows × 2 columns</p>\n",
       "</div>"
      ],
      "text/plain": [
       "   language  count\n",
       "0        EN  15194\n",
       "1        ES   1746\n",
       "2        RU   1545\n",
       "3        IT    907\n",
       "4        HI    285\n",
       "..      ...    ...\n",
       "80       SE      1\n",
       "81       LV      1\n",
       "82       AV      1\n",
       "83       IU      1\n",
       "84       TG      1\n",
       "\n",
       "[85 rows x 2 columns]"
      ]
     },
     "execution_count": 17,
     "metadata": {},
     "output_type": "execute_result"
    }
   ],
   "source": [
    "total['language'].value_counts().reset_index()"
   ]
  },
  {
   "cell_type": "code",
   "execution_count": 18,
   "id": "752bb352",
   "metadata": {},
   "outputs": [
    {
     "name": "stdout",
     "output_type": "stream",
     "text": [
      "<class 'pandas.core.frame.DataFrame'>\n",
      "Index: 1298 entries, 0 to 71542\n",
      "Data columns (total 10 columns):\n",
      " #   Column             Non-Null Count  Dtype  \n",
      "---  ------             --------------  -----  \n",
      " 0   original_track_id  1298 non-null   object \n",
      " 1   track_id           1298 non-null   object \n",
      " 2   track_remake_type  1298 non-null   object \n",
      " 3   lyricId            766 non-null    object \n",
      " 4   text               766 non-null    object \n",
      " 5   title              1298 non-null   object \n",
      " 6   language           1298 non-null   object \n",
      " 7   isrc               1298 non-null   object \n",
      " 8   genres             1298 non-null   object \n",
      " 9   duration           1298 non-null   float64\n",
      "dtypes: float64(1), object(9)\n",
      "memory usage: 111.5+ KB\n"
     ]
    }
   ],
   "source": [
    "total[(total['language'] == 'EN') & (total['track_remake_type'] == 'ORIGINAL')].info()"
   ]
  },
  {
   "cell_type": "markdown",
   "id": "47cc1614",
   "metadata": {},
   "source": [
    "<div style=\"border-radius:10px; border:#DEB887 solid; padding: 15px; background-color: #FFFAF0; font-size:100%; text-align:left\">В данных преобладают оригиналы английских песен"
   ]
  },
  {
   "cell_type": "markdown",
   "id": "5e9b01c1",
   "metadata": {},
   "source": [
    "<div style=\"border-radius:10px; border:#DEB887 solid; padding: 15px; background-color: #FFFAF0; font-size:100%; text-align:left\"> В целевой переменной отметим оригинал 1, а кавер 0"
   ]
  },
  {
   "cell_type": "code",
   "execution_count": 19,
   "id": "ee5454d5",
   "metadata": {},
   "outputs": [
    {
     "data": {
      "text/html": [
       "<div>\n",
       "<style scoped>\n",
       "    .dataframe tbody tr th:only-of-type {\n",
       "        vertical-align: middle;\n",
       "    }\n",
       "\n",
       "    .dataframe tbody tr th {\n",
       "        vertical-align: top;\n",
       "    }\n",
       "\n",
       "    .dataframe thead th {\n",
       "        text-align: right;\n",
       "    }\n",
       "</style>\n",
       "<table border=\"1\" class=\"dataframe\">\n",
       "  <thead>\n",
       "    <tr style=\"text-align: right;\">\n",
       "      <th></th>\n",
       "      <th>original_track_id</th>\n",
       "      <th>track_id</th>\n",
       "      <th>track_remake_type</th>\n",
       "      <th>lyricId</th>\n",
       "      <th>text</th>\n",
       "      <th>title</th>\n",
       "      <th>language</th>\n",
       "      <th>isrc</th>\n",
       "      <th>genres</th>\n",
       "      <th>duration</th>\n",
       "    </tr>\n",
       "  </thead>\n",
       "  <tbody>\n",
       "    <tr>\n",
       "      <th>0</th>\n",
       "      <td>eeb69a3cb92300456b6a5f4162093851</td>\n",
       "      <td>eeb69a3cb92300456b6a5f4162093851</td>\n",
       "      <td>1</td>\n",
       "      <td>260f21d9f48e8de874a6e844159ddf28</td>\n",
       "      <td>Left a good job in the city\\nWorkin' for the m...</td>\n",
       "      <td>Proud Mary</td>\n",
       "      <td>EN</td>\n",
       "      <td>USFI86900049</td>\n",
       "      <td>[ROCK, ALLROCK]</td>\n",
       "      <td>187220.0</td>\n",
       "    </tr>\n",
       "    <tr>\n",
       "      <th>1</th>\n",
       "      <td>fe7ee8fc1959cc7214fa21c4840dff0a</td>\n",
       "      <td>fe7ee8fc1959cc7214fa21c4840dff0a</td>\n",
       "      <td>1</td>\n",
       "      <td>2498827bd11eca5846270487e4960080</td>\n",
       "      <td>Some folks are born made to wave the flag\\nOoh...</td>\n",
       "      <td>Fortunate Son</td>\n",
       "      <td>EN</td>\n",
       "      <td>USFI86900065</td>\n",
       "      <td>[ROCK, ALLROCK]</td>\n",
       "      <td>137780.0</td>\n",
       "    </tr>\n",
       "    <tr>\n",
       "      <th>2</th>\n",
       "      <td>cd89fef7ffdd490db800357f47722b20</td>\n",
       "      <td>cd89fef7ffdd490db800357f47722b20</td>\n",
       "      <td>1</td>\n",
       "      <td>5237001311d4062bf2b80de30652bf58</td>\n",
       "      <td>Uno por pobre y feo, hombre\\nPero antoja'o, ay...</td>\n",
       "      <td>La Camisa Negra</td>\n",
       "      <td>ES</td>\n",
       "      <td>USUL10400965</td>\n",
       "      <td>[POP, FOLK, LATINFOLK]</td>\n",
       "      <td>216840.0</td>\n",
       "    </tr>\n",
       "    <tr>\n",
       "      <th>3</th>\n",
       "      <td>995665640dc319973d3173a74a03860c</td>\n",
       "      <td>995665640dc319973d3173a74a03860c</td>\n",
       "      <td>1</td>\n",
       "      <td>e5b1b57090b728e8d98d2b4d9b781bf4</td>\n",
       "      <td>Yeah!... yeah!... remember the time, baby... y...</td>\n",
       "      <td>The Way I Are</td>\n",
       "      <td>EN</td>\n",
       "      <td>USUM70722806</td>\n",
       "      <td>[FOREIGNRAP, RAP]</td>\n",
       "      <td>179660.0</td>\n",
       "    </tr>\n",
       "    <tr>\n",
       "      <th>4</th>\n",
       "      <td>None</td>\n",
       "      <td>d6288499d0083cc34e60a077b7c4b3e1</td>\n",
       "      <td>0</td>\n",
       "      <td>NaN</td>\n",
       "      <td>NaN</td>\n",
       "      <td>Extraball</td>\n",
       "      <td>EN</td>\n",
       "      <td>FR8Q10900116</td>\n",
       "      <td>[ELECTRONICS]</td>\n",
       "      <td>212620.0</td>\n",
       "    </tr>\n",
       "    <tr>\n",
       "      <th>...</th>\n",
       "      <td>...</td>\n",
       "      <td>...</td>\n",
       "      <td>...</td>\n",
       "      <td>...</td>\n",
       "      <td>...</td>\n",
       "      <td>...</td>\n",
       "      <td>...</td>\n",
       "      <td>...</td>\n",
       "      <td>...</td>\n",
       "      <td>...</td>\n",
       "    </tr>\n",
       "    <tr>\n",
       "      <th>71592</th>\n",
       "      <td>4788e0bf61d80ef5ec9380aa8a8119d9</td>\n",
       "      <td>4788e0bf61d80ef5ec9380aa8a8119d9</td>\n",
       "      <td>1</td>\n",
       "      <td>NaN</td>\n",
       "      <td>NaN</td>\n",
       "      <td>Милый, прощай</td>\n",
       "      <td>None</td>\n",
       "      <td>RUAGT2312928</td>\n",
       "      <td>[POP, RUSPOP]</td>\n",
       "      <td>178980.0</td>\n",
       "    </tr>\n",
       "    <tr>\n",
       "      <th>71593</th>\n",
       "      <td>None</td>\n",
       "      <td>78b2db35476f134dc3cdfbf4d77ba034</td>\n",
       "      <td>0</td>\n",
       "      <td>NaN</td>\n",
       "      <td>NaN</td>\n",
       "      <td>Habits (Stay Hight)</td>\n",
       "      <td>EN</td>\n",
       "      <td>TCAHK2396284</td>\n",
       "      <td>[ELECTRONICS]</td>\n",
       "      <td>149570.0</td>\n",
       "    </tr>\n",
       "    <tr>\n",
       "      <th>71594</th>\n",
       "      <td>None</td>\n",
       "      <td>e720ff378efe032df56e0e656a6a92d3</td>\n",
       "      <td>0</td>\n",
       "      <td>NaN</td>\n",
       "      <td>NaN</td>\n",
       "      <td>Arcade</td>\n",
       "      <td>EN</td>\n",
       "      <td>TCAHM2318975</td>\n",
       "      <td>[FOREIGNBARD, BARD]</td>\n",
       "      <td>201580.0</td>\n",
       "    </tr>\n",
       "    <tr>\n",
       "      <th>71595</th>\n",
       "      <td>554e33d79e258da91149c3a4985cf6a1</td>\n",
       "      <td>554e33d79e258da91149c3a4985cf6a1</td>\n",
       "      <td>1</td>\n",
       "      <td>NaN</td>\n",
       "      <td>NaN</td>\n",
       "      <td>Май</td>\n",
       "      <td>None</td>\n",
       "      <td>SMRUS0076417</td>\n",
       "      <td>[RUSRAP, RAP]</td>\n",
       "      <td>156870.0</td>\n",
       "    </tr>\n",
       "    <tr>\n",
       "      <th>71596</th>\n",
       "      <td>7b0f6ff24137be50cf5ea5f82d789448</td>\n",
       "      <td>7b0f6ff24137be50cf5ea5f82d789448</td>\n",
       "      <td>1</td>\n",
       "      <td>NaN</td>\n",
       "      <td>NaN</td>\n",
       "      <td>Не улетай</td>\n",
       "      <td>None</td>\n",
       "      <td>DGA0M2316512</td>\n",
       "      <td>[POP, RUSPOP]</td>\n",
       "      <td>148500.0</td>\n",
       "    </tr>\n",
       "  </tbody>\n",
       "</table>\n",
       "<p>71597 rows × 10 columns</p>\n",
       "</div>"
      ],
      "text/plain": [
       "                      original_track_id                          track_id  \\\n",
       "0      eeb69a3cb92300456b6a5f4162093851  eeb69a3cb92300456b6a5f4162093851   \n",
       "1      fe7ee8fc1959cc7214fa21c4840dff0a  fe7ee8fc1959cc7214fa21c4840dff0a   \n",
       "2      cd89fef7ffdd490db800357f47722b20  cd89fef7ffdd490db800357f47722b20   \n",
       "3      995665640dc319973d3173a74a03860c  995665640dc319973d3173a74a03860c   \n",
       "4                                  None  d6288499d0083cc34e60a077b7c4b3e1   \n",
       "...                                 ...                               ...   \n",
       "71592  4788e0bf61d80ef5ec9380aa8a8119d9  4788e0bf61d80ef5ec9380aa8a8119d9   \n",
       "71593                              None  78b2db35476f134dc3cdfbf4d77ba034   \n",
       "71594                              None  e720ff378efe032df56e0e656a6a92d3   \n",
       "71595  554e33d79e258da91149c3a4985cf6a1  554e33d79e258da91149c3a4985cf6a1   \n",
       "71596  7b0f6ff24137be50cf5ea5f82d789448  7b0f6ff24137be50cf5ea5f82d789448   \n",
       "\n",
       "       track_remake_type                           lyricId  \\\n",
       "0                      1  260f21d9f48e8de874a6e844159ddf28   \n",
       "1                      1  2498827bd11eca5846270487e4960080   \n",
       "2                      1  5237001311d4062bf2b80de30652bf58   \n",
       "3                      1  e5b1b57090b728e8d98d2b4d9b781bf4   \n",
       "4                      0                               NaN   \n",
       "...                  ...                               ...   \n",
       "71592                  1                               NaN   \n",
       "71593                  0                               NaN   \n",
       "71594                  0                               NaN   \n",
       "71595                  1                               NaN   \n",
       "71596                  1                               NaN   \n",
       "\n",
       "                                                    text                title  \\\n",
       "0      Left a good job in the city\\nWorkin' for the m...           Proud Mary   \n",
       "1      Some folks are born made to wave the flag\\nOoh...        Fortunate Son   \n",
       "2      Uno por pobre y feo, hombre\\nPero antoja'o, ay...      La Camisa Negra   \n",
       "3      Yeah!... yeah!... remember the time, baby... y...        The Way I Are   \n",
       "4                                                    NaN            Extraball   \n",
       "...                                                  ...                  ...   \n",
       "71592                                                NaN        Милый, прощай   \n",
       "71593                                                NaN  Habits (Stay Hight)   \n",
       "71594                                                NaN               Arcade   \n",
       "71595                                                NaN                  Май   \n",
       "71596                                                NaN            Не улетай   \n",
       "\n",
       "      language          isrc                  genres  duration  \n",
       "0           EN  USFI86900049         [ROCK, ALLROCK]  187220.0  \n",
       "1           EN  USFI86900065         [ROCK, ALLROCK]  137780.0  \n",
       "2           ES  USUL10400965  [POP, FOLK, LATINFOLK]  216840.0  \n",
       "3           EN  USUM70722806       [FOREIGNRAP, RAP]  179660.0  \n",
       "4           EN  FR8Q10900116           [ELECTRONICS]  212620.0  \n",
       "...        ...           ...                     ...       ...  \n",
       "71592     None  RUAGT2312928           [POP, RUSPOP]  178980.0  \n",
       "71593       EN  TCAHK2396284           [ELECTRONICS]  149570.0  \n",
       "71594       EN  TCAHM2318975     [FOREIGNBARD, BARD]  201580.0  \n",
       "71595     None  SMRUS0076417           [RUSRAP, RAP]  156870.0  \n",
       "71596     None  DGA0M2316512           [POP, RUSPOP]  148500.0  \n",
       "\n",
       "[71597 rows x 10 columns]"
      ]
     },
     "execution_count": 19,
     "metadata": {},
     "output_type": "execute_result"
    }
   ],
   "source": [
    "total['track_remake_type'] = np.where(total['track_remake_type'] == 'ORIGINAL', 1, 0)\n",
    "total"
   ]
  },
  {
   "cell_type": "markdown",
   "id": "6308fe6b",
   "metadata": {},
   "source": [
    "<div style=\"border-radius:10px; border:#DEB887 solid; padding: 15px; background-color: #FFFAF0; font-size:100%; text-align:left\"> В целевой переменной отметим оригинал 1, а кавер 0"
   ]
  },
  {
   "cell_type": "markdown",
   "id": "d924b4fc",
   "metadata": {},
   "source": [
    "<div style=\"border-radius:10px; border:#DEB887 solid; padding: 15px; background-color: #FFFAF0; font-size:100%; text-align:left\"> В признаке isrc 6 и 7 символы являются годом присвоения кода isrc треку, добавим эту даты в признаки"
   ]
  },
  {
   "cell_type": "code",
   "execution_count": 20,
   "id": "d22dd208",
   "metadata": {},
   "outputs": [],
   "source": [
    "total['isrc'] = total['isrc'].str.replace(\"-\",\"\")"
   ]
  },
  {
   "cell_type": "code",
   "execution_count": 21,
   "id": "c13fd82e",
   "metadata": {},
   "outputs": [],
   "source": [
    "total['isrc_year'] = total['isrc'].str[5:7]\n",
    "total = total.drop_duplicates(subset = 'isrc', ignore_index = True)\n",
    "total = total.dropna(subset=['isrc']).reset_index(drop=True)\n",
    "total = total.astype({'isrc_year':'int'})\n",
    "for i in range(len(total.index)):\n",
    "    if total.loc[i,'isrc_year']>23:\n",
    "        total.loc[i,'isrc_year'] = total.loc[i,'isrc_year']+1900\n",
    "    else:\n",
    "        total.loc[i,'isrc_year'] = total.loc[i,'isrc_year']+2000"
   ]
  },
  {
   "cell_type": "code",
   "execution_count": 22,
   "id": "4acf037c",
   "metadata": {},
   "outputs": [],
   "source": [
    "#pip install -U sentence-transformers"
   ]
  },
  {
   "cell_type": "code",
   "execution_count": 23,
   "id": "e545b335",
   "metadata": {},
   "outputs": [],
   "source": [
    "# # напишем функцию, которая оставит в тексте только кириллические символы и пробелы\n",
    "# def clear_text(text):\n",
    "#     text = re.sub(r'[^a-zA-Z ]', ' ', str(text))\n",
    "#     return \" \".join(text.split())"
   ]
  },
  {
   "cell_type": "code",
   "execution_count": 24,
   "id": "11a68b95",
   "metadata": {},
   "outputs": [],
   "source": [
    "# from tqdm.notebook import tqdm\n",
    "# tqdm.pandas()\n",
    "\n",
    "# total['lemm_title'] = total['title'].progress_apply(clear_text)"
   ]
  },
  {
   "cell_type": "code",
   "execution_count": 25,
   "id": "14a8a8c4",
   "metadata": {},
   "outputs": [
    {
     "name": "stdout",
     "output_type": "stream",
     "text": [
      "<class 'pandas.core.frame.DataFrame'>\n",
      "RangeIndex: 71115 entries, 0 to 71114\n",
      "Data columns (total 11 columns):\n",
      " #   Column             Non-Null Count  Dtype  \n",
      "---  ------             --------------  -----  \n",
      " 0   original_track_id  4720 non-null   object \n",
      " 1   track_id           71115 non-null  object \n",
      " 2   track_remake_type  71115 non-null  int64  \n",
      " 3   lyricId            9974 non-null   object \n",
      " 4   text               9974 non-null   object \n",
      " 5   title              71115 non-null  object \n",
      " 6   language           21719 non-null  object \n",
      " 7   isrc               71115 non-null  object \n",
      " 8   genres             71115 non-null  object \n",
      " 9   duration           71115 non-null  float64\n",
      " 10  isrc_year          71115 non-null  int64  \n",
      "dtypes: float64(1), int64(2), object(8)\n",
      "memory usage: 6.0+ MB\n"
     ]
    }
   ],
   "source": [
    "total.info()"
   ]
  },
  {
   "cell_type": "code",
   "execution_count": 26,
   "id": "6595d03f",
   "metadata": {},
   "outputs": [],
   "source": [
    "total = total.drop(['original_track_id',\n",
    "                    'track_id', 'lyricId',\n",
    "                    'text',\n",
    "                    'language', 'isrc',\n",
    "                    'genres'], axis=1)\n"
   ]
  },
  {
   "cell_type": "code",
   "execution_count": 27,
   "id": "9fd6f270",
   "metadata": {},
   "outputs": [],
   "source": [
    "groups_orig = total[total['track_remake_type'] == 1].groupby('title').filter(lambda x: len(x) > 1)"
   ]
  },
  {
   "cell_type": "code",
   "execution_count": 28,
   "id": "3ec1cd47",
   "metadata": {},
   "outputs": [],
   "source": [
    "for name, group in groups_orig.groupby('title'):\n",
    "    idx_min = group['isrc_year'].min()\n",
    "    total.loc[(total['title'] == name) & (total['isrc_year'] != idx_min), 'track_remake_type'] = 0\n",
    "    total.loc[(total['title'] == name) & (total['isrc_year'] == idx_min), 'track_remake_type'] = 1"
   ]
  },
  {
   "cell_type": "code",
   "execution_count": 29,
   "id": "0889cabd",
   "metadata": {},
   "outputs": [
    {
     "data": {
      "text/plain": [
       "title\n",
       "Stay                                                19\n",
       "Bagatelle No. 25 in A Minor, WoO 59, \"Für Elise\"    14\n",
       "Home                                                12\n",
       "Lonely                                              11\n",
       "Bright Lights                                        6\n",
       "                                                    ..\n",
       "Psycho                                               2\n",
       "Жди меня там                                         2\n",
       "Alive                                                2\n",
       "Луна не знает пути                                   2\n",
       "Однажды                                              2\n",
       "Name: count, Length: 94, dtype: int64"
      ]
     },
     "execution_count": 29,
     "metadata": {},
     "output_type": "execute_result"
    }
   ],
   "source": [
    "groups_orig = total[total['track_remake_type'] == 1].groupby('title').filter(lambda x: len(x) > 1)\n",
    "\n",
    "groups_orig.title.value_counts()"
   ]
  },
  {
   "cell_type": "code",
   "execution_count": 30,
   "id": "8b1d8b6d",
   "metadata": {},
   "outputs": [],
   "source": [
    "# Отбираем группы треков, где все треки размечены как 'COVER' и встречаются больше 1 раза\n",
    "groups_cover = total[total['track_remake_type'] == 0].groupby('title').filter(lambda x: len(x) > 1)\n",
    "\n",
    "# Для каждой группы отмечаем самый ранний трек как 'ORIGINAL', а остальные помечаем как 'COVER'\n",
    "for name, group in groups_cover.groupby('title'):\n",
    "    idx_min = group['isrc_year'].min()\n",
    "    total.loc[(total['title'] == name) & (total['isrc_year'] != idx_min), 'track_remake_type'] = 0\n",
    "    total.loc[(total['title'] == name) & (total['isrc_year'] == idx_min), 'track_remake_type'] = 1"
   ]
  },
  {
   "cell_type": "code",
   "execution_count": 31,
   "id": "1da69975",
   "metadata": {},
   "outputs": [
    {
     "name": "stdout",
     "output_type": "stream",
     "text": [
      "<class 'pandas.core.frame.DataFrame'>\n",
      "RangeIndex: 71115 entries, 0 to 71114\n",
      "Data columns (total 4 columns):\n",
      " #   Column             Non-Null Count  Dtype  \n",
      "---  ------             --------------  -----  \n",
      " 0   track_remake_type  71115 non-null  int64  \n",
      " 1   title              71115 non-null  object \n",
      " 2   duration           71115 non-null  float64\n",
      " 3   isrc_year          71115 non-null  int64  \n",
      "dtypes: float64(1), int64(2), object(1)\n",
      "memory usage: 2.2+ MB\n"
     ]
    }
   ],
   "source": [
    "total.info()"
   ]
  },
  {
   "cell_type": "code",
   "execution_count": 32,
   "id": "0dc23b94",
   "metadata": {},
   "outputs": [],
   "source": [
    "total['duration'] = total['duration'].astype('int')"
   ]
  },
  {
   "cell_type": "code",
   "execution_count": 35,
   "id": "70ebe33f",
   "metadata": {},
   "outputs": [],
   "source": [
    "total = pd.get_dummies(total)"
   ]
  },
  {
   "cell_type": "markdown",
   "id": "62a6c85e",
   "metadata": {},
   "source": [
    "<a id=\"Подготовим-выборки-для-обучения-моделей\"></a>\n",
    "<div style=\"padding:20px;\n",
    "            color:white;\n",
    "            margin:10;\n",
    "            font-size:170%;\n",
    "            text-align:left;\n",
    "            display:fill;\n",
    "            border-radius:5px;\n",
    "            background-color:#294B8E;\n",
    "            overflow:hidden;\n",
    "            font-weight:700\"><span style='color:#CDA63A'>|</span> Подготовим выборки для обучения моделей</div>"
   ]
  },
  {
   "cell_type": "code",
   "execution_count": 36,
   "id": "184fdda0",
   "metadata": {},
   "outputs": [],
   "source": [
    "X = total.drop('track_remake_type', axis=1)\n",
    "y = total['track_remake_type']"
   ]
  },
  {
   "cell_type": "code",
   "execution_count": 37,
   "id": "3635c21c",
   "metadata": {},
   "outputs": [
    {
     "name": "stdout",
     "output_type": "stream",
     "text": [
      "Размер тренировочного корпуса: 64003\n",
      "Размер тренировочного корпуса: 7112\n"
     ]
    }
   ],
   "source": [
    "X_train, X_test, y_train, y_test = train_test_split(X, y, \n",
    "                                                    test_size=0.1,\n",
    "                                                    random_state=42)\n",
    "print(f\"Размер тренировочного корпуса: {len(X_train)}\")\n",
    "print(f\"Размер тренировочного корпуса: {len(X_test)}\")"
   ]
  },
  {
   "cell_type": "markdown",
   "id": "f0710562",
   "metadata": {},
   "source": [
    "<div class=\"alert alert-block alert-info\" style=\"background-color:#FFFAF0;\n",
    "                                                 color:black;\n",
    "                                                 border-color:#DEB887;\n",
    "                                                 border-radius:5px;\n",
    "                                                 width:50%;\n",
    "                                                 margin: auto;\n",
    "                                                 text-align: left;\">\n",
    "\n",
    "<ul>\n",
    "<li>Данные разделены на обучающую и тестовую выборки.</li>\n",
    "\n",
    "</ul>\n",
    "</div>"
   ]
  },
  {
   "cell_type": "markdown",
   "id": "5e4663e6",
   "metadata": {},
   "source": [
    "<a id=\"Обучение-моделей\"></a>\n",
    "<div style=\"padding:20px;\n",
    "            color:white;\n",
    "            margin:10;\n",
    "            font-size:170%;\n",
    "            text-align:left;\n",
    "            display:fill;\n",
    "            border-radius:5px;\n",
    "            background-color:#294B8E;\n",
    "            overflow:hidden;\n",
    "            font-weight:700\"><span style='color:#CDA63A'>|</span> Обучение моделей</div>"
   ]
  },
  {
   "cell_type": "code",
   "execution_count": 39,
   "id": "6ba853fb",
   "metadata": {},
   "outputs": [],
   "source": [
    "def conf_matrix(y_test, y_pred):\n",
    "    return metrics.confusion_matrix(y_test, y_pred)\n",
    "    "
   ]
  },
  {
   "cell_type": "code",
   "execution_count": 40,
   "id": "db56c3e6",
   "metadata": {},
   "outputs": [],
   "source": [
    "def accuracy(y_test, y_pred):\n",
    "    return metrics.accuracy_score (y_test, y_pred)\n",
    "    "
   ]
  },
  {
   "cell_type": "markdown",
   "id": "cb277d35",
   "metadata": {},
   "source": [
    "### <p style=\"font-family:JetBrains Mono; font-weight:bold; letter-spacing: 2px; color:#294B8E; font-size:140%; text-align:left;padding: 0px; border-bottom: 3px solid #294B8E\">Logistic Regression</p>"
   ]
  },
  {
   "cell_type": "code",
   "execution_count": 41,
   "id": "7a913308",
   "metadata": {},
   "outputs": [],
   "source": [
    "log_regression = LogisticRegression()\n",
    "\n",
    "#fit the model using the training data\n",
    "log_regression. fit(X_train,y_train)\n",
    "y_pred_log = log_regression.predict(X_test)"
   ]
  },
  {
   "cell_type": "code",
   "execution_count": 42,
   "id": "cefd4e73",
   "metadata": {},
   "outputs": [
    {
     "data": {
      "text/plain": [
       "array([[5194,    0],\n",
       "       [1918,    0]])"
      ]
     },
     "execution_count": 42,
     "metadata": {},
     "output_type": "execute_result"
    }
   ],
   "source": [
    "conf_matrix(y_test, y_pred_log)"
   ]
  },
  {
   "cell_type": "markdown",
   "id": "c999d7a6",
   "metadata": {},
   "source": [
    "<div style=\"border-radius:10px; border:#DEB887 solid; padding: 15px; background-color: #FFFAF0; font-size:100%; text-align:left\"> \n",
    "<ul>\n",
    "<li>Истинно положительных предсказаний: 6723</li>\n",
    "<li>Истинно отрицательные прогнозы: 0</li>\n",
    "<li>Ложноположительные прогнозы: 389</li>\n",
    "<li>Ложноотрицательные прогнозы: 0</li>\n",
    "</ul>"
   ]
  },
  {
   "cell_type": "code",
   "execution_count": 43,
   "id": "33b3a626",
   "metadata": {},
   "outputs": [
    {
     "name": "stdout",
     "output_type": "stream",
     "text": [
      " Accuracy_log: 0.7303149606299213\n"
     ]
    }
   ],
   "source": [
    "print(\" Accuracy_log:\", accuracy(y_test, y_pred_log))"
   ]
  },
  {
   "cell_type": "code",
   "execution_count": 44,
   "id": "c032e05b",
   "metadata": {},
   "outputs": [
    {
     "data": {
      "image/png": "[encoded data removed]",
      "text/plain": [
       "<Figure size 640x480 with 1 Axes>"
      ]
     },
     "metadata": {},
     "output_type": "display_data"
    }
   ],
   "source": [
    "#define metrics\n",
    "y_pred_proba_log = log_regression. predict_proba (X_test)[::,1]\n",
    "fpr, tpr, _ = metrics.roc_curve (y_test, y_pred_proba_log)\n",
    "auc = metrics.roc_auc_score (y_test, y_pred_proba_log)\n",
    "\n",
    "#create ROC curve\n",
    "plt.plot(fpr,tpr,label=\" AUC= \"+str(auc))\n",
    "plt.legend(loc=4)\n",
    "plt.show()"
   ]
  },
  {
   "cell_type": "markdown",
   "id": "6a5e1078",
   "metadata": {},
   "source": [
    "### <p style=\"font-family:JetBrains Mono; font-weight:bold; letter-spacing: 2px; color:#294B8E; font-size:140%; text-align:left;padding: 0px; border-bottom: 3px solid #294B8E\">CatBoost</p>"
   ]
  },
  {
   "cell_type": "code",
   "execution_count": 48,
   "id": "1069cd47",
   "metadata": {},
   "outputs": [
    {
     "name": "stdout",
     "output_type": "stream",
     "text": [
      "Requirement already satisfied: catboost in /Users/moonkerimka/anaconda3/lib/python3.11/site-packages (1.2.2)\n",
      "Requirement already satisfied: graphviz in /Users/moonkerimka/anaconda3/lib/python3.11/site-packages (from catboost) (0.20.1)\n",
      "Requirement already satisfied: matplotlib in /Users/moonkerimka/anaconda3/lib/python3.11/site-packages (from catboost) (3.7.2)\n",
      "Requirement already satisfied: numpy>=1.16.0 in /Users/moonkerimka/anaconda3/lib/python3.11/site-packages (from catboost) (1.24.3)\n",
      "Requirement already satisfied: pandas>=0.24 in /Users/moonkerimka/anaconda3/lib/python3.11/site-packages (from catboost) (2.0.3)\n",
      "Requirement already satisfied: scipy in /Users/moonkerimka/anaconda3/lib/python3.11/site-packages (from catboost) (1.11.1)\n",
      "Requirement already satisfied: plotly in /Users/moonkerimka/anaconda3/lib/python3.11/site-packages (from catboost) (5.9.0)\n",
      "Requirement already satisfied: six in /Users/moonkerimka/anaconda3/lib/python3.11/site-packages (from catboost) (1.16.0)\n",
      "Requirement already satisfied: python-dateutil>=2.8.2 in /Users/moonkerimka/anaconda3/lib/python3.11/site-packages (from pandas>=0.24->catboost) (2.8.2)\n",
      "Requirement already satisfied: pytz>=2020.1 in /Users/moonkerimka/anaconda3/lib/python3.11/site-packages (from pandas>=0.24->catboost) (2023.3.post1)\n",
      "Requirement already satisfied: tzdata>=2022.1 in /Users/moonkerimka/anaconda3/lib/python3.11/site-packages (from pandas>=0.24->catboost) (2023.3)\n",
      "Requirement already satisfied: contourpy>=1.0.1 in /Users/moonkerimka/anaconda3/lib/python3.11/site-packages (from matplotlib->catboost) (1.0.5)\n",
      "Requirement already satisfied: cycler>=0.10 in /Users/moonkerimka/anaconda3/lib/python3.11/site-packages (from matplotlib->catboost) (0.11.0)\n",
      "Requirement already satisfied: fonttools>=4.22.0 in /Users/moonkerimka/anaconda3/lib/python3.11/site-packages (from matplotlib->catboost) (4.25.0)\n",
      "Requirement already satisfied: kiwisolver>=1.0.1 in /Users/moonkerimka/anaconda3/lib/python3.11/site-packages (from matplotlib->catboost) (1.4.4)\n",
      "Requirement already satisfied: packaging>=20.0 in /Users/moonkerimka/anaconda3/lib/python3.11/site-packages (from matplotlib->catboost) (23.1)\n",
      "Requirement already satisfied: pillow>=6.2.0 in /Users/moonkerimka/anaconda3/lib/python3.11/site-packages (from matplotlib->catboost) (9.4.0)\n",
      "Requirement already satisfied: pyparsing<3.1,>=2.3.1 in /Users/moonkerimka/anaconda3/lib/python3.11/site-packages (from matplotlib->catboost) (3.0.9)\n",
      "Requirement already satisfied: tenacity>=6.2.0 in /Users/moonkerimka/anaconda3/lib/python3.11/site-packages (from plotly->catboost) (8.2.2)\n"
     ]
    }
   ],
   "source": [
    "!pip install catboost"
   ]
  },
  {
   "cell_type": "code",
   "execution_count": 49,
   "id": "1598d092",
   "metadata": {},
   "outputs": [
    {
     "name": "stdout",
     "output_type": "stream",
     "text": [
      "0:\tlearn: 0.6860980\ttotal: 86.9ms\tremaining: 17.3s\n",
      "1:\tlearn: 0.6793155\ttotal: 115ms\tremaining: 11.4s\n",
      "2:\tlearn: 0.6726626\ttotal: 142ms\tremaining: 9.31s\n",
      "3:\tlearn: 0.6663718\ttotal: 168ms\tremaining: 8.25s\n",
      "4:\tlearn: 0.6604192\ttotal: 196ms\tremaining: 7.63s\n",
      "5:\tlearn: 0.6549570\ttotal: 227ms\tremaining: 7.33s\n",
      "6:\tlearn: 0.6494768\ttotal: 253ms\tremaining: 6.96s\n",
      "7:\tlearn: 0.6441160\ttotal: 279ms\tremaining: 6.68s\n",
      "8:\tlearn: 0.6395551\ttotal: 306ms\tremaining: 6.49s\n",
      "9:\tlearn: 0.6350521\ttotal: 332ms\tremaining: 6.31s\n",
      "10:\tlearn: 0.6311781\ttotal: 358ms\tremaining: 6.14s\n",
      "11:\tlearn: 0.6269991\ttotal: 382ms\tremaining: 5.99s\n",
      "12:\tlearn: 0.6236254\ttotal: 408ms\tremaining: 5.86s\n",
      "13:\tlearn: 0.6206620\ttotal: 433ms\tremaining: 5.75s\n",
      "14:\tlearn: 0.6173676\ttotal: 458ms\tremaining: 5.65s\n",
      "15:\tlearn: 0.6138636\ttotal: 483ms\tremaining: 5.55s\n",
      "16:\tlearn: 0.6105493\ttotal: 510ms\tremaining: 5.49s\n",
      "17:\tlearn: 0.6082556\ttotal: 535ms\tremaining: 5.41s\n",
      "18:\tlearn: 0.6060208\ttotal: 559ms\tremaining: 5.33s\n",
      "19:\tlearn: 0.6035832\ttotal: 585ms\tremaining: 5.26s\n",
      "20:\tlearn: 0.6016910\ttotal: 610ms\tremaining: 5.2s\n",
      "21:\tlearn: 0.5995948\ttotal: 635ms\tremaining: 5.14s\n",
      "22:\tlearn: 0.5976212\ttotal: 660ms\tremaining: 5.08s\n",
      "23:\tlearn: 0.5954458\ttotal: 687ms\tremaining: 5.04s\n",
      "24:\tlearn: 0.5935890\ttotal: 713ms\tremaining: 4.99s\n",
      "25:\tlearn: 0.5919461\ttotal: 739ms\tremaining: 4.95s\n",
      "26:\tlearn: 0.5903722\ttotal: 766ms\tremaining: 4.91s\n",
      "27:\tlearn: 0.5888254\ttotal: 791ms\tremaining: 4.86s\n",
      "28:\tlearn: 0.5875425\ttotal: 816ms\tremaining: 4.81s\n",
      "29:\tlearn: 0.5862889\ttotal: 841ms\tremaining: 4.77s\n",
      "30:\tlearn: 0.5850508\ttotal: 867ms\tremaining: 4.73s\n",
      "31:\tlearn: 0.5838620\ttotal: 892ms\tremaining: 4.68s\n",
      "32:\tlearn: 0.5828411\ttotal: 918ms\tremaining: 4.64s\n",
      "33:\tlearn: 0.5818092\ttotal: 943ms\tremaining: 4.6s\n",
      "34:\tlearn: 0.5805390\ttotal: 968ms\tremaining: 4.56s\n",
      "35:\tlearn: 0.5794243\ttotal: 993ms\tremaining: 4.53s\n",
      "36:\tlearn: 0.5784828\ttotal: 1.02s\tremaining: 4.49s\n",
      "37:\tlearn: 0.5775374\ttotal: 1.04s\tremaining: 4.45s\n",
      "38:\tlearn: 0.5765125\ttotal: 1.07s\tremaining: 4.42s\n",
      "39:\tlearn: 0.5756392\ttotal: 1.09s\tremaining: 4.38s\n",
      "40:\tlearn: 0.5748398\ttotal: 1.12s\tremaining: 4.34s\n",
      "41:\tlearn: 0.5740432\ttotal: 1.15s\tremaining: 4.31s\n",
      "42:\tlearn: 0.5733285\ttotal: 1.17s\tremaining: 4.28s\n",
      "43:\tlearn: 0.5727985\ttotal: 1.2s\tremaining: 4.24s\n",
      "44:\tlearn: 0.5720490\ttotal: 1.22s\tremaining: 4.21s\n",
      "45:\tlearn: 0.5714631\ttotal: 1.25s\tremaining: 4.17s\n",
      "46:\tlearn: 0.5709509\ttotal: 1.27s\tremaining: 4.14s\n",
      "47:\tlearn: 0.5703079\ttotal: 1.3s\tremaining: 4.11s\n",
      "48:\tlearn: 0.5698934\ttotal: 1.32s\tremaining: 4.07s\n",
      "49:\tlearn: 0.5693933\ttotal: 1.35s\tremaining: 4.04s\n",
      "50:\tlearn: 0.5689609\ttotal: 1.37s\tremaining: 4.01s\n",
      "51:\tlearn: 0.5684930\ttotal: 1.4s\tremaining: 4s\n",
      "52:\tlearn: 0.5680991\ttotal: 1.44s\tremaining: 4s\n",
      "53:\tlearn: 0.5676775\ttotal: 1.47s\tremaining: 3.98s\n",
      "54:\tlearn: 0.5672434\ttotal: 1.5s\tremaining: 3.97s\n",
      "55:\tlearn: 0.5667944\ttotal: 1.53s\tremaining: 3.94s\n",
      "56:\tlearn: 0.5664374\ttotal: 1.56s\tremaining: 3.91s\n",
      "57:\tlearn: 0.5660867\ttotal: 1.59s\tremaining: 3.89s\n",
      "58:\tlearn: 0.5657816\ttotal: 1.62s\tremaining: 3.86s\n",
      "59:\tlearn: 0.5654991\ttotal: 1.64s\tremaining: 3.83s\n",
      "60:\tlearn: 0.5651229\ttotal: 1.67s\tremaining: 3.8s\n",
      "61:\tlearn: 0.5647542\ttotal: 1.69s\tremaining: 3.77s\n",
      "62:\tlearn: 0.5643472\ttotal: 1.72s\tremaining: 3.74s\n",
      "63:\tlearn: 0.5639756\ttotal: 1.75s\tremaining: 3.71s\n",
      "64:\tlearn: 0.5636951\ttotal: 1.77s\tremaining: 3.68s\n",
      "65:\tlearn: 0.5634729\ttotal: 1.8s\tremaining: 3.65s\n",
      "66:\tlearn: 0.5631488\ttotal: 1.82s\tremaining: 3.62s\n",
      "67:\tlearn: 0.5628436\ttotal: 1.85s\tremaining: 3.59s\n",
      "68:\tlearn: 0.5624727\ttotal: 1.88s\tremaining: 3.56s\n",
      "69:\tlearn: 0.5621748\ttotal: 1.9s\tremaining: 3.53s\n",
      "70:\tlearn: 0.5619414\ttotal: 1.93s\tremaining: 3.5s\n",
      "71:\tlearn: 0.5617487\ttotal: 1.95s\tremaining: 3.47s\n",
      "72:\tlearn: 0.5615234\ttotal: 1.98s\tremaining: 3.44s\n",
      "73:\tlearn: 0.5613303\ttotal: 2s\tremaining: 3.41s\n",
      "74:\tlearn: 0.5610682\ttotal: 2.03s\tremaining: 3.38s\n",
      "75:\tlearn: 0.5608699\ttotal: 2.05s\tremaining: 3.35s\n",
      "76:\tlearn: 0.5606700\ttotal: 2.08s\tremaining: 3.32s\n",
      "77:\tlearn: 0.5604880\ttotal: 2.1s\tremaining: 3.29s\n",
      "78:\tlearn: 0.5603499\ttotal: 2.13s\tremaining: 3.26s\n",
      "79:\tlearn: 0.5601440\ttotal: 2.15s\tremaining: 3.23s\n",
      "80:\tlearn: 0.5598838\ttotal: 2.18s\tremaining: 3.2s\n",
      "81:\tlearn: 0.5596547\ttotal: 2.21s\tremaining: 3.17s\n",
      "82:\tlearn: 0.5594713\ttotal: 2.23s\tremaining: 3.14s\n",
      "83:\tlearn: 0.5592940\ttotal: 2.26s\tremaining: 3.12s\n",
      "84:\tlearn: 0.5590812\ttotal: 2.28s\tremaining: 3.09s\n",
      "85:\tlearn: 0.5589356\ttotal: 2.31s\tremaining: 3.06s\n",
      "86:\tlearn: 0.5587532\ttotal: 2.33s\tremaining: 3.03s\n",
      "87:\tlearn: 0.5585297\ttotal: 2.36s\tremaining: 3s\n",
      "88:\tlearn: 0.5584248\ttotal: 2.38s\tremaining: 2.97s\n",
      "89:\tlearn: 0.5583015\ttotal: 2.41s\tremaining: 2.95s\n",
      "90:\tlearn: 0.5581634\ttotal: 2.44s\tremaining: 2.92s\n",
      "91:\tlearn: 0.5580403\ttotal: 2.46s\tremaining: 2.89s\n",
      "92:\tlearn: 0.5579047\ttotal: 2.49s\tremaining: 2.86s\n",
      "93:\tlearn: 0.5577872\ttotal: 2.51s\tremaining: 2.83s\n",
      "94:\tlearn: 0.5576934\ttotal: 2.54s\tremaining: 2.81s\n",
      "95:\tlearn: 0.5575533\ttotal: 2.56s\tremaining: 2.78s\n",
      "96:\tlearn: 0.5573950\ttotal: 2.59s\tremaining: 2.75s\n",
      "97:\tlearn: 0.5572780\ttotal: 2.62s\tremaining: 2.72s\n",
      "98:\tlearn: 0.5571564\ttotal: 2.64s\tremaining: 2.69s\n",
      "99:\tlearn: 0.5569787\ttotal: 2.67s\tremaining: 2.67s\n",
      "100:\tlearn: 0.5568043\ttotal: 2.69s\tremaining: 2.64s\n",
      "101:\tlearn: 0.5566481\ttotal: 2.72s\tremaining: 2.61s\n",
      "102:\tlearn: 0.5565389\ttotal: 2.74s\tremaining: 2.58s\n",
      "103:\tlearn: 0.5563940\ttotal: 2.77s\tremaining: 2.55s\n",
      "104:\tlearn: 0.5562852\ttotal: 2.79s\tremaining: 2.53s\n",
      "105:\tlearn: 0.5561181\ttotal: 2.82s\tremaining: 2.5s\n",
      "106:\tlearn: 0.5560146\ttotal: 2.84s\tremaining: 2.47s\n",
      "107:\tlearn: 0.5559303\ttotal: 2.87s\tremaining: 2.44s\n",
      "108:\tlearn: 0.5557891\ttotal: 2.89s\tremaining: 2.42s\n",
      "109:\tlearn: 0.5557053\ttotal: 2.92s\tremaining: 2.39s\n",
      "110:\tlearn: 0.5556197\ttotal: 2.94s\tremaining: 2.36s\n",
      "111:\tlearn: 0.5555003\ttotal: 2.97s\tremaining: 2.33s\n",
      "112:\tlearn: 0.5553983\ttotal: 3s\tremaining: 2.31s\n",
      "113:\tlearn: 0.5552224\ttotal: 3.02s\tremaining: 2.28s\n",
      "114:\tlearn: 0.5551481\ttotal: 3.05s\tremaining: 2.25s\n",
      "115:\tlearn: 0.5550760\ttotal: 3.07s\tremaining: 2.22s\n",
      "116:\tlearn: 0.5549427\ttotal: 3.1s\tremaining: 2.2s\n",
      "117:\tlearn: 0.5548480\ttotal: 3.12s\tremaining: 2.17s\n",
      "118:\tlearn: 0.5547589\ttotal: 3.15s\tremaining: 2.14s\n",
      "119:\tlearn: 0.5546528\ttotal: 3.17s\tremaining: 2.11s\n",
      "120:\tlearn: 0.5545640\ttotal: 3.2s\tremaining: 2.09s\n",
      "121:\tlearn: 0.5544917\ttotal: 3.22s\tremaining: 2.06s\n",
      "122:\tlearn: 0.5544344\ttotal: 3.25s\tremaining: 2.03s\n",
      "123:\tlearn: 0.5543538\ttotal: 3.27s\tremaining: 2.01s\n",
      "124:\tlearn: 0.5542138\ttotal: 3.3s\tremaining: 1.98s\n",
      "125:\tlearn: 0.5541437\ttotal: 3.33s\tremaining: 1.95s\n",
      "126:\tlearn: 0.5540246\ttotal: 3.35s\tremaining: 1.93s\n",
      "127:\tlearn: 0.5539700\ttotal: 3.38s\tremaining: 1.9s\n",
      "128:\tlearn: 0.5539100\ttotal: 3.4s\tremaining: 1.87s\n",
      "129:\tlearn: 0.5538047\ttotal: 3.43s\tremaining: 1.84s\n",
      "130:\tlearn: 0.5537327\ttotal: 3.45s\tremaining: 1.82s\n",
      "131:\tlearn: 0.5536711\ttotal: 3.48s\tremaining: 1.79s\n",
      "132:\tlearn: 0.5535214\ttotal: 3.5s\tremaining: 1.76s\n",
      "133:\tlearn: 0.5534435\ttotal: 3.53s\tremaining: 1.74s\n",
      "134:\tlearn: 0.5533487\ttotal: 3.55s\tremaining: 1.71s\n",
      "135:\tlearn: 0.5532785\ttotal: 3.58s\tremaining: 1.68s\n",
      "136:\tlearn: 0.5531847\ttotal: 3.6s\tremaining: 1.66s\n",
      "137:\tlearn: 0.5531316\ttotal: 3.63s\tremaining: 1.63s\n",
      "138:\tlearn: 0.5530855\ttotal: 3.65s\tremaining: 1.6s\n",
      "139:\tlearn: 0.5530310\ttotal: 3.68s\tremaining: 1.57s\n",
      "140:\tlearn: 0.5529070\ttotal: 3.7s\tremaining: 1.55s\n",
      "141:\tlearn: 0.5528158\ttotal: 3.73s\tremaining: 1.52s\n",
      "142:\tlearn: 0.5527725\ttotal: 3.75s\tremaining: 1.5s\n",
      "143:\tlearn: 0.5526974\ttotal: 3.78s\tremaining: 1.47s\n",
      "144:\tlearn: 0.5526195\ttotal: 3.8s\tremaining: 1.44s\n",
      "145:\tlearn: 0.5525208\ttotal: 3.83s\tremaining: 1.42s\n",
      "146:\tlearn: 0.5524464\ttotal: 3.85s\tremaining: 1.39s\n",
      "147:\tlearn: 0.5523478\ttotal: 3.88s\tremaining: 1.36s\n",
      "148:\tlearn: 0.5522456\ttotal: 3.9s\tremaining: 1.34s\n",
      "149:\tlearn: 0.5521690\ttotal: 3.93s\tremaining: 1.31s\n",
      "150:\tlearn: 0.5521082\ttotal: 3.95s\tremaining: 1.28s\n",
      "151:\tlearn: 0.5520632\ttotal: 3.98s\tremaining: 1.26s\n",
      "152:\tlearn: 0.5520091\ttotal: 4s\tremaining: 1.23s\n",
      "153:\tlearn: 0.5519336\ttotal: 4.03s\tremaining: 1.2s\n",
      "154:\tlearn: 0.5518279\ttotal: 4.05s\tremaining: 1.18s\n",
      "155:\tlearn: 0.5517822\ttotal: 4.08s\tremaining: 1.15s\n",
      "156:\tlearn: 0.5517177\ttotal: 4.11s\tremaining: 1.12s\n",
      "157:\tlearn: 0.5515954\ttotal: 4.13s\tremaining: 1.1s\n",
      "158:\tlearn: 0.5515177\ttotal: 4.16s\tremaining: 1.07s\n",
      "159:\tlearn: 0.5514603\ttotal: 4.18s\tremaining: 1.04s\n",
      "160:\tlearn: 0.5513834\ttotal: 4.21s\tremaining: 1.02s\n",
      "161:\tlearn: 0.5513394\ttotal: 4.23s\tremaining: 992ms\n",
      "162:\tlearn: 0.5512574\ttotal: 4.25s\tremaining: 966ms\n",
      "163:\tlearn: 0.5511935\ttotal: 4.28s\tremaining: 940ms\n",
      "164:\tlearn: 0.5511450\ttotal: 4.31s\tremaining: 913ms\n",
      "165:\tlearn: 0.5510829\ttotal: 4.33s\tremaining: 887ms\n",
      "166:\tlearn: 0.5510108\ttotal: 4.36s\tremaining: 861ms\n",
      "167:\tlearn: 0.5509410\ttotal: 4.38s\tremaining: 835ms\n"
     ]
    },
    {
     "name": "stdout",
     "output_type": "stream",
     "text": [
      "168:\tlearn: 0.5508652\ttotal: 4.41s\tremaining: 808ms\n",
      "169:\tlearn: 0.5508058\ttotal: 4.43s\tremaining: 782ms\n",
      "170:\tlearn: 0.5507562\ttotal: 4.46s\tremaining: 756ms\n",
      "171:\tlearn: 0.5507039\ttotal: 4.48s\tremaining: 730ms\n",
      "172:\tlearn: 0.5506421\ttotal: 4.51s\tremaining: 703ms\n",
      "173:\tlearn: 0.5505843\ttotal: 4.53s\tremaining: 677ms\n",
      "174:\tlearn: 0.5504733\ttotal: 4.56s\tremaining: 651ms\n",
      "175:\tlearn: 0.5504063\ttotal: 4.58s\tremaining: 625ms\n",
      "176:\tlearn: 0.5503327\ttotal: 4.61s\tremaining: 599ms\n",
      "177:\tlearn: 0.5502798\ttotal: 4.63s\tremaining: 572ms\n",
      "178:\tlearn: 0.5502298\ttotal: 4.66s\tremaining: 546ms\n",
      "179:\tlearn: 0.5501571\ttotal: 4.68s\tremaining: 520ms\n",
      "180:\tlearn: 0.5501063\ttotal: 4.71s\tremaining: 494ms\n",
      "181:\tlearn: 0.5500703\ttotal: 4.73s\tremaining: 468ms\n",
      "182:\tlearn: 0.5500410\ttotal: 4.76s\tremaining: 442ms\n",
      "183:\tlearn: 0.5499901\ttotal: 4.78s\tremaining: 416ms\n",
      "184:\tlearn: 0.5499307\ttotal: 4.8s\tremaining: 390ms\n",
      "185:\tlearn: 0.5498720\ttotal: 4.83s\tremaining: 364ms\n",
      "186:\tlearn: 0.5498216\ttotal: 4.86s\tremaining: 338ms\n",
      "187:\tlearn: 0.5497774\ttotal: 4.88s\tremaining: 312ms\n",
      "188:\tlearn: 0.5497332\ttotal: 4.91s\tremaining: 285ms\n",
      "189:\tlearn: 0.5496738\ttotal: 4.93s\tremaining: 259ms\n",
      "190:\tlearn: 0.5496308\ttotal: 4.96s\tremaining: 233ms\n",
      "191:\tlearn: 0.5495723\ttotal: 4.98s\tremaining: 208ms\n",
      "192:\tlearn: 0.5495259\ttotal: 5s\tremaining: 182ms\n",
      "193:\tlearn: 0.5494807\ttotal: 5.03s\tremaining: 156ms\n",
      "194:\tlearn: 0.5494232\ttotal: 5.05s\tremaining: 130ms\n",
      "195:\tlearn: 0.5493821\ttotal: 5.08s\tremaining: 104ms\n",
      "196:\tlearn: 0.5493406\ttotal: 5.11s\tremaining: 77.7ms\n",
      "197:\tlearn: 0.5492450\ttotal: 5.13s\tremaining: 51.8ms\n",
      "198:\tlearn: 0.5491700\ttotal: 5.16s\tremaining: 25.9ms\n",
      "199:\tlearn: 0.5491140\ttotal: 5.18s\tremaining: 0us\n"
     ]
    }
   ],
   "source": [
    "cb = CatBoostClassifier(random_state=42, iterations=200, learning_rate=0.03, depth=4)\n",
    "cb.fit(X_train, y_train)\n",
    "y_pred_cb = cb.predict(X_test)"
   ]
  },
  {
   "cell_type": "code",
   "execution_count": 68,
   "id": "feae96dd",
   "metadata": {},
   "outputs": [
    {
     "data": {
      "text/plain": [
       "array([[5149,   45],\n",
       "       [1793,  125]])"
      ]
     },
     "execution_count": 68,
     "metadata": {},
     "output_type": "execute_result"
    }
   ],
   "source": [
    "conf_matrix(y_test, y_pred_cb)"
   ]
  },
  {
   "cell_type": "markdown",
   "id": "f16d2aa8",
   "metadata": {},
   "source": [
    "<div style=\"border-radius:10px; border:#DEB887 solid; padding: 15px; background-color: #FFFAF0; font-size:100%; text-align:left\"> \n",
    "<ul>\n",
    "<li>Истинно положительных предсказаний: 5149</li>\n",
    "<li>Истинно отрицательные прогнозы: 45</li>\n",
    "<li>Ложноположительные прогнозы: 1793</li>\n",
    "<li>Ложноотрицательные прогнозы: 125</li>\n",
    "</ul>"
   ]
  },
  {
   "cell_type": "code",
   "execution_count": 51,
   "id": "c7b2d3b7",
   "metadata": {},
   "outputs": [
    {
     "name": "stdout",
     "output_type": "stream",
     "text": [
      " Accuracy_catboost: 0.7415635545556806\n"
     ]
    }
   ],
   "source": [
    "print(\" Accuracy_catboost:\", accuracy(y_test, y_pred_cb))"
   ]
  },
  {
   "cell_type": "code",
   "execution_count": 57,
   "id": "c235db27",
   "metadata": {},
   "outputs": [
    {
     "data": {
      "image/png": "[encoded data removed]",
      "text/plain": [
       "<Figure size 640x480 with 1 Axes>"
      ]
     },
     "metadata": {},
     "output_type": "display_data"
    }
   ],
   "source": [
    "#define metrics\n",
    "y_pred_proba_cb = cb.predict_proba(X_test)[::,1]\n",
    "fpr, tpr, _ = metrics.roc_curve(y_test, y_pred_proba_cb)\n",
    "auc = metrics.roc_auc_score(y_test, y_pred_proba_cb)\n",
    "\n",
    "#create ROC curve\n",
    "plt.plot(fpr,tpr,label=\" AUC= \"+str(auc))\n",
    "plt.legend(loc=4)\n",
    "plt.show()"
   ]
  },
  {
   "cell_type": "markdown",
   "id": "6626b552",
   "metadata": {},
   "source": [
    "<div class=\"alert alert-block alert-info\" style=\"background-color:#FFFAF0;\n",
    "                                                 color:black;\n",
    "                                                 border-color:#DEB887;\n",
    "                                                 border-radius:5px;\n",
    "                                                 width:50%;\n",
    "                                                 margin: auto;\n",
    "                                                 text-align: left;\">\n",
    "\n",
    "<ul>\n",
    "<li>Обучены логистическая регрессия и CatBoost.</li>\n",
    "\n",
    "</ul>\n",
    "</div>"
   ]
  },
  {
   "cell_type": "markdown",
   "id": "3ac048d6",
   "metadata": {},
   "source": [
    "<a id=\"Сравнение-моделей\"></a>\n",
    "<div style=\"padding:20px;\n",
    "            color:white;\n",
    "            margin:10;\n",
    "            font-size:170%;\n",
    "            text-align:left;\n",
    "            display:fill;\n",
    "            border-radius:5px;\n",
    "            background-color:#294B8E;\n",
    "            overflow:hidden;\n",
    "            font-weight:700\"><span style='color:#CDA63A'>|</span> Сравнение моделей</div>"
   ]
  },
  {
   "cell_type": "markdown",
   "id": "4c24c6cf",
   "metadata": {},
   "source": [
    "### <p style=\"font-family:JetBrains Mono; font-weight:bold; letter-spacing: 2px; color:#294B8E; font-size:140%; text-align:left;padding: 0px; border-bottom: 3px solid #294B8E\">Оценка качества исследованных моделей с помощью best_score\n",
    "</p>"
   ]
  },
  {
   "cell_type": "code",
   "execution_count": 53,
   "id": "40950aa7",
   "metadata": {},
   "outputs": [
    {
     "name": "stdout",
     "output_type": "stream",
     "text": [
      "+----+--------------------+------------+\n",
      "|    | Models             |   accuracy |\n",
      "|----+--------------------+------------|\n",
      "|  0 | Logistic Regresion |       0.73 |\n",
      "|  1 | CatBoost           |       0.74 |\n",
      "+----+--------------------+------------+\n"
     ]
    }
   ],
   "source": [
    "data_best_score = {'Models':['Logistic Regresion', 'CatBoost'],\n",
    "     'accuracy': [round(accuracy(y_test, y_pred_log), 2), round(accuracy(y_test, y_pred_cb), 2)]}\n",
    "df_best_score=pd.DataFrame(data_best_score)\n",
    "print(tabulate(df_best_score, headers='keys', tablefmt='psql'))"
   ]
  },
  {
   "cell_type": "markdown",
   "id": "014f0fb4",
   "metadata": {},
   "source": [
    "<div class=\"alert alert-block alert-info\" style=\"background-color:#FFFAF0;\n",
    "                                                 color:black;\n",
    "                                                 border-color:#DEB887;\n",
    "                                                 border-radius:5px;\n",
    "                                                 width:50%;\n",
    "                                                 margin: auto;\n",
    "                                                 text-align: left;\">\n",
    "\n",
    "<ul>\n",
    "<li>CatBoost имеет лучший результат.</li>\n",
    "\n",
    "</ul>\n",
    "</div>"
   ]
  },
  {
   "cell_type": "markdown",
   "id": "a40e7768",
   "metadata": {},
   "source": [
    "<a id=\"Метрика-лучшей-модели\"></a>\n",
    "<div style=\"padding:20px;\n",
    "            color:white;\n",
    "            margin:10;\n",
    "            font-size:170%;\n",
    "            text-align:left;\n",
    "            display:fill;\n",
    "            border-radius:5px;\n",
    "            background-color:#294B8E;\n",
    "            overflow:hidden;\n",
    "            font-weight:700\"><span style='color:#CDA63A'>|</span> Метрика лучшей модели</div>"
   ]
  },
  {
   "cell_type": "code",
   "execution_count": 72,
   "id": "3a845151",
   "metadata": {},
   "outputs": [
    {
     "data": {
      "text/plain": [
       "0.7352941176470589"
      ]
     },
     "execution_count": 72,
     "metadata": {},
     "output_type": "execute_result"
    }
   ],
   "source": [
    "metrics.precision_score(y_test, y_pred_cb)"
   ]
  },
  {
   "cell_type": "markdown",
   "id": "f86dd573",
   "metadata": {},
   "source": [
    "<div class=\"alert alert-block alert-info\" style=\"background-color:#FFFAF0;\n",
    "                                                 color:black;\n",
    "                                                 border-color:#DEB887;\n",
    "                                                 border-radius:5px;\n",
    "                                                 width:50%;\n",
    "                                                 margin: auto;\n",
    "                                                 text-align: left;\">\n",
    "\n",
    "<ul>\n",
    "<li>Выбрана метрика precision способна различать классы между собой, а также она не зависит от баланса классов.</li>\n",
    "\n",
    "</ul>\n",
    "</div>"
   ]
  },
  {
   "cell_type": "markdown",
   "id": "8529726b",
   "metadata": {},
   "source": [
    "<a id=\"Вывод\"></a>\n",
    "<div style=\"padding:20px;\n",
    "            color:white;\n",
    "            margin:10;\n",
    "            font-size:170%;\n",
    "            text-align:left;\n",
    "            display:fill;\n",
    "            border-radius:5px;\n",
    "            background-color:#294B8E;\n",
    "            overflow:hidden;\n",
    "            font-weight:700\"><span style='color:#CDA63A'>|</span> Вывод</div>\n"
   ]
  },
  {
   "cell_type": "markdown",
   "id": "57c7cf2f",
   "metadata": {},
   "source": [
    "<div style=\"border-radius:10px; border:#DEB887 solid; padding: 15px; background-color: #FFFAF0; font-size:100%; text-align:left\">\n",
    "<br>Было проведено исследование, чтобы построить модель<b> обнаружения каверов музыкальных треков</b>.\n",
    "        \n",
    "        \n",
    "<br><b> Входные данные </b> - исторические данные о музыкальных треках.\n",
    "        \n",
    "<br>Проведена предобработка данных.       \n",
    "<br>Удалены неинформативные столбцы, пропуски и дубликаты.\n",
    "<br>Из признака isrc извлечен год присвоения isrc.\n",
    "<br>Признаков title закодирован.    \n",
    "<br>Были обучены модели логистической регрессии и CatBoost. \n",
    "        \n",
    " \n",
    "<br><b>Лучшей моделью является CatBoost, precision = 0.73</b>"
   ]
  }
 ],
 "metadata": {
  "kernelspec": {
   "display_name": "Python 3 (ipykernel)",
   "language": "python",
   "name": "python3"
  },
  "language_info": {
   "codemirror_mode": {
    "name": "ipython",
    "version": 3
   },
   "file_extension": ".py",
   "mimetype": "text/x-python",
   "name": "python",
   "nbconvert_exporter": "python",
   "pygments_lexer": "ipython3",
   "version": "3.11.5"
  }
 },
 "nbformat": 4,
 "nbformat_minor": 5
}
